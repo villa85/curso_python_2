{
 "cells": [
  {
   "cell_type": "markdown",
   "metadata": {},
   "source": [
    "# Ejercicios Propuestos Tema 7: Persistencia de Datos"
   ]
  },
  {
   "cell_type": "markdown",
   "metadata": {},
   "source": [
    "1. Abrir el ficheros Netflix.csv y mostrar las columnas Title, Country, release_year duration y listed_id.  "
   ]
  },
  {
   "cell_type": "markdown",
   "metadata": {},
   "source": [
    "2. Abrir el ficheros Netflix.csv y crear un fichero .txt con todos las peliculas (type=\"Movie\") Title, Country, release_year duration y listed_id."
   ]
  },
  {
   "cell_type": "markdown",
   "metadata": {},
   "source": [
    "3. Abrir el fichero yelp_academic_dataset_business.json y mostrar los siguientes datos correspondientes a state = NV (Nevada):\n",
    "    name, address, city, state y attributes \n",
    "    "
   ]
  },
  {
   "cell_type": "markdown",
   "metadata": {},
   "source": [
    "4. Abrir el fichero yelp_academic_dataset_business.json y genere un fichero .txt, separado por tabulador los siguientes datos correspondientes a state = NY:\n",
    "    name, address, city, state y attributes "
   ]
  },
  {
   "cell_type": "markdown",
   "metadata": {},
   "source": [
    "5. Abrir el fichero recipes.json muestre los datos Name, url, Description y Author"
   ]
  },
  {
   "cell_type": "markdown",
   "metadata": {},
   "source": [
    "6. Abrir el fichero recipes.json guarde la receta (Name, Description, Ingredients y Method) de la receta \"Christmas pie\"\n",
    "en un fichero txt con la siguiente estrcutura:\n",
    "    \n",
    "Receta: <Name>\n",
    "    \n",
    "Descripción: \n",
    "    \n",
    "<Description>\n",
    "    \n",
    "\n",
    "Ingredientes:\n",
    "    \n",
    "<Ingredients 0 >\n",
    "<Ingredients 1 >\n",
    ".\n",
    ".\n",
    ".\n",
    "<Ingredients n >\n",
    "\n",
    "Preparación:\n",
    "    \n",
    "<Method 0 >\n",
    "<Method 1 >\n",
    ".\n",
    ".\n",
    ".\n",
    "<Method n >\n",
    "  \n",
    "\n",
    "    "
   ]
  }
 ],
 "metadata": {
  "kernelspec": {
   "display_name": "Python 3",
   "language": "python",
   "name": "python3"
  },
  "language_info": {
   "codemirror_mode": {
    "name": "ipython",
    "version": 3
   },
   "file_extension": ".py",
   "mimetype": "text/x-python",
   "name": "python",
   "nbconvert_exporter": "python",
   "pygments_lexer": "ipython3",
   "version": "3.8.3"
  }
 },
 "nbformat": 4,
 "nbformat_minor": 4
}
