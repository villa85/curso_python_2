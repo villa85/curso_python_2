{
 "cells": [
  {
   "cell_type": "markdown",
   "metadata": {},
   "source": [
    "# Ejercicios Propuestos Tema 7: Persistencia de Datos"
   ]
  },
  {
   "cell_type": "markdown",
   "metadata": {},
   "source": [
    "1. Abrir el ficheros Netflix.csv y mostrar las columnas Title, Country, release_year duration y listed_id.  "
   ]
  },
  {
   "cell_type": "code",
   "execution_count": null,
   "metadata": {},
   "outputs": [],
   "source": [
    "import csv\n",
    "\n",
    "with open(r\"Netflix.csv\", newline='',encoding='utf-8' ) as File:   # encoding='utf-8'\n",
    "    reader = csv.reader(File, delimiter=';')\n",
    "    # next(reader)\n",
    "    for row in reader:\n",
    "        # print(row)\n",
    "        print(f\"{row[2]} - {row[4]} - {row[6]} - {row[8]} - {row[9]}\")"
   ]
  },
  {
   "cell_type": "markdown",
   "metadata": {},
   "source": [
    "2. Abrir el ficheros Netflix.csv y crear un fichero .txt con todos las peliculas (type=\"Movie\") Title, Country, release_year duration y listed_id."
   ]
  },
  {
   "cell_type": "code",
   "execution_count": null,
   "metadata": {},
   "outputs": [],
   "source": [
    "with open(r\"Netflix.csv\", newline='',encoding='utf-8' ) as csvfile:   # encoding='utf-8'\n",
    "    reader = csv.reader(csvfile, delimiter=';')\n",
    "    with open(\"fichero.txt\", \"w\") as txtfile:\n",
    "        for row in reader:\n",
    "            if row[1] == 'Movie':\n",
    "                print(f\"{row[2]} - {row[4]} - {row[6]} - {row[8]} - {row[9]}\", file=txtfile)"
   ]
  },
  {
   "cell_type": "markdown",
   "metadata": {},
   "source": [
    "3. Abrir el fichero yelp_academic_dataset_business.json y mostrar los siguientes datos correspondientes a state = NV (Nevada):\n",
    "    name, address, city, state y attributes \n",
    "    "
   ]
  },
  {
   "cell_type": "code",
   "execution_count": null,
   "metadata": {},
   "outputs": [],
   "source": [
    "import json\n",
    "\n",
    "file_name = \"data\\\\yelp_academic_dataset_business.json\"\n",
    "\n",
    "with open(file_name, \"r\", encoding = \"utf-8\") as file:\n",
    "    my_file = file.readlines(100000)\n",
    "    mis_datos = []\n",
    "    for linea in my_file:\n",
    "        mis_datos.append(json.loads(linea))\n",
    "    for l in mis_datos:\n",
    "        if l[\"state\"] == \"NV\":\n",
    "            print(f\" {l['name']}, {l['address']}, {l['city']}, {l['state']}, {l['attributes']}\")"
   ]
  },
  {
   "cell_type": "markdown",
   "metadata": {},
   "source": [
    "4. Abrir el fichero yelp_academic_dataset_business.json y genere un fichero .txt, separado por tabulador los siguientes datos correspondientes a state = NY:\n",
    "    name, address, city, state y attributes "
   ]
  },
  {
   "cell_type": "code",
   "execution_count": null,
   "metadata": {},
   "outputs": [],
   "source": [
    "with open(file_name, \"r\", encoding = \"utf-8\") as file:\n",
    "    my_file = file.readlines(100000)\n",
    "    mis_datos = []\n",
    "    for linea in my_file:\n",
    "        mis_datos.append(json.loads(linea))\n",
    "    for l in mis_datos:\n",
    "        if l[\"state\"] == \"NV\":\n",
    "            print(f\" {l['name']}, {l['address']}, {l['city']}, {l['state']}, {l['attributes']}\")"
   ]
  },
  {
   "cell_type": "markdown",
   "metadata": {},
   "source": [
    "5. Abrir el fichero recipes.json muestre los datos Name, url, Description y Author"
   ]
  },
  {
   "cell_type": "code",
   "execution_count": null,
   "metadata": {},
   "outputs": [],
   "source": [
    "file_name = \"recipes.json\"\n",
    "with open(file_name, \"r\", encoding = \"utf-8\") as file:\n",
    "    my_file = file.readlines(100000)\n",
    "    mis_datos = []\n",
    "    for linea in my_file:\n",
    "        mis_datos.append(json.loads(linea))\n",
    "    for l in mis_datos:\n",
    "            print(f\" {l['Name']}, {l['url']}, {l['Description']}, {l['Author']}\")"
   ]
  },
  {
   "cell_type": "markdown",
   "metadata": {},
   "source": [
    "6. Abrir el fichero recipes.json guarde la receta (Name, Description, Ingredients y Method) de la receta \"Christmas pie\"\n",
    "en un fichero txt con la siguiente estrcutura:\n",
    "    \n",
    "Receta: <Name>\n",
    "    \n",
    "Descripción: \n",
    "    \n",
    "<Description>\n",
    "    \n",
    "\n",
    "Ingredientes:\n",
    "    \n",
    "<Ingredients 0 >\n",
    "<Ingredients 1 >\n",
    ".\n",
    ".\n",
    ".\n",
    "<Ingredients n >\n",
    "\n",
    "Preparación:\n",
    "    \n",
    "<Method 0 >\n",
    "<Method 1 >\n",
    ".\n",
    ".\n",
    ".\n",
    "<Method n >\n",
    "  \n",
    "\n",
    "    "
   ]
  },
  {
   "cell_type": "code",
   "execution_count": 20,
   "metadata": {},
   "outputs": [],
   "source": [
    "file_name = \"recipes.json\"\n",
    "with open(file_name, \"r\", encoding = \"utf-8\") as file:\n",
    "    my_file = file.readlines(100000)\n",
    "    mis_datos = []\n",
    "    with open(\"receta.txt\", \"w\") as txtfile:\n",
    "        for linea in my_file:\n",
    "            mis_datos.append(json.loads(linea))\n",
    "        for l in mis_datos:\n",
    "            if l[\"Name\"] == \"Christmas pie\":\n",
    "                print(f\"Receta: {l['Name']}.\", end =\"\\n\", file=txtfile)\n",
    "                print(f\"Descripción: {l['Description']}.\", end =\"\\n\", file=txtfile)\n",
    "                print(f\"Ingredientes: {l['Ingredients']}.\", end =\"\\n\", file=txtfile)\n",
    "                print(f\"Preparación: {l['Method']}.\", end =\"\\n\", file=txtfile)"
   ]
  }
 ],
 "metadata": {
  "kernelspec": {
   "display_name": "Python 3 (ipykernel)",
   "language": "python",
   "name": "python3"
  },
  "language_info": {
   "codemirror_mode": {
    "name": "ipython",
    "version": 3
   },
   "file_extension": ".py",
   "mimetype": "text/x-python",
   "name": "python",
   "nbconvert_exporter": "python",
   "pygments_lexer": "ipython3",
   "version": "3.10.8"
  },
  "toc": {
   "base_numbering": 1,
   "nav_menu": {},
   "number_sections": true,
   "sideBar": true,
   "skip_h1_title": false,
   "title_cell": "Table of Contents",
   "title_sidebar": "Contents",
   "toc_cell": false,
   "toc_position": {},
   "toc_section_display": true,
   "toc_window_display": true
  },
  "varInspector": {
   "cols": {
    "lenName": 16,
    "lenType": 16,
    "lenVar": 40
   },
   "kernels_config": {
    "python": {
     "delete_cmd_postfix": "",
     "delete_cmd_prefix": "del ",
     "library": "var_list.py",
     "varRefreshCmd": "print(var_dic_list())"
    },
    "r": {
     "delete_cmd_postfix": ") ",
     "delete_cmd_prefix": "rm(",
     "library": "var_list.r",
     "varRefreshCmd": "cat(var_dic_list()) "
    }
   },
   "types_to_exclude": [
    "module",
    "function",
    "builtin_function_or_method",
    "instance",
    "_Feature"
   ],
   "window_display": false
  }
 },
 "nbformat": 4,
 "nbformat_minor": 4
}
