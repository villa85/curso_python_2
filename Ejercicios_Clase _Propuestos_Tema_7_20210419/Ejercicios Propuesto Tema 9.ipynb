{
 "cells": [
  {
   "cell_type": "markdown",
   "metadata": {},
   "source": [
    "# Ejercicios Propuestos Tema 9"
   ]
  },
  {
   "cell_type": "markdown",
   "metadata": {},
   "source": [
    "1. Abrir la BBDD dbpokemon.sqlite y realizar las siguientes consultas:\n",
    "    \n",
    "    1. Mostrar los nombres (pokename) únicos de cada pokemón (utilizando distinct)\n",
    "    2. Mostrar todos los pokemon tipo Ground (type1)\n",
    "    3. Mostrar todos los pokemon tipo Ground (type1) y type diferente a None\n",
    "    4. Mostrar los tipos de pokemon que existen (type1) (utilizando distinct)\n",
    "    5. Mostrar los tipos de pokemon que existen (type2) (utilizando distinct)\n",
    "    6. Mostrar todos los pokemon con attack mayor a 100\n",
    "    7. Mostrar todos los pokemon con defense menor a 90\n",
    "    8. Mostrar pokename, type1 y type2 de los pokemon con pokelevel > 40\n",
    "    9. Mostrar los pokename,level, type1 , type2 y nombre del entrenador de los pokemon\n",
    "    10. Mostrar los pokename,level, type1 , type2 del entrenador Ace Duo Jude & Rory\n",
    "    11. Contar cuantos pokemons tiene cada entrenador\n",
    "    12. Contar cuantos pokemon existen por type1 \n",
    "    13. Contar cuantos pokemon existen por type2 \n",
    "    14. Contar cuantos pokemon existen por pokename\n",
    "    15. Contar cuantos pokemon existen por pokename y type1\n",
    "    16. Contar cuantos pokemon existen por pokename y type2"
   ]
  },
  {
   "cell_type": "code",
   "execution_count": null,
   "metadata": {},
   "outputs": [],
   "source": []
  },
  {
   "cell_type": "markdown",
   "metadata": {},
   "source": [
    "2. Utilizando SQLObject crear las clases pokemon y trainer, utilizando los datos de la BBDD dbpokemon.sqlite y realizar las siguientes consultas:\n",
    "    1. Mostrar los nombres (pokename) únicos de cada pokemón (utilizando distinct)\n",
    "    2. Mostrar todos los pokemon tipo Ground (type1)\n",
    "    3. Mostrar todos los pokemon tipo Ground (type1) y type diferente a None\n",
    "    4. Mostrar los tipos de pokemon que existen (type1) (utilizando distinct)\n",
    "    5. Mostrar los tipos de pokemon que existen (type2) (utilizando distinct)\n",
    "    6. Mostrar todos los pokemon con attack mayor a 100\n",
    "    7. Mostrar todos los pokemon con defense menor a 90    "
   ]
  },
  {
   "cell_type": "code",
   "execution_count": null,
   "metadata": {},
   "outputs": [],
   "source": []
  },
  {
   "cell_type": "markdown",
   "metadata": {},
   "source": [
    "3. Abrir la BBDD Futbol.sqlite y realizar las siguientes consultas:\n",
    "    1. Mostrar todas la competiciones por pais (Tabla betfront)\n",
    "    2. Mostrar todas la competiciones por pais (Tabla betfront) del año 2013\n",
    "    3. Mostrar todas la competiciones de España (Tabla betfront) en el 2013\n",
    "    4. Mostrar todos los juegos (MATCH) de la primera division temporada 2012 - 2013 de España\n",
    "    5. Mostrar todos los juegos donde el Home team es \"La Coruna\" Tabla football_data de la ligua de Segunda división\n",
    "    6. Mostrar todos los juegos de la Season 2020-2021 de Primera division, debe mostrar las columnas Datetime, HomeTeam y AwayTeam\n",
    "    7. Mostrar todos los clásicos de la Season 2020-2021 de Primera division\n",
    "    8. Mostrar todos los juegos entre equipos Madrileños de la Season 2020-2021 de Primera division\n",
    "    9. Mostrar todos los juegos de España en la world.cup-2010 y los resultados (Columna FT)"
   ]
  },
  {
   "cell_type": "code",
   "execution_count": null,
   "metadata": {},
   "outputs": [],
   "source": []
  }
 ],
 "metadata": {
  "kernelspec": {
   "display_name": "Python 3 (ipykernel)",
   "language": "python",
   "name": "python3"
  },
  "language_info": {
   "codemirror_mode": {
    "name": "ipython",
    "version": 3
   },
   "file_extension": ".py",
   "mimetype": "text/x-python",
   "name": "python",
   "nbconvert_exporter": "python",
   "pygments_lexer": "ipython3",
   "version": "3.10.8"
  },
  "toc": {
   "base_numbering": 1,
   "nav_menu": {},
   "number_sections": true,
   "sideBar": true,
   "skip_h1_title": false,
   "title_cell": "Table of Contents",
   "title_sidebar": "Contents",
   "toc_cell": false,
   "toc_position": {},
   "toc_section_display": true,
   "toc_window_display": true
  },
  "varInspector": {
   "cols": {
    "lenName": 16,
    "lenType": 16,
    "lenVar": 40
   },
   "kernels_config": {
    "python": {
     "delete_cmd_postfix": "",
     "delete_cmd_prefix": "del ",
     "library": "var_list.py",
     "varRefreshCmd": "print(var_dic_list())"
    },
    "r": {
     "delete_cmd_postfix": ") ",
     "delete_cmd_prefix": "rm(",
     "library": "var_list.r",
     "varRefreshCmd": "cat(var_dic_list()) "
    }
   },
   "types_to_exclude": [
    "module",
    "function",
    "builtin_function_or_method",
    "instance",
    "_Feature"
   ],
   "window_display": true
  }
 },
 "nbformat": 4,
 "nbformat_minor": 4
}
