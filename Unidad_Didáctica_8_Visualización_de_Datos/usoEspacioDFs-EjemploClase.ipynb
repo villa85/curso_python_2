{
 "cells": [
  {
   "cell_type": "markdown",
   "metadata": {},
   "source": [
    "# Optimizar espacio para trabajar con DataFrames\n",
    "\n",
    "Cuando importamos datos de un fichero y los cargamos en un DataFrame, debemos de estar atentos a cómo se guarda la información ya que podría estar usándose más espacio en memoria del necesario."
   ]
  },
  {
   "cell_type": "code",
   "execution_count": 3,
   "metadata": {},
   "outputs": [],
   "source": [
    "import pandas as pd\n",
    "df = pd.read_csv(\"data/datosAImportarConFechas.csv\")"
   ]
  },
  {
   "cell_type": "code",
   "execution_count": 4,
   "metadata": {},
   "outputs": [
    {
     "name": "stdout",
     "output_type": "stream",
     "text": [
      "<class 'pandas.core.frame.DataFrame'>\n",
      "RangeIndex: 100000 entries, 0 to 99999\n",
      "Data columns (total 6 columns):\n",
      " #   Column          Non-Null Count   Dtype  \n",
      "---  ------          --------------   -----  \n",
      " 0   Dia             100000 non-null  object \n",
      " 1   Mes             100000 non-null  object \n",
      " 2   Cantidad        100000 non-null  float64\n",
      " 3   Candidatos      100000 non-null  int64  \n",
      " 4   Tiempo          100000 non-null  object \n",
      " 5   FechaPropuesta  100000 non-null  object \n",
      "dtypes: float64(1), int64(1), object(4)\n",
      "memory usage: 4.6+ MB\n"
     ]
    }
   ],
   "source": [
    "#Exploramos los datos cargados\n",
    "df.info()"
   ]
  },
  {
   "cell_type": "markdown",
   "metadata": {},
   "source": [
    "## Número de filas y Columnas"
   ]
  },
  {
   "cell_type": "code",
   "execution_count": 5,
   "metadata": {},
   "outputs": [],
   "source": [
    "numfilinicial = len(df)\n",
    "numcolinicial = len(df.columns)"
   ]
  },
  {
   "cell_type": "code",
   "execution_count": 6,
   "metadata": {},
   "outputs": [
    {
     "data": {
      "text/plain": [
       "100000"
      ]
     },
     "execution_count": 6,
     "metadata": {},
     "output_type": "execute_result"
    }
   ],
   "source": [
    "numfilinicial"
   ]
  },
  {
   "cell_type": "code",
   "execution_count": 7,
   "metadata": {},
   "outputs": [
    {
     "data": {
      "text/plain": [
       "6"
      ]
     },
     "execution_count": 7,
     "metadata": {},
     "output_type": "execute_result"
    }
   ],
   "source": [
    "numcolinicial"
   ]
  },
  {
   "cell_type": "markdown",
   "metadata": {},
   "source": [
    "memory_usage=\"deep\"\n",
    "Haciendo uso del atributo memory_usage=\"deep\", podemos obtener una información más precisa sobre el espacio que ocupa un DataFrame."
   ]
  },
  {
   "cell_type": "code",
   "execution_count": 8,
   "metadata": {},
   "outputs": [
    {
     "name": "stdout",
     "output_type": "stream",
     "text": [
      "<class 'pandas.core.frame.DataFrame'>\n",
      "RangeIndex: 100000 entries, 0 to 99999\n",
      "Data columns (total 6 columns):\n",
      " #   Column          Non-Null Count   Dtype  \n",
      "---  ------          --------------   -----  \n",
      " 0   Dia             100000 non-null  object \n",
      " 1   Mes             100000 non-null  object \n",
      " 2   Cantidad        100000 non-null  float64\n",
      " 3   Candidatos      100000 non-null  int64  \n",
      " 4   Tiempo          100000 non-null  object \n",
      " 5   FechaPropuesta  100000 non-null  object \n",
      "dtypes: float64(1), int64(1), object(4)\n",
      "memory usage: 26.6 MB\n"
     ]
    }
   ],
   "source": [
    "df.info(memory_usage=\"deep\")"
   ]
  },
  {
   "cell_type": "markdown",
   "metadata": {},
   "source": [
    "Vemos que las columnas de tipo object son las que más ocupan con diferencia. \n",
    "\n",
    "## Vamos a ver cómo optimizar el uso de memoria de cada tipo paso a paso."
   ]
  },
  {
   "cell_type": "code",
   "execution_count": 9,
   "metadata": {},
   "outputs": [
    {
     "data": {
      "text/html": [
       "<div>\n",
       "<style scoped>\n",
       "    .dataframe tbody tr th:only-of-type {\n",
       "        vertical-align: middle;\n",
       "    }\n",
       "\n",
       "    .dataframe tbody tr th {\n",
       "        vertical-align: top;\n",
       "    }\n",
       "\n",
       "    .dataframe thead th {\n",
       "        text-align: right;\n",
       "    }\n",
       "</style>\n",
       "<table border=\"1\" class=\"dataframe\">\n",
       "  <thead>\n",
       "    <tr style=\"text-align: right;\">\n",
       "      <th></th>\n",
       "      <th>Dia</th>\n",
       "      <th>Mes</th>\n",
       "      <th>Cantidad</th>\n",
       "      <th>Candidatos</th>\n",
       "      <th>Tiempo</th>\n",
       "      <th>FechaPropuesta</th>\n",
       "    </tr>\n",
       "  </thead>\n",
       "  <tbody>\n",
       "    <tr>\n",
       "      <th>0</th>\n",
       "      <td>Domingo</td>\n",
       "      <td>Abril</td>\n",
       "      <td>151.148659</td>\n",
       "      <td>15</td>\n",
       "      <td>nieve</td>\n",
       "      <td>2010-4-4</td>\n",
       "    </tr>\n",
       "    <tr>\n",
       "      <th>1</th>\n",
       "      <td>Jueves</td>\n",
       "      <td>Agosto</td>\n",
       "      <td>459.638424</td>\n",
       "      <td>13</td>\n",
       "      <td>nieve</td>\n",
       "      <td>2010-4-18</td>\n",
       "    </tr>\n",
       "    <tr>\n",
       "      <th>2</th>\n",
       "      <td>Jueves</td>\n",
       "      <td>Marzo</td>\n",
       "      <td>519.621128</td>\n",
       "      <td>15</td>\n",
       "      <td>luvia</td>\n",
       "      <td>2010-12-12</td>\n",
       "    </tr>\n",
       "    <tr>\n",
       "      <th>3</th>\n",
       "      <td>Domingo</td>\n",
       "      <td>Julio</td>\n",
       "      <td>52.883518</td>\n",
       "      <td>8</td>\n",
       "      <td>soleado</td>\n",
       "      <td>2010-11-13</td>\n",
       "    </tr>\n",
       "    <tr>\n",
       "      <th>4</th>\n",
       "      <td>Domingo</td>\n",
       "      <td>Octubre</td>\n",
       "      <td>497.774052</td>\n",
       "      <td>8</td>\n",
       "      <td>nublado</td>\n",
       "      <td>2010-4-9</td>\n",
       "    </tr>\n",
       "  </tbody>\n",
       "</table>\n",
       "</div>"
      ],
      "text/plain": [
       "       Dia      Mes    Cantidad  Candidatos   Tiempo FechaPropuesta\n",
       "0  Domingo    Abril  151.148659          15    nieve       2010-4-4\n",
       "1   Jueves   Agosto  459.638424          13    nieve      2010-4-18\n",
       "2   Jueves    Marzo  519.621128          15    luvia     2010-12-12\n",
       "3  Domingo    Julio   52.883518           8  soleado     2010-11-13\n",
       "4  Domingo  Octubre  497.774052           8  nublado       2010-4-9"
      ]
     },
     "execution_count": 9,
     "metadata": {},
     "output_type": "execute_result"
    }
   ],
   "source": [
    "df.head()"
   ]
  },
  {
   "cell_type": "markdown",
   "metadata": {},
   "source": [
    "### Seleccionar un tipo de columna"
   ]
  },
  {
   "cell_type": "code",
   "execution_count": 73,
   "metadata": {},
   "outputs": [
    {
     "data": {
      "text/html": [
       "<div>\n",
       "<style scoped>\n",
       "    .dataframe tbody tr th:only-of-type {\n",
       "        vertical-align: middle;\n",
       "    }\n",
       "\n",
       "    .dataframe tbody tr th {\n",
       "        vertical-align: top;\n",
       "    }\n",
       "\n",
       "    .dataframe thead th {\n",
       "        text-align: right;\n",
       "    }\n",
       "</style>\n",
       "<table border=\"1\" class=\"dataframe\">\n",
       "  <thead>\n",
       "    <tr style=\"text-align: right;\">\n",
       "      <th></th>\n",
       "      <th>Cantidad</th>\n",
       "      <th>Candidatos</th>\n",
       "    </tr>\n",
       "  </thead>\n",
       "  <tbody>\n",
       "    <tr>\n",
       "      <th>0</th>\n",
       "      <td>151.148659</td>\n",
       "      <td>15</td>\n",
       "    </tr>\n",
       "    <tr>\n",
       "      <th>1</th>\n",
       "      <td>459.638424</td>\n",
       "      <td>13</td>\n",
       "    </tr>\n",
       "    <tr>\n",
       "      <th>2</th>\n",
       "      <td>519.621128</td>\n",
       "      <td>15</td>\n",
       "    </tr>\n",
       "    <tr>\n",
       "      <th>3</th>\n",
       "      <td>52.883518</td>\n",
       "      <td>8</td>\n",
       "    </tr>\n",
       "    <tr>\n",
       "      <th>4</th>\n",
       "      <td>497.774052</td>\n",
       "      <td>8</td>\n",
       "    </tr>\n",
       "    <tr>\n",
       "      <th>...</th>\n",
       "      <td>...</td>\n",
       "      <td>...</td>\n",
       "    </tr>\n",
       "    <tr>\n",
       "      <th>99995</th>\n",
       "      <td>375.582302</td>\n",
       "      <td>7</td>\n",
       "    </tr>\n",
       "    <tr>\n",
       "      <th>99996</th>\n",
       "      <td>544.626700</td>\n",
       "      <td>18</td>\n",
       "    </tr>\n",
       "    <tr>\n",
       "      <th>99997</th>\n",
       "      <td>866.428214</td>\n",
       "      <td>4</td>\n",
       "    </tr>\n",
       "    <tr>\n",
       "      <th>99998</th>\n",
       "      <td>492.126995</td>\n",
       "      <td>12</td>\n",
       "    </tr>\n",
       "    <tr>\n",
       "      <th>99999</th>\n",
       "      <td>401.941962</td>\n",
       "      <td>11</td>\n",
       "    </tr>\n",
       "  </tbody>\n",
       "</table>\n",
       "<p>100000 rows × 2 columns</p>\n",
       "</div>"
      ],
      "text/plain": [
       "         Cantidad  Candidatos\n",
       "0      151.148659          15\n",
       "1      459.638424          13\n",
       "2      519.621128          15\n",
       "3       52.883518           8\n",
       "4      497.774052           8\n",
       "...           ...         ...\n",
       "99995  375.582302           7\n",
       "99996  544.626700          18\n",
       "99997  866.428214           4\n",
       "99998  492.126995          12\n",
       "99999  401.941962          11\n",
       "\n",
       "[100000 rows x 2 columns]"
      ]
     },
     "execution_count": 73,
     "metadata": {},
     "output_type": "execute_result"
    }
   ],
   "source": [
    "datos = df.select_dtypes(include=\"number\")\n",
    "datos"
   ]
  },
  {
   "cell_type": "markdown",
   "metadata": {},
   "source": [
    "### Num - Optimizando el espacio que ocupan las columnas de números\n",
    "\n",
    "Tenemos una sola columna de tipo entero, donde podemos observar que se almacenan los números usando 64 bits. Con esta cantidad de bits, podemos representar números muy grandes que quizás no estemos utilizando. Vamos a ver cómo son los datos que almacenamos"
   ]
  },
  {
   "cell_type": "code",
   "execution_count": 10,
   "metadata": {},
   "outputs": [
    {
     "data": {
      "text/plain": [
       "count    100000.000000\n",
       "mean         10.509630\n",
       "std           5.772111\n",
       "min           1.000000\n",
       "25%           5.000000\n",
       "50%          11.000000\n",
       "75%          16.000000\n",
       "max          20.000000\n",
       "Name: Candidatos, dtype: float64"
      ]
     },
     "execution_count": 10,
     "metadata": {},
     "output_type": "execute_result"
    }
   ],
   "source": [
    "df[\"Candidatos\"].describe()"
   ]
  },
  {
   "cell_type": "markdown",
   "metadata": {},
   "source": [
    "Observamos que tenemos números entre 1 y 20. Por tanto, podemos representarlos usando menos información. Para ello, usamos el método to_numeric de pandas y el atributo downcast=\"unsigned\" para especificar números sin signo (ya que todos son positivos). Convertimos las columnas que contienen enteros y vemos el resultado.\n",
    "\n",
    "El método to_numeric con el atributo downcast permite almacenar un número en el tipo más pequeño posible.\n",
    "\n",
    "Si tuviésemos números positivos y negativos, usaríamos la opción integer."
   ]
  },
  {
   "cell_type": "code",
   "execution_count": 18,
   "metadata": {},
   "outputs": [
    {
     "data": {
      "text/plain": [
       "Index(['Dia', 'Mes', 'Cantidad', 'Candidatos', 'Tiempo', 'FechaPropuesta'], dtype='object')"
      ]
     },
     "execution_count": 18,
     "metadata": {},
     "output_type": "execute_result"
    }
   ],
   "source": [
    "df2 = df.copy()\n",
    "df2.columns"
   ]
  },
  {
   "cell_type": "code",
   "execution_count": 19,
   "metadata": {},
   "outputs": [
    {
     "data": {
      "text/plain": [
       "'int64'"
      ]
     },
     "execution_count": 19,
     "metadata": {},
     "output_type": "execute_result"
    }
   ],
   "source": [
    "str(df2['Candidatos'].dtype)"
   ]
  },
  {
   "cell_type": "code",
   "execution_count": 20,
   "metadata": {
    "run_control": {
     "marked": false
    }
   },
   "outputs": [],
   "source": [
    "#reducimos espacio de las columnas de tipo entero\n",
    "df2 = df.copy()\n",
    "for col in df2.columns:            \n",
    "       if \"int\" in str(df2[col].dtype):\n",
    "            df2[col] = pd.to_numeric(df2[col],downcast='unsigned')"
   ]
  },
  {
   "cell_type": "code",
   "execution_count": 21,
   "metadata": {},
   "outputs": [
    {
     "name": "stdout",
     "output_type": "stream",
     "text": [
      "<class 'pandas.core.frame.DataFrame'>\n",
      "RangeIndex: 100000 entries, 0 to 99999\n",
      "Data columns (total 6 columns):\n",
      " #   Column          Non-Null Count   Dtype  \n",
      "---  ------          --------------   -----  \n",
      " 0   Dia             100000 non-null  object \n",
      " 1   Mes             100000 non-null  object \n",
      " 2   Cantidad        100000 non-null  float64\n",
      " 3   Candidatos      100000 non-null  uint8  \n",
      " 4   Tiempo          100000 non-null  object \n",
      " 5   FechaPropuesta  100000 non-null  object \n",
      "dtypes: float64(1), object(4), uint8(1)\n",
      "memory usage: 26.2 MB\n"
     ]
    }
   ],
   "source": [
    "df2.info(memory_usage=\"deep\")"
   ]
  },
  {
   "cell_type": "markdown",
   "metadata": {},
   "source": [
    "Realizamos el mismo proceso con los números en coma flotante usando el valor float para el atributo downcast"
   ]
  },
  {
   "cell_type": "code",
   "execution_count": 26,
   "metadata": {},
   "outputs": [],
   "source": [
    "#reducimos espacio de las columnas de tipo float\n",
    "df3 = df2.copy()\n",
    "for col in df3.columns:            \n",
    "       if \"float\" in str(df3[col].dtype):\n",
    "            df3[col] = pd.to_numeric(df3[col],downcast='float')"
   ]
  },
  {
   "cell_type": "code",
   "execution_count": 30,
   "metadata": {},
   "outputs": [
    {
     "name": "stdout",
     "output_type": "stream",
     "text": [
      "<class 'pandas.core.frame.DataFrame'>\n",
      "Int64Index: 100000 entries, 0 to 99999\n",
      "Data columns (total 6 columns):\n",
      " #   Column          Non-Null Count   Dtype  \n",
      "---  ------          --------------   -----  \n",
      " 0   Dia             100000 non-null  object \n",
      " 1   Mes             100000 non-null  object \n",
      " 2   Cantidad        100000 non-null  float32\n",
      " 3   Candidatos      100000 non-null  uint8  \n",
      " 4   Tiempo          100000 non-null  object \n",
      " 5   FechaPropuesta  100000 non-null  object \n",
      "dtypes: float32(1), object(4), uint8(1)\n",
      "memory usage: 26.6 MB\n"
     ]
    }
   ],
   "source": [
    "df3.info(memory_usage=\"deep\")"
   ]
  },
  {
   "cell_type": "markdown",
   "metadata": {},
   "source": [
    "## OBJ - Reducir espacio del tipo object\n",
    "\n",
    "Tenemos que explorar el tipo para ver cómo podemos reducirlo. Si nos fijamos, está usándose texto para representar una serie de categorías. De hecho, a través de unique podemos ver cuántas categorías distintas tenemos"
   ]
  },
  {
   "cell_type": "code",
   "execution_count": 31,
   "metadata": {},
   "outputs": [
    {
     "data": {
      "text/plain": [
       "array(['Abril', 'Agosto', 'Marzo', 'Julio', 'Octubre', 'Enero',\n",
       "       'Diciembre', 'Septiembre', 'Mayo', 'Noviembre', 'Junio', 'Febrero'],\n",
       "      dtype=object)"
      ]
     },
     "execution_count": 31,
     "metadata": {},
     "output_type": "execute_result"
    }
   ],
   "source": [
    "df3[\"Mes\"].unique()"
   ]
  },
  {
   "cell_type": "code",
   "execution_count": 32,
   "metadata": {},
   "outputs": [
    {
     "data": {
      "text/plain": [
       "array(['Domingo', 'Jueves', 'Viernes', 'Martes', 'Miércoles', 'Lunes',\n",
       "       'Sábado'], dtype=object)"
      ]
     },
     "execution_count": 32,
     "metadata": {},
     "output_type": "execute_result"
    }
   ],
   "source": [
    "df3[\"Dia\"].unique()"
   ]
  },
  {
   "cell_type": "code",
   "execution_count": 33,
   "metadata": {},
   "outputs": [
    {
     "data": {
      "text/plain": [
       "array(['nieve', 'luvia', 'soleado', 'nublado'], dtype=object)"
      ]
     },
     "execution_count": 33,
     "metadata": {},
     "output_type": "execute_result"
    }
   ],
   "source": [
    "df3[\"Tiempo\"].unique()"
   ]
  },
  {
   "cell_type": "markdown",
   "metadata": {},
   "source": [
    "En los tres casos tenemos como mucho 12 valores distintos por categoría. Sería más eficiente guardar la información asociada a la categoría en lugar del texto, que ocupa mucho más. Usando categorías, una columna puede ocupar el mismo espacio que si usásemos enteros. \n",
    "\n",
    "Probemos a convertir las columnas de tipo objeto a categoría."
   ]
  },
  {
   "cell_type": "code",
   "execution_count": 34,
   "metadata": {},
   "outputs": [],
   "source": [
    "df4 = df3.copy()\n",
    "for col in df4.columns: \n",
    "    if col != \"FechaPropuesta\":\n",
    "       if \"object\" in str(df4[col].dtype):\n",
    "            df4[col] = df4[col].astype('category')"
   ]
  },
  {
   "cell_type": "code",
   "execution_count": 36,
   "metadata": {},
   "outputs": [
    {
     "name": "stdout",
     "output_type": "stream",
     "text": [
      "<class 'pandas.core.frame.DataFrame'>\n",
      "Int64Index: 100000 entries, 0 to 99999\n",
      "Data columns (total 6 columns):\n",
      " #   Column          Non-Null Count   Dtype   \n",
      "---  ------          --------------   -----   \n",
      " 0   Dia             100000 non-null  category\n",
      " 1   Mes             100000 non-null  category\n",
      " 2   Cantidad        100000 non-null  float32 \n",
      " 3   Candidatos      100000 non-null  uint8   \n",
      " 4   Tiempo          100000 non-null  category\n",
      " 5   FechaPropuesta  100000 non-null  object  \n",
      "dtypes: category(3), float32(1), object(1), uint8(1)\n",
      "memory usage: 7.8 MB\n"
     ]
    }
   ],
   "source": [
    "df4.info(memory_usage=\"deep\")"
   ]
  },
  {
   "cell_type": "markdown",
   "metadata": {},
   "source": [
    "### Fechas"
   ]
  },
  {
   "cell_type": "code",
   "execution_count": 37,
   "metadata": {},
   "outputs": [],
   "source": [
    "df4[\"FechaPropuesta\"] = pd.to_datetime(df4[\"FechaPropuesta\"])\n",
    "df = df4.copy()"
   ]
  },
  {
   "cell_type": "code",
   "execution_count": 38,
   "metadata": {},
   "outputs": [
    {
     "name": "stdout",
     "output_type": "stream",
     "text": [
      "<class 'pandas.core.frame.DataFrame'>\n",
      "Int64Index: 100000 entries, 0 to 99999\n",
      "Data columns (total 6 columns):\n",
      " #   Column          Non-Null Count   Dtype         \n",
      "---  ------          --------------   -----         \n",
      " 0   Dia             100000 non-null  category      \n",
      " 1   Mes             100000 non-null  category      \n",
      " 2   Cantidad        100000 non-null  float32       \n",
      " 3   Candidatos      100000 non-null  uint8         \n",
      " 4   Tiempo          100000 non-null  category      \n",
      " 5   FechaPropuesta  100000 non-null  datetime64[ns]\n",
      "dtypes: category(3), datetime64[ns](1), float32(1), uint8(1)\n",
      "memory usage: 2.3 MB\n"
     ]
    }
   ],
   "source": [
    "df.info(memory_usage=\"deep\")"
   ]
  },
  {
   "cell_type": "markdown",
   "metadata": {},
   "source": [
    "Calcular la longitud y numeros de columnas finales"
   ]
  },
  {
   "cell_type": "code",
   "execution_count": 39,
   "metadata": {},
   "outputs": [],
   "source": [
    "numfilfinal = len(df)\n",
    "numcolfinal = len(df.columns)\n",
    "\n",
    "dif_filas = numfilinicial - numfilfinal\n",
    "dif_col = numcolinicial - numcolfinal "
   ]
  },
  {
   "cell_type": "code",
   "execution_count": 40,
   "metadata": {},
   "outputs": [
    {
     "data": {
      "text/plain": [
       "0"
      ]
     },
     "execution_count": 40,
     "metadata": {},
     "output_type": "execute_result"
    }
   ],
   "source": [
    "dif_filas"
   ]
  },
  {
   "cell_type": "code",
   "execution_count": 41,
   "metadata": {},
   "outputs": [
    {
     "data": {
      "text/plain": [
       "0"
      ]
     },
     "execution_count": 41,
     "metadata": {},
     "output_type": "execute_result"
    }
   ],
   "source": [
    "dif_col "
   ]
  },
  {
   "cell_type": "markdown",
   "metadata": {},
   "source": [
    "Hemos reducido el uso de memoria de 26.6 MB a 2.3 MB"
   ]
  },
  {
   "cell_type": "code",
   "execution_count": null,
   "metadata": {},
   "outputs": [],
   "source": []
  }
 ],
 "metadata": {
  "kernelspec": {
   "display_name": "Python 3",
   "language": "python",
   "name": "python3"
  },
  "language_info": {
   "codemirror_mode": {
    "name": "ipython",
    "version": 3
   },
   "file_extension": ".py",
   "mimetype": "text/x-python",
   "name": "python",
   "nbconvert_exporter": "python",
   "pygments_lexer": "ipython3",
   "version": "3.8.5"
  },
  "toc": {
   "base_numbering": 1,
   "nav_menu": {},
   "number_sections": true,
   "sideBar": true,
   "skip_h1_title": false,
   "title_cell": "Table of Contents",
   "title_sidebar": "Contents",
   "toc_cell": false,
   "toc_position": {
    "height": "calc(100% - 180px)",
    "left": "10px",
    "top": "150px",
    "width": "219.429px"
   },
   "toc_section_display": true,
   "toc_window_display": false
  },
  "varInspector": {
   "cols": {
    "lenName": 16,
    "lenType": 16,
    "lenVar": 40
   },
   "kernels_config": {
    "python": {
     "delete_cmd_postfix": "",
     "delete_cmd_prefix": "del ",
     "library": "var_list.py",
     "varRefreshCmd": "print(var_dic_list())"
    },
    "r": {
     "delete_cmd_postfix": ") ",
     "delete_cmd_prefix": "rm(",
     "library": "var_list.r",
     "varRefreshCmd": "cat(var_dic_list()) "
    }
   },
   "types_to_exclude": [
    "module",
    "function",
    "builtin_function_or_method",
    "instance",
    "_Feature"
   ],
   "window_display": false
  }
 },
 "nbformat": 4,
 "nbformat_minor": 2
}
