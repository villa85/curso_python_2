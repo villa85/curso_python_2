{
 "cells": [
  {
   "cell_type": "markdown",
   "metadata": {},
   "source": [
    "# Ejercicios Propuestos Tema 7: Persistencia de Datos"
   ]
  },
  {
   "cell_type": "code",
   "execution_count": 3,
   "metadata": {},
   "outputs": [
    {
     "name": "stdout",
     "output_type": "stream",
     "text": [
      "Requirement already satisfied: jupyter_contrib_nbextensions in c:\\users\\villa\\anaconda3\\lib\\site-packages (0.7.0)\n",
      "Requirement already satisfied: traitlets>=4.1 in c:\\users\\villa\\anaconda3\\lib\\site-packages (from jupyter_contrib_nbextensions) (5.7.1)\n",
      "Requirement already satisfied: tornado in c:\\users\\villa\\anaconda3\\lib\\site-packages (from jupyter_contrib_nbextensions) (6.1)\n",
      "Requirement already satisfied: jupyter-nbextensions-configurator>=0.4.0 in c:\\users\\villa\\anaconda3\\lib\\site-packages (from jupyter_contrib_nbextensions) (0.6.3)\n",
      "Requirement already satisfied: ipython-genutils in c:\\users\\villa\\anaconda3\\lib\\site-packages (from jupyter_contrib_nbextensions) (0.2.0)\n",
      "Requirement already satisfied: jupyter-contrib-core>=0.3.3 in c:\\users\\villa\\anaconda3\\lib\\site-packages (from jupyter_contrib_nbextensions) (0.4.2)\n",
      "Requirement already satisfied: jupyter-core in c:\\users\\villa\\anaconda3\\lib\\site-packages (from jupyter_contrib_nbextensions) (5.2.0)\n",
      "Requirement already satisfied: lxml in c:\\users\\villa\\anaconda3\\lib\\site-packages (from jupyter_contrib_nbextensions) (4.9.1)\n",
      "Requirement already satisfied: nbconvert>=6.0 in c:\\users\\villa\\anaconda3\\lib\\site-packages (from jupyter_contrib_nbextensions) (6.5.4)\n",
      "Requirement already satisfied: jupyter-highlight-selected-word>=0.1.1 in c:\\users\\villa\\anaconda3\\lib\\site-packages (from jupyter_contrib_nbextensions) (0.2.0)\n",
      "Requirement already satisfied: notebook>=6.0 in c:\\users\\villa\\anaconda3\\lib\\site-packages (from jupyter_contrib_nbextensions) (6.5.2)\n",
      "Requirement already satisfied: setuptools in c:\\users\\villa\\anaconda3\\lib\\site-packages (from jupyter-contrib-core>=0.3.3->jupyter_contrib_nbextensions) (65.6.3)\n",
      "Requirement already satisfied: pyyaml in c:\\users\\villa\\anaconda3\\lib\\site-packages (from jupyter-nbextensions-configurator>=0.4.0->jupyter_contrib_nbextensions) (6.0)\n",
      "Requirement already satisfied: bleach in c:\\users\\villa\\anaconda3\\lib\\site-packages (from nbconvert>=6.0->jupyter_contrib_nbextensions) (4.1.0)\n",
      "Requirement already satisfied: packaging in c:\\users\\villa\\anaconda3\\lib\\site-packages (from nbconvert>=6.0->jupyter_contrib_nbextensions) (22.0)\n",
      "Requirement already satisfied: beautifulsoup4 in c:\\users\\villa\\anaconda3\\lib\\site-packages (from nbconvert>=6.0->jupyter_contrib_nbextensions) (4.11.1)\n",
      "Requirement already satisfied: nbformat>=5.1 in c:\\users\\villa\\anaconda3\\lib\\site-packages (from nbconvert>=6.0->jupyter_contrib_nbextensions) (5.7.0)\n",
      "Requirement already satisfied: nbclient>=0.5.0 in c:\\users\\villa\\anaconda3\\lib\\site-packages (from nbconvert>=6.0->jupyter_contrib_nbextensions) (0.5.13)\n",
      "Requirement already satisfied: jupyterlab-pygments in c:\\users\\villa\\anaconda3\\lib\\site-packages (from nbconvert>=6.0->jupyter_contrib_nbextensions) (0.1.2)\n",
      "Requirement already satisfied: mistune<2,>=0.8.1 in c:\\users\\villa\\anaconda3\\lib\\site-packages (from nbconvert>=6.0->jupyter_contrib_nbextensions) (0.8.4)\n",
      "Requirement already satisfied: entrypoints>=0.2.2 in c:\\users\\villa\\anaconda3\\lib\\site-packages (from nbconvert>=6.0->jupyter_contrib_nbextensions) (0.4)\n",
      "Requirement already satisfied: jinja2>=3.0 in c:\\users\\villa\\anaconda3\\lib\\site-packages (from nbconvert>=6.0->jupyter_contrib_nbextensions) (3.1.2)\n",
      "Requirement already satisfied: pygments>=2.4.1 in c:\\users\\villa\\anaconda3\\lib\\site-packages (from nbconvert>=6.0->jupyter_contrib_nbextensions) (2.11.2)\n",
      "Requirement already satisfied: defusedxml in c:\\users\\villa\\anaconda3\\lib\\site-packages (from nbconvert>=6.0->jupyter_contrib_nbextensions) (0.7.1)\n",
      "Requirement already satisfied: tinycss2 in c:\\users\\villa\\anaconda3\\lib\\site-packages (from nbconvert>=6.0->jupyter_contrib_nbextensions) (1.2.1)\n",
      "Requirement already satisfied: MarkupSafe>=2.0 in c:\\users\\villa\\anaconda3\\lib\\site-packages (from nbconvert>=6.0->jupyter_contrib_nbextensions) (2.1.1)\n",
      "Requirement already satisfied: pandocfilters>=1.4.1 in c:\\users\\villa\\anaconda3\\lib\\site-packages (from nbconvert>=6.0->jupyter_contrib_nbextensions) (1.5.0)\n",
      "Requirement already satisfied: platformdirs>=2.5 in c:\\users\\villa\\anaconda3\\lib\\site-packages (from jupyter-core->jupyter_contrib_nbextensions) (2.5.2)\n",
      "Requirement already satisfied: pywin32>=1.0 in c:\\users\\villa\\anaconda3\\lib\\site-packages (from jupyter-core->jupyter_contrib_nbextensions) (305.1)\n",
      "Requirement already satisfied: terminado>=0.8.3 in c:\\users\\villa\\anaconda3\\lib\\site-packages (from notebook>=6.0->jupyter_contrib_nbextensions) (0.17.1)\n",
      "Requirement already satisfied: argon2-cffi in c:\\users\\villa\\anaconda3\\lib\\site-packages (from notebook>=6.0->jupyter_contrib_nbextensions) (21.3.0)\n",
      "Requirement already satisfied: Send2Trash>=1.8.0 in c:\\users\\villa\\anaconda3\\lib\\site-packages (from notebook>=6.0->jupyter_contrib_nbextensions) (1.8.0)\n",
      "Requirement already satisfied: prometheus-client in c:\\users\\villa\\anaconda3\\lib\\site-packages (from notebook>=6.0->jupyter_contrib_nbextensions) (0.14.1)\n",
      "Requirement already satisfied: jupyter-client>=5.3.4 in c:\\users\\villa\\anaconda3\\lib\\site-packages (from notebook>=6.0->jupyter_contrib_nbextensions) (7.3.4)\n",
      "Requirement already satisfied: nbclassic>=0.4.7 in c:\\users\\villa\\anaconda3\\lib\\site-packages (from notebook>=6.0->jupyter_contrib_nbextensions) (0.5.2)\n",
      "Requirement already satisfied: nest-asyncio>=1.5 in c:\\users\\villa\\anaconda3\\lib\\site-packages (from notebook>=6.0->jupyter_contrib_nbextensions) (1.5.6)\n",
      "Requirement already satisfied: pyzmq>=17 in c:\\users\\villa\\anaconda3\\lib\\site-packages (from notebook>=6.0->jupyter_contrib_nbextensions) (23.2.0)\n",
      "Requirement already satisfied: ipykernel in c:\\users\\villa\\anaconda3\\lib\\site-packages (from notebook>=6.0->jupyter_contrib_nbextensions) (6.19.2)\n",
      "Requirement already satisfied: python-dateutil>=2.8.2 in c:\\users\\villa\\anaconda3\\lib\\site-packages (from jupyter-client>=5.3.4->notebook>=6.0->jupyter_contrib_nbextensions) (2.8.2)\n",
      "Requirement already satisfied: notebook-shim>=0.1.0 in c:\\users\\villa\\anaconda3\\lib\\site-packages (from nbclassic>=0.4.7->notebook>=6.0->jupyter_contrib_nbextensions) (0.2.2)\n",
      "Requirement already satisfied: jupyter-server>=1.8 in c:\\users\\villa\\anaconda3\\lib\\site-packages (from nbclassic>=0.4.7->notebook>=6.0->jupyter_contrib_nbextensions) (1.23.4)\n",
      "Requirement already satisfied: jsonschema>=2.6 in c:\\users\\villa\\anaconda3\\lib\\site-packages (from nbformat>=5.1->nbconvert>=6.0->jupyter_contrib_nbextensions) (4.17.3)\n",
      "Requirement already satisfied: fastjsonschema in c:\\users\\villa\\anaconda3\\lib\\site-packages (from nbformat>=5.1->nbconvert>=6.0->jupyter_contrib_nbextensions) (2.16.2)\n",
      "Requirement already satisfied: pywinpty>=1.1.0 in c:\\users\\villa\\anaconda3\\lib\\site-packages (from terminado>=0.8.3->notebook>=6.0->jupyter_contrib_nbextensions) (2.0.10)\n",
      "Requirement already satisfied: argon2-cffi-bindings in c:\\users\\villa\\anaconda3\\lib\\site-packages (from argon2-cffi->notebook>=6.0->jupyter_contrib_nbextensions) (21.2.0)\n",
      "Requirement already satisfied: soupsieve>1.2 in c:\\users\\villa\\anaconda3\\lib\\site-packages (from beautifulsoup4->nbconvert>=6.0->jupyter_contrib_nbextensions) (2.3.2.post1)\n",
      "Requirement already satisfied: webencodings in c:\\users\\villa\\anaconda3\\lib\\site-packages (from bleach->nbconvert>=6.0->jupyter_contrib_nbextensions) (0.5.1)\n",
      "Requirement already satisfied: six>=1.9.0 in c:\\users\\villa\\anaconda3\\lib\\site-packages (from bleach->nbconvert>=6.0->jupyter_contrib_nbextensions) (1.16.0)\n",
      "Requirement already satisfied: ipython>=7.23.1 in c:\\users\\villa\\anaconda3\\lib\\site-packages (from ipykernel->notebook>=6.0->jupyter_contrib_nbextensions) (8.10.0)\n",
      "Requirement already satisfied: comm>=0.1.1 in c:\\users\\villa\\anaconda3\\lib\\site-packages (from ipykernel->notebook>=6.0->jupyter_contrib_nbextensions) (0.1.2)\n",
      "Requirement already satisfied: matplotlib-inline>=0.1 in c:\\users\\villa\\anaconda3\\lib\\site-packages (from ipykernel->notebook>=6.0->jupyter_contrib_nbextensions) (0.1.6)\n",
      "Requirement already satisfied: debugpy>=1.0 in c:\\users\\villa\\anaconda3\\lib\\site-packages (from ipykernel->notebook>=6.0->jupyter_contrib_nbextensions) (1.5.1)\n",
      "Requirement already satisfied: psutil in c:\\users\\villa\\anaconda3\\lib\\site-packages (from ipykernel->notebook>=6.0->jupyter_contrib_nbextensions) (5.9.0)\n",
      "Requirement already satisfied: backcall in c:\\users\\villa\\anaconda3\\lib\\site-packages (from ipython>=7.23.1->ipykernel->notebook>=6.0->jupyter_contrib_nbextensions) (0.2.0)\n",
      "Requirement already satisfied: colorama in c:\\users\\villa\\anaconda3\\lib\\site-packages (from ipython>=7.23.1->ipykernel->notebook>=6.0->jupyter_contrib_nbextensions) (0.4.6)\n",
      "Requirement already satisfied: stack-data in c:\\users\\villa\\anaconda3\\lib\\site-packages (from ipython>=7.23.1->ipykernel->notebook>=6.0->jupyter_contrib_nbextensions) (0.2.0)\n",
      "Requirement already satisfied: decorator in c:\\users\\villa\\anaconda3\\lib\\site-packages (from ipython>=7.23.1->ipykernel->notebook>=6.0->jupyter_contrib_nbextensions) (5.1.1)\n",
      "Requirement already satisfied: prompt-toolkit<3.1.0,>=3.0.30 in c:\\users\\villa\\anaconda3\\lib\\site-packages (from ipython>=7.23.1->ipykernel->notebook>=6.0->jupyter_contrib_nbextensions) (3.0.36)\n",
      "Requirement already satisfied: pickleshare in c:\\users\\villa\\anaconda3\\lib\\site-packages (from ipython>=7.23.1->ipykernel->notebook>=6.0->jupyter_contrib_nbextensions) (0.7.5)\n",
      "Requirement already satisfied: jedi>=0.16 in c:\\users\\villa\\anaconda3\\lib\\site-packages (from ipython>=7.23.1->ipykernel->notebook>=6.0->jupyter_contrib_nbextensions) (0.18.1)\n",
      "Requirement already satisfied: pyrsistent!=0.17.0,!=0.17.1,!=0.17.2,>=0.14.0 in c:\\users\\villa\\anaconda3\\lib\\site-packages (from jsonschema>=2.6->nbformat>=5.1->nbconvert>=6.0->jupyter_contrib_nbextensions) (0.18.0)\n",
      "Requirement already satisfied: attrs>=17.4.0 in c:\\users\\villa\\anaconda3\\lib\\site-packages (from jsonschema>=2.6->nbformat>=5.1->nbconvert>=6.0->jupyter_contrib_nbextensions) (22.1.0)\n",
      "Requirement already satisfied: anyio<4,>=3.1.0 in c:\\users\\villa\\anaconda3\\lib\\site-packages (from jupyter-server>=1.8->nbclassic>=0.4.7->notebook>=6.0->jupyter_contrib_nbextensions) (3.5.0)\n",
      "Requirement already satisfied: websocket-client in c:\\users\\villa\\anaconda3\\lib\\site-packages (from jupyter-server>=1.8->nbclassic>=0.4.7->notebook>=6.0->jupyter_contrib_nbextensions) (0.58.0)\n",
      "Requirement already satisfied: cffi>=1.0.1 in c:\\users\\villa\\anaconda3\\lib\\site-packages (from argon2-cffi-bindings->argon2-cffi->notebook>=6.0->jupyter_contrib_nbextensions) (1.15.1)\n",
      "Requirement already satisfied: sniffio>=1.1 in c:\\users\\villa\\anaconda3\\lib\\site-packages (from anyio<4,>=3.1.0->jupyter-server>=1.8->nbclassic>=0.4.7->notebook>=6.0->jupyter_contrib_nbextensions) (1.2.0)\n",
      "Requirement already satisfied: idna>=2.8 in c:\\users\\villa\\anaconda3\\lib\\site-packages (from anyio<4,>=3.1.0->jupyter-server>=1.8->nbclassic>=0.4.7->notebook>=6.0->jupyter_contrib_nbextensions) (3.4)\n",
      "Requirement already satisfied: pycparser in c:\\users\\villa\\anaconda3\\lib\\site-packages (from cffi>=1.0.1->argon2-cffi-bindings->argon2-cffi->notebook>=6.0->jupyter_contrib_nbextensions) (2.21)\n",
      "Requirement already satisfied: parso<0.9.0,>=0.8.0 in c:\\users\\villa\\anaconda3\\lib\\site-packages (from jedi>=0.16->ipython>=7.23.1->ipykernel->notebook>=6.0->jupyter_contrib_nbextensions) (0.8.3)\n",
      "Requirement already satisfied: wcwidth in c:\\users\\villa\\anaconda3\\lib\\site-packages (from prompt-toolkit<3.1.0,>=3.0.30->ipython>=7.23.1->ipykernel->notebook>=6.0->jupyter_contrib_nbextensions) (0.2.5)\n",
      "Requirement already satisfied: asttokens in c:\\users\\villa\\anaconda3\\lib\\site-packages (from stack-data->ipython>=7.23.1->ipykernel->notebook>=6.0->jupyter_contrib_nbextensions) (2.0.5)\n",
      "Requirement already satisfied: pure-eval in c:\\users\\villa\\anaconda3\\lib\\site-packages (from stack-data->ipython>=7.23.1->ipykernel->notebook>=6.0->jupyter_contrib_nbextensions) (0.2.2)\n",
      "Requirement already satisfied: executing in c:\\users\\villa\\anaconda3\\lib\\site-packages (from stack-data->ipython>=7.23.1->ipykernel->notebook>=6.0->jupyter_contrib_nbextensions) (0.8.3)\n",
      "Note: you may need to restart the kernel to use updated packages.\n"
     ]
    }
   ],
   "source": [
    "pip install jupyter_contrib_nbextensions\n"
   ]
  },
  {
   "cell_type": "markdown",
   "metadata": {},
   "source": [
    "1. Abrir el ficheros Netflix.csv y mostrar las columnas Title, Country, release_year duration y listed_id.  "
   ]
  },
  {
   "cell_type": "code",
   "execution_count": null,
   "metadata": {},
   "outputs": [],
   "source": [
    "jupyter contrib nbextension install"
   ]
  },
  {
   "cell_type": "code",
   "execution_count": null,
   "metadata": {},
   "outputs": [],
   "source": [
    "import csv\n",
    "\n",
    "with open(r\"Netflix.csv\", newline='',encoding='utf-8' ) as File:   # encoding='utf-8'\n",
    "    reader = csv.reader(File, delimiter=';')\n",
    "    # next(reader)\n",
    "    for row in reader:\n",
    "        # print(row)\n",
    "        print(f\"{row[2]} - {row[4]} - {row[6]} - {row[8]} - {row[9]}\")"
   ]
  },
  {
   "cell_type": "markdown",
   "metadata": {},
   "source": [
    "2. Abrir el ficheros Netflix.csv y crear un fichero .txt con todos las peliculas (type=\"Movie\") Title, Country, release_year duration y listed_id."
   ]
  },
  {
   "cell_type": "code",
   "execution_count": null,
   "metadata": {},
   "outputs": [],
   "source": [
    "with open(r\"Netflix.csv\", newline='',encoding='utf-8' ) as csvfile:   # encoding='utf-8'\n",
    "    reader = csv.reader(csvfile, delimiter=';')\n",
    "    with open(\"fichero.txt\", \"w\") as txtfile:\n",
    "        for row in reader:\n",
    "            if row[1] == 'Movie':\n",
    "                print(f\"{row[2]} - {row[4]} - {row[6]} - {row[8]} - {row[9]}\", file=txtfile)"
   ]
  },
  {
   "cell_type": "markdown",
   "metadata": {},
   "source": [
    "3. Abrir el fichero yelp_academic_dataset_business.json y mostrar los siguientes datos correspondientes a state = NV (Nevada):\n",
    "    name, address, city, state y attributes \n",
    "    "
   ]
  },
  {
   "cell_type": "code",
   "execution_count": null,
   "metadata": {},
   "outputs": [],
   "source": [
    "import json\n",
    "\n",
    "file_name = \"data\\\\yelp_academic_dataset_business.json\"\n",
    "\n",
    "with open(file_name, \"r\", encoding = \"utf-8\") as file:\n",
    "    my_file = file.readlines(100000)\n",
    "    mis_datos = []\n",
    "    for linea in my_file:\n",
    "        mis_datos.append(json.loads(linea))\n",
    "    for l in mis_datos:\n",
    "        if l[\"state\"] == \"NV\":\n",
    "            print(f\" {l['name']}, {l['address']}, {l['city']}, {l['state']}, {l['attributes']}\")"
   ]
  },
  {
   "cell_type": "markdown",
   "metadata": {},
   "source": [
    "4. Abrir el fichero yelp_academic_dataset_business.json y genere un fichero .txt, separado por tabulador los siguientes datos correspondientes a state = NY:\n",
    "    name, address, city, state y attributes "
   ]
  },
  {
   "cell_type": "code",
   "execution_count": null,
   "metadata": {},
   "outputs": [],
   "source": [
    "with open(file_name, \"r\", encoding = \"utf-8\") as file:\n",
    "    my_file = file.readlines(100000)\n",
    "    mis_datos = []\n",
    "    for linea in my_file:\n",
    "        mis_datos.append(json.loads(linea))\n",
    "    for l in mis_datos:\n",
    "        if l[\"state\"] == \"NV\":\n",
    "            print(f\" {l['name']}, {l['address']}, {l['city']}, {l['state']}, {l['attributes']}\")"
   ]
  },
  {
   "cell_type": "markdown",
   "metadata": {},
   "source": [
    "5. Abrir el fichero recipes.json muestre los datos Name, url, Description y Author"
   ]
  },
  {
   "cell_type": "code",
   "execution_count": null,
   "metadata": {},
   "outputs": [],
   "source": [
    "file_name = \"recipes.json\"\n",
    "with open(file_name, \"r\", encoding = \"utf-8\") as file:\n",
    "    my_file = file.readlines(100000)\n",
    "    mis_datos = []\n",
    "    for linea in my_file:\n",
    "        mis_datos.append(json.loads(linea))\n",
    "    for l in mis_datos:\n",
    "            print(f\" {l['Name']}, {l['url']}, {l['Description']}, {l['Author']}\")"
   ]
  },
  {
   "cell_type": "markdown",
   "metadata": {},
   "source": [
    "6. Abrir el fichero recipes.json guarde la receta (Name, Description, Ingredients y Method) de la receta \"Christmas pie\"\n",
    "en un fichero txt con la siguiente estrcutura:\n",
    "    \n",
    "Receta: <Name>\n",
    "    \n",
    "Descripción: \n",
    "    \n",
    "<Description>\n",
    "    \n",
    "\n",
    "Ingredientes:\n",
    "    \n",
    "<Ingredients 0 >\n",
    "<Ingredients 1 >\n",
    ".\n",
    ".\n",
    ".\n",
    "<Ingredients n >\n",
    "\n",
    "Preparación:\n",
    "    \n",
    "<Method 0 >\n",
    "<Method 1 >\n",
    ".\n",
    ".\n",
    ".\n",
    "<Method n >\n",
    "  \n",
    "\n",
    "    "
   ]
  },
  {
   "cell_type": "code",
   "execution_count": 20,
   "metadata": {},
   "outputs": [],
   "source": [
    "file_name = \"recipes.json\"\n",
    "with open(file_name, \"r\", encoding = \"utf-8\") as file:\n",
    "    my_file = file.readlines(100000)\n",
    "    mis_datos = []\n",
    "    with open(\"receta.txt\", \"w\") as txtfile:\n",
    "        for linea in my_file:\n",
    "            mis_datos.append(json.loads(linea))\n",
    "        for l in mis_datos:\n",
    "            if l[\"Name\"] == \"Christmas pie\":\n",
    "                print(f\"Receta: {l['Name']}.\", end =\"\\n\", file=txtfile)\n",
    "                print(f\"Descripción: {l['Description']}.\", end =\"\\n\", file=txtfile)\n",
    "                print(f\"Ingredientes: {l['Ingredients']}.\", end =\"\\n\", file=txtfile)\n",
    "                print(f\"Preparación: {l['Method']}.\", end =\"\\n\", file=txtfile)"
   ]
  }
 ],
 "metadata": {
  "kernelspec": {
   "display_name": "Python 3 (ipykernel)",
   "language": "python",
   "name": "python3"
  },
  "language_info": {
   "codemirror_mode": {
    "name": "ipython",
    "version": 3
   },
   "file_extension": ".py",
   "mimetype": "text/x-python",
   "name": "python",
   "nbconvert_exporter": "python",
   "pygments_lexer": "ipython3",
   "version": "3.10.9"
  },
  "toc": {
   "base_numbering": 1,
   "nav_menu": {},
   "number_sections": true,
   "sideBar": true,
   "skip_h1_title": false,
   "title_cell": "Table of Contents",
   "title_sidebar": "Contents",
   "toc_cell": false,
   "toc_position": {},
   "toc_section_display": true,
   "toc_window_display": true
  },
  "varInspector": {
   "cols": {
    "lenName": 16,
    "lenType": 16,
    "lenVar": 40
   },
   "kernels_config": {
    "python": {
     "delete_cmd_postfix": "",
     "delete_cmd_prefix": "del ",
     "library": "var_list.py",
     "varRefreshCmd": "print(var_dic_list())"
    },
    "r": {
     "delete_cmd_postfix": ") ",
     "delete_cmd_prefix": "rm(",
     "library": "var_list.r",
     "varRefreshCmd": "cat(var_dic_list()) "
    }
   },
   "types_to_exclude": [
    "module",
    "function",
    "builtin_function_or_method",
    "instance",
    "_Feature"
   ],
   "window_display": false
  }
 },
 "nbformat": 4,
 "nbformat_minor": 4
}
