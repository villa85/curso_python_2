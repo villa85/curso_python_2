{
 "cells": [
  {
   "cell_type": "markdown",
   "metadata": {},
   "source": [
    "# BBDD Relacionales\n",
    "## SQLite3\n"
   ]
  },
  {
   "cell_type": "code",
   "execution_count": 22,
   "metadata": {},
   "outputs": [],
   "source": [
    "import sqlite3\n",
    "from sqlite3 import Error\n",
    "\n",
    "from datetime import datetime\n",
    "\n"
   ]
  },
  {
   "cell_type": "code",
   "execution_count": 23,
   "metadata": {},
   "outputs": [],
   "source": [
    "def create_connection(db_file):\n",
    "    \"\"\" Crea una conexión a una Base de Datos SQLite Local\n",
    "        :parametros db_file: base de datos\n",
    "        :return: el objeto de la conexión a la BBDD o None\n",
    "    \"\"\"\n",
    "    conn = None\n",
    "    try:\n",
    "        conn = sqlite3.connect(db_file)\n",
    "        print(sqlite3.version)\n",
    "    except Error as e:\n",
    "        print(e)\n",
    "        if conn:\n",
    "            conn.close()\n",
    "    return conn\n",
    "\n",
    "def create_connection_memory():\n",
    "    \"\"\" Crea una conexión a una Base de Datos SQLite en Memoria\"\"\"\n",
    "    conn = None;\n",
    "    try:\n",
    "        conn = sqlite3.connect(':memory:')\n",
    "        print(sqlite3.version)\n",
    "    except Error as e:\n",
    "        print(e)\n",
    "        if conn:\n",
    "            conn.close()\n",
    "    return conn\n",
    "\n",
    "def create_table(conn, create_table_sql):\n",
    "    \"\"\" Crear una Table en una BBDD SQLite\n",
    "    :parametro conn: Conexión a la base de datos SQLite\n",
    "    :parametro create_table_sql: La instrucción CREATE TABLE\n",
    "    :return:\n",
    "    \"\"\"\n",
    "    try:\n",
    "        c = conn.cursor()\n",
    "        c.execute(create_table_sql)\n",
    "    except Error as e:\n",
    "        print(e)\n",
    "\n",
    "def create_project(conn, project):\n",
    "    \"\"\"\n",
    "    Inserta un nuevo poryecto en la Tabla Proyectos\n",
    "    :param conn: Conexión a la base de datos SQLite\n",
    "    :param project:\n",
    "    :return: project id\n",
    "    \"\"\"\n",
    "    sql = ''' INSERT INTO proyectos(nombre, f_inicio, f_fin, lider_proyecto, presupuesto)\n",
    "              VALUES(?,?,?,?,?) '''\n",
    "    \n",
    "    cur = conn.cursor()\n",
    "    cur.execute(sql, project)\n",
    "    conn.commit()\n",
    "    return cur.lastrowid\n",
    "\n",
    "def create_task(conn, task):\n",
    "    \"\"\"\n",
    "    Inserta una actividad o tarea en la Tabla actividades\n",
    "    :param conn: Conexión a la base de datos SQLite\n",
    "    :param task:\n",
    "    :return:\n",
    "    \"\"\"\n",
    "\n",
    "    sql = ''' INSERT INTO actividades(nombre_tarea,prioridad,estatus,id_proyecto,f_inicio_t,f_fin_t)\n",
    "              VALUES(?,?,?,?,?,?) '''\n",
    "    cur = conn.cursor()\n",
    "    cur.execute(sql, task)\n",
    "    conn.commit()\n",
    "\n",
    "    return cur.lastrowid\n",
    "\n",
    "\n",
    "def update_task(conn, task):\n",
    "    \"\"\"\n",
    "    Actualiza prioridad, fecha de inicio, fecha fin de una actividad\n",
    "    :param conn: Conexión a la base de datos SQLite\n",
    "    :param task:\n",
    "    :return: project id\n",
    "    \"\"\"\n",
    "    sql = ''' UPDATE actividades\n",
    "              SET prioridad = ? ,\n",
    "                  f_inicio_t = ? ,\n",
    "                  f_fin_t = ?\n",
    "              WHERE id = ?'''\n",
    "    cur = conn.cursor()\n",
    "    cur.execute(sql, task)\n",
    "    conn.commit()\n",
    "\n",
    "def select_all_tasks(conn):\n",
    "    \"\"\"\n",
    "    Muestra todas las actividades de la tabla actividades\n",
    "    :param conn: Conexión a la base de datos SQLite\n",
    "    :return:\n",
    "    \"\"\"\n",
    "    cur = conn.cursor()\n",
    "    cur.execute(\"SELECT * FROM actividades\")\n",
    "\n",
    "    rows = cur.fetchall()\n",
    "\n",
    "    for row in rows:\n",
    "        print(row)\n",
    "        \n",
    "def select_task_by_priority(conn, priority):\n",
    "    \"\"\"\n",
    "    Mostrar todas las actividades por prioridad\n",
    "    :param conn: Conexión a la base de datos SQLite\n",
    "    :param priority:\n",
    "    :return:\n",
    "    \"\"\"\n",
    "    cur = conn.cursor()\n",
    "    cur.execute(\"SELECT * FROM actividades WHERE prioridad=?\", (priority,))\n",
    "\n",
    "    rows = cur.fetchall()\n",
    "\n",
    "    for row in rows:\n",
    "        print(row)\n",
    "        \n",
    "def delete_task(conn, id):\n",
    "    \"\"\"\n",
    "    Borra una actividad por id\n",
    "    :param conn: Conexión a la base de datos SQLite \n",
    "    :param id: id de la tarea\n",
    "    :return:\n",
    "    \"\"\"\n",
    "    sql = 'DELETE FROM actividades WHERE id=?'\n",
    "    cur = conn.cursor()\n",
    "    cur.execute(sql, (id,))\n",
    "    conn.commit()\n",
    "    \n",
    "def delete_all_tasks(conn):\n",
    "    \"\"\"\n",
    "    Borra todas las actividades \n",
    "    :param conn: Conexión a la base de datos SQLite\n",
    "    :return:\n",
    "    \"\"\"\n",
    "    sql = 'DELETE FROM actividades'\n",
    "    cur = conn.cursor()\n",
    "    cur.execute(sql)\n",
    "    conn.commit()\n",
    "    \n",
    "def sql_fetch(conn):\n",
    "    \"\"\"\n",
    "    Muestra todas las tablas de la BBDD\n",
    "    \"\"\"\n",
    "    cursorObj = conn.cursor()\n",
    "    cursorObj.execute('SELECT name from sqlite_master where type= \"table\"')\n",
    "    print(cursorObj.fetchall())\n",
    "\n"
   ]
  },
  {
   "cell_type": "code",
   "execution_count": 24,
   "metadata": {},
   "outputs": [
    {
     "name": "stdout",
     "output_type": "stream",
     "text": [
      "2.6.0\n"
     ]
    }
   ],
   "source": [
    "if __name__ == '__main__':\n",
    "    \n",
    "    database = r'C:\\Users\\msierra\\Desktop\\SQLDatabase\\Proyectos3.db'\n",
    "    \n",
    "    # crear la conexión a la base de datos local\n",
    "    conn = create_connection(database)\n",
    "    \n",
    "    # crear la conexión a la base de datos en memoria\n",
    "    #create_connection_memory()\n",
    "       \n",
    "    # crear las tablas\n",
    "    \n",
    "    \n",
    "    sql_create_projects_table = \"\"\" CREATE TABLE IF NOT EXISTS proyectos (\n",
    "                                        id integer PRIMARY KEY,\n",
    "                                        nombre text NOT NULL,\n",
    "                                        f_inicio text,\n",
    "                                        f_fin text,\n",
    "                                        lider_proyecto text,\n",
    "                                        presupuesto float\n",
    "                                    ); \"\"\"\n",
    "\n",
    "    sql_create_tasks_table = \"\"\"CREATE TABLE IF NOT EXISTS actividades (\n",
    "                                    id integer PRIMARY KEY,\n",
    "                                    nombre_tarea text NOT NULL,\n",
    "                                    prioridad integer,\n",
    "                                    estatus texto NOT NULL,\n",
    "                                    id_proyecto integer NOT NULL,\n",
    "                                    f_inicio_t text NOT NULL,\n",
    "                                    f_fin_t text NOT NULL,\n",
    "                                    FOREIGN KEY (id_proyecto) REFERENCES proyectos (id)\n",
    "                                );\"\"\"\n",
    "    \n",
    "    \n",
    "    if conn is not None:\n",
    "        # create projects table\n",
    "        create_table(conn, sql_create_projects_table)\n",
    "\n",
    "        # create tasks table\n",
    "        create_table(conn, sql_create_tasks_table)\n",
    "    else:\n",
    "        print(\"Error! La conexión a la BBDD no ha sido creada...\")\n",
    "        \n",
    "    # create a new project\n",
    "    project = ( 'PC Refresh', datetime(2020,1,1), datetime(2020,12,31), \"Maria Sierra\", 125000.00);\n",
    "    project_id = create_project(conn, project)    "
   ]
  },
  {
   "cell_type": "code",
   "execution_count": 26,
   "metadata": {},
   "outputs": [
    {
     "name": "stdout",
     "output_type": "stream",
     "text": [
      "[('proyectos',), ('actividades',)]\n"
     ]
    }
   ],
   "source": [
    "sql_fetch(conn)"
   ]
  },
  {
   "cell_type": "code",
   "execution_count": 27,
   "metadata": {},
   "outputs": [
    {
     "name": "stdout",
     "output_type": "stream",
     "text": [
      "(1, 'PC Refresh', '2020-01-01 00:00:00', '2020-12-31 00:00:00', 'Maria Sierra', 125000.0)\n"
     ]
    }
   ],
   "source": [
    "cursor = conn.cursor()\n",
    "cursor.execute('SELECT * FROM proyectos ')\n",
    "\n",
    "rows = cursor.fetchall()\n",
    "for row in rows:\n",
    "    print(row)"
   ]
  },
  {
   "cell_type": "code",
   "execution_count": 28,
   "metadata": {},
   "outputs": [
    {
     "data": {
      "text/plain": [
       "2"
      ]
     },
     "execution_count": 28,
     "metadata": {},
     "output_type": "execute_result"
    }
   ],
   "source": [
    "# tasks\n",
    "task_1 = ('Realizar inventarios de los equipo disponibles', 1, \"En proceso\", project_id, '2015-01-01', '2015-01-02')\n",
    "task_2 = ('Obtener listado de nuevos ingresos', 1, \"En proceso\", project_id, '2015-01-03', '2015-01-05')\n",
    "\n",
    "# create tasks\n",
    "create_task(conn, task_1)\n",
    "create_task(conn, task_2)"
   ]
  },
  {
   "cell_type": "code",
   "execution_count": 29,
   "metadata": {},
   "outputs": [
    {
     "data": {
      "text/plain": [
       "3"
      ]
     },
     "execution_count": 29,
     "metadata": {},
     "output_type": "execute_result"
    }
   ],
   "source": [
    "task_3 = ('Obtener listado de nuevos ingresos', 1, \"En proceso\", project_id, '2015-01-03', '2015-01-05')\n",
    "create_task(conn, task_3)"
   ]
  },
  {
   "cell_type": "code",
   "execution_count": 30,
   "metadata": {},
   "outputs": [
    {
     "data": {
      "text/plain": [
       "4"
      ]
     },
     "execution_count": 30,
     "metadata": {},
     "output_type": "execute_result"
    }
   ],
   "source": [
    "task_4 = ('Obtener listado', 2, \"En proceso\", project_id, '2015-01-03', '2015-01-05')\n",
    "create_task(conn, task_4)"
   ]
  },
  {
   "cell_type": "code",
   "execution_count": 31,
   "metadata": {},
   "outputs": [
    {
     "name": "stdout",
     "output_type": "stream",
     "text": [
      "Mostrar todas las tareas\n",
      "(1, 'Realizar inventarios de los equipo disponibles', 1, 'En proceso', 1, '2015-01-01', '2015-01-02')\n",
      "(2, 'Obtener listado de nuevos ingresos', 1, 'En proceso', 1, '2015-01-03', '2015-01-05')\n",
      "(3, 'Obtener listado de nuevos ingresos', 1, 'En proceso', 1, '2015-01-03', '2015-01-05')\n",
      "(4, 'Obtener listado', 2, 'En proceso', 1, '2015-01-03', '2015-01-05')\n"
     ]
    }
   ],
   "source": [
    "print(\"Mostrar todas las tareas\")\n",
    "select_all_tasks(conn)"
   ]
  },
  {
   "cell_type": "code",
   "execution_count": 32,
   "metadata": {},
   "outputs": [
    {
     "name": "stdout",
     "output_type": "stream",
     "text": [
      "Consultar las tareas por prioridad\n",
      "(1, 'Realizar inventarios de los equipo disponibles', 1, 'En proceso', 1, '2015-01-01', '2015-01-02')\n",
      "(2, 'Obtener listado de nuevos ingresos', 1, 'En proceso', 1, '2015-01-03', '2015-01-05')\n",
      "(3, 'Obtener listado de nuevos ingresos', 1, 'En proceso', 1, '2015-01-03', '2015-01-05')\n"
     ]
    }
   ],
   "source": [
    "print(\"Consultar las tareas por prioridad\")\n",
    "select_task_by_priority(conn, 1)"
   ]
  },
  {
   "cell_type": "code",
   "execution_count": 35,
   "metadata": {},
   "outputs": [
    {
     "name": "stdout",
     "output_type": "stream",
     "text": [
      "Proyecto:  PC Refresh\n",
      "Fecha Inicio:  2020-01-01 00:00:00\n",
      "Fecha Fin:  2020-12-31 00:00:00\n",
      "\n",
      "---------------- Actividades ------------------\n",
      "\n",
      "Obtener listado de nuevos ingresos - En proceso \n",
      "Obtener listado de nuevos ingresos - En proceso \n",
      "Obtener listado - En proceso \n"
     ]
    }
   ],
   "source": [
    "consulta = '''SELECT Proyectos.nombre, Proyectos.f_inicio, Proyectos.f_fin, Actividades.nombre_tarea, Actividades.estatus\n",
    "FROM Proyectos INNER JOIN Actividades ON Proyectos.id = Actividades.id_proyecto;'''\n",
    "\n",
    "cursor = conn.cursor()\n",
    "cursor.execute(consulta)\n",
    "\n",
    "rows = cursor.fetchall()\n",
    "proyecto = \"\"\n",
    "\n",
    "for row in rows:\n",
    "    if proyecto == \"\" or proyecto != row[0]:\n",
    "        print(\"Proyecto: \", row[0])\n",
    "        print(\"Fecha Inicio: \", datetime.strptime(row[1], \"%Y-%m-%d %H:%M:%S\"))\n",
    "        print(\"Fecha Fin: \", datetime.strptime(row[2], \"%Y-%m-%d %H:%M:%S\"))\n",
    "        print(\"\")\n",
    "        print(\"---------------- Actividades ------------------\\n\")\n",
    "        proyecto = row[0]\n",
    "    else:\n",
    "        print(f\"{row[3]} - {row[4]} \")"
   ]
  },
  {
   "cell_type": "code",
   "execution_count": null,
   "metadata": {},
   "outputs": [],
   "source": [
    "# Eliminar actividades\n",
    "delete_task(conn, 2)"
   ]
  },
  {
   "cell_type": "code",
   "execution_count": null,
   "metadata": {},
   "outputs": [],
   "source": [
    "# Eliminar todas las actividades\n",
    "delete_all_tasks(conn)"
   ]
  },
  {
   "cell_type": "code",
   "execution_count": 13,
   "metadata": {},
   "outputs": [],
   "source": [
    "conn.close()"
   ]
  },
  {
   "cell_type": "code",
   "execution_count": null,
   "metadata": {},
   "outputs": [],
   "source": []
  }
 ],
 "metadata": {
  "kernelspec": {
   "display_name": "Python 3 (ipykernel)",
   "language": "python",
   "name": "python3"
  },
  "language_info": {
   "codemirror_mode": {
    "name": "ipython",
    "version": 3
   },
   "file_extension": ".py",
   "mimetype": "text/x-python",
   "name": "python",
   "nbconvert_exporter": "python",
   "pygments_lexer": "ipython3",
   "version": "3.10.8"
  },
  "toc": {
   "base_numbering": 1,
   "nav_menu": {},
   "number_sections": true,
   "sideBar": true,
   "skip_h1_title": false,
   "title_cell": "Table of Contents",
   "title_sidebar": "Contents",
   "toc_cell": false,
   "toc_position": {},
   "toc_section_display": true,
   "toc_window_display": true
  },
  "varInspector": {
   "cols": {
    "lenName": 16,
    "lenType": 16,
    "lenVar": 40
   },
   "kernels_config": {
    "python": {
     "delete_cmd_postfix": "",
     "delete_cmd_prefix": "del ",
     "library": "var_list.py",
     "varRefreshCmd": "print(var_dic_list())"
    },
    "r": {
     "delete_cmd_postfix": ") ",
     "delete_cmd_prefix": "rm(",
     "library": "var_list.r",
     "varRefreshCmd": "cat(var_dic_list()) "
    }
   },
   "types_to_exclude": [
    "module",
    "function",
    "builtin_function_or_method",
    "instance",
    "_Feature"
   ],
   "window_display": false
  }
 },
 "nbformat": 4,
 "nbformat_minor": 4
}
