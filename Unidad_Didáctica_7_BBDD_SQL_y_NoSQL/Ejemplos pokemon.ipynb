{
 "cells": [
  {
   "cell_type": "code",
   "execution_count": null,
   "metadata": {},
   "outputs": [],
   "source": [
    "class Pokemon(object):\n",
    "   \n",
    "    attackingDict = {'fire': {'fire': 0.5, 'grass': 2.0, 'water': 0.5}, 'grass': {'fire': 0.5, 'grass': 0.5, 'water': 2.0}, 'water': {'fire': 2.0, 'grass': 0.5, 'water': 0.5}}\n",
    "    \n",
    "    def __init__(self, name, HP, Damage, type):\n",
    "        self.name = name     #Sets the name of the Pokemon\n",
    "        self.HP = HP         #The Hit Points or health of this pokemon\n",
    "        self.Damage = Damage #The amount of Damage this pokemon does every     attack\n",
    "        self.type = type #Determines the type of the pokmeon to factor in effectiveness\n",
    "\n",
    "    def Battle(self, Opponent):\n",
    "        attackDamage = self.Damage * self.attackingDict[self.type][Opponent.type]\n",
    "\n",
    "        if(self.HP > 0): #While your pokemon is alive it will coninute the Battle\n",
    "            print(\"%s did %d Damage to %s\"%(self.name, attackDamage, Opponent.name)) #Text-based combat descriptors\n",
    "            print(\"%s has %d HP left\"%(Opponent.name,Opponent.HP)) #Text-based descriptor for the opponent's health\n",
    "\n",
    "            Opponent.HP -= attackDamage #The damage you inflict upon the opponent is subtracted here\n",
    "            return Opponent.Battle(self)  #Now the Opponent pokemon attacks\n",
    "        else:\n",
    "            print(\"%s wins! (%d HP left)\" %(Opponent.name, Opponent.HP)) #declares the winner of the Battle\n",
    "            return Opponent, self  #return a tuple (Winner, Loser)\n",
    "\n",
    "\n",
    "Squirtle = Pokemon('Squirtle', 100, 5, 'water')\n",
    "Bulbasaur = Pokemon('Bulbasaur', 100, 10, 'grass')\n",
    "Winner, Loser = Bulbasaur.Battle(Squirtle)"
   ]
  },
  {
   "cell_type": "code",
   "execution_count": null,
   "metadata": {},
   "outputs": [],
   "source": [
    "class Pokemon(object):\n",
    "    def __init__(self,name,hp,damage):\n",
    "        self.name = name     #pokemon name\n",
    "        self.hp = hp         #hit-points of this particular pokemon\n",
    "        self.damage = damage #amount of damage this pokemon does every attack\n",
    "\n",
    "    def fight(self,other):\n",
    "        if(self.hp > 0):\n",
    "            print(\"%s did %d damage to %s\"%(self.name,self.damage,other.name))\n",
    "            print(\"%s has %d hp left\"%(other.name,other.hp))\n",
    "\n",
    "            other.hp -= self.damage\n",
    "            return other.fight(self)  #Now the other pokemon fights back!\n",
    "        else:\n",
    "            print(\"%s wins! (%d hp left)\"%(other.name,other.hp))\n",
    "            return other,self  #return a tuple (winner,loser)\n",
    "\n",
    "pikachu=Pokemon('pikachu', 100, 10)\n",
    "pidgy=Pokemon('pidgy', 200, 12)\n",
    "winner,loser = pidgy.fight(pikachu)"
   ]
  }
 ],
 "metadata": {
  "kernelspec": {
   "display_name": "Python 3 (ipykernel)",
   "language": "python",
   "name": "python3"
  },
  "language_info": {
   "codemirror_mode": {
    "name": "ipython",
    "version": 3
   },
   "file_extension": ".py",
   "mimetype": "text/x-python",
   "name": "python",
   "nbconvert_exporter": "python",
   "pygments_lexer": "ipython3",
   "version": "3.10.8"
  },
  "toc": {
   "base_numbering": 1,
   "nav_menu": {},
   "number_sections": true,
   "sideBar": true,
   "skip_h1_title": false,
   "title_cell": "Table of Contents",
   "title_sidebar": "Contents",
   "toc_cell": false,
   "toc_position": {},
   "toc_section_display": true,
   "toc_window_display": true
  },
  "varInspector": {
   "cols": {
    "lenName": 16,
    "lenType": 16,
    "lenVar": 40
   },
   "kernels_config": {
    "python": {
     "delete_cmd_postfix": "",
     "delete_cmd_prefix": "del ",
     "library": "var_list.py",
     "varRefreshCmd": "print(var_dic_list())"
    },
    "r": {
     "delete_cmd_postfix": ") ",
     "delete_cmd_prefix": "rm(",
     "library": "var_list.r",
     "varRefreshCmd": "cat(var_dic_list()) "
    }
   },
   "types_to_exclude": [
    "module",
    "function",
    "builtin_function_or_method",
    "instance",
    "_Feature"
   ],
   "window_display": false
  }
 },
 "nbformat": 4,
 "nbformat_minor": 4
}
