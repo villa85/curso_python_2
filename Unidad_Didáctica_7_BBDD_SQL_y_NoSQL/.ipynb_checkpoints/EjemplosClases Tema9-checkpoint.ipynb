{
 "cells": [
  {
   "cell_type": "markdown",
   "metadata": {},
   "source": [
    "# Base de Datos Relacionales\n",
    "\n",
    "## SQLite"
   ]
  },
  {
   "cell_type": "code",
   "execution_count": 18,
   "metadata": {},
   "outputs": [],
   "source": [
    "# Librerías\n",
    "\n",
    "import sqlite3\n",
    "\n",
    "PATH_DATA = r'C:\\Users\\msierra\\Desktop\\SQLDatabase'"
   ]
  },
  {
   "cell_type": "code",
   "execution_count": 19,
   "metadata": {},
   "outputs": [
    {
     "name": "stdout",
     "output_type": "stream",
     "text": [
      "Abierta la conexión a la Base de Datos \n"
     ]
    }
   ],
   "source": [
    "# Conectarse a la base de datos\n",
    "\n",
    "conn = sqlite3.connect( PATH_DATA + '\\\\test.db') # Si no existe, creará la base de datos. \n",
    "print(\"Abierta la conexión a la Base de Datos \");"
   ]
  },
  {
   "cell_type": "code",
   "execution_count": 20,
   "metadata": {},
   "outputs": [
    {
     "ename": "OperationalError",
     "evalue": "table COMPANY already exists",
     "output_type": "error",
     "traceback": [
      "\u001b[1;31m---------------------------------------------------------------------------\u001b[0m",
      "\u001b[1;31mOperationalError\u001b[0m                          Traceback (most recent call last)",
      "\u001b[1;32m<ipython-input-20-ca52a08c65b3>\u001b[0m in \u001b[0;36m<module>\u001b[1;34m\u001b[0m\n\u001b[0;32m      1\u001b[0m \u001b[1;31m# Crear una tabla\u001b[0m\u001b[1;33m\u001b[0m\u001b[1;33m\u001b[0m\u001b[1;33m\u001b[0m\u001b[0m\n\u001b[0;32m      2\u001b[0m \u001b[1;33m\u001b[0m\u001b[0m\n\u001b[1;32m----> 3\u001b[1;33m conn.execute('''CREATE TABLE COMPANY\n\u001b[0m\u001b[0;32m      4\u001b[0m          (ID INT PRIMARY KEY     NOT NULL,\n\u001b[0;32m      5\u001b[0m          \u001b[0mNAME\u001b[0m           \u001b[0mTEXT\u001b[0m    \u001b[0mNOT\u001b[0m \u001b[0mNULL\u001b[0m\u001b[1;33m,\u001b[0m\u001b[1;33m\u001b[0m\u001b[1;33m\u001b[0m\u001b[0m\n",
      "\u001b[1;31mOperationalError\u001b[0m: table COMPANY already exists"
     ]
    }
   ],
   "source": [
    "# Crear una tabla\n",
    "\n",
    "conn.execute('''CREATE TABLE COMPANY\n",
    "         (ID INT PRIMARY KEY     NOT NULL,\n",
    "         NAME           TEXT    NOT NULL,\n",
    "         AGE            INT     NOT NULL,\n",
    "         ADDRESS        CHAR(50),\n",
    "         SALARY         REAL);''')\n",
    "print(\"Tabla creada...\");\n"
   ]
  },
  {
   "cell_type": "code",
   "execution_count": null,
   "metadata": {},
   "outputs": [],
   "source": [
    "# Insertar registros (INSERT INTO)\n",
    "\n",
    "conn.execute(\"INSERT INTO COMPANY (ID,NAME,AGE,ADDRESS,SALARY) \\\n",
    "      VALUES (1, 'Paul', 32, 'California', 20000.00 )\");\n",
    "\n",
    "conn.execute(\"INSERT INTO COMPANY (ID,NAME,AGE,ADDRESS,SALARY) \\\n",
    "      VALUES (2, 'Allen', 25, 'Texas', 15000.00 )\");\n",
    "\n",
    "conn.execute(\"INSERT INTO COMPANY (ID,NAME,AGE,ADDRESS,SALARY) \\\n",
    "      VALUES (3, 'Teddy', 23, 'Norway', 20000.00 )\");\n",
    "\n",
    "conn.execute(\"INSERT INTO COMPANY (ID,NAME,AGE,ADDRESS,SALARY) \\\n",
    "      VALUES (4, 'Mark', 25, 'Rich-Mond ', 65000.00 )\");\n",
    "\n",
    "conn.commit()  # Este método confirma la transacción actual \n",
    "\n",
    "print(\"Registros creados...\");"
   ]
  },
  {
   "cell_type": "code",
   "execution_count": 21,
   "metadata": {},
   "outputs": [
    {
     "name": "stdout",
     "output_type": "stream",
     "text": [
      "(1, 'Paul', 32, 'California', 25000.0)\n",
      "(2, 'Allen', 25, 'Texas', 15000.0)\n",
      "(3, 'Teddy', 23, 'Norway', 20000.0)\n",
      "(4, 'Mark', 25, 'Rich-Mond ', 65000.0)\n",
      "(5, 'Peter', 32, 'California', 20000.0)\n",
      "(6, 'Peter', 32, 'California', 20000.0)\n"
     ]
    }
   ],
   "source": [
    "# Muestra todos los registros de la tabla COMPANY\n",
    "cursor = conn.execute('SELECT * FROM COMPANY')\n",
    "rows = cursor.fetchall() # recupera todas las filas del resultado de una consulta y devuelve una lista\n",
    "for row in rows:\n",
    "    print(row)"
   ]
  },
  {
   "cell_type": "code",
   "execution_count": 24,
   "metadata": {},
   "outputs": [
    {
     "name": "stdout",
     "output_type": "stream",
     "text": [
      "-----------------------------\n",
      "NAME =  Paul\n",
      "ADDRESS =  California\n",
      "SALARY =  25000.0\n",
      "-----------------------------\n",
      "NAME =  Allen\n",
      "ADDRESS =  Texas\n",
      "SALARY =  15000.0\n",
      "-----------------------------\n",
      "NAME =  Teddy\n",
      "ADDRESS =  Norway\n",
      "SALARY =  20000.0\n",
      "-----------------------------\n",
      "NAME =  Mark\n",
      "ADDRESS =  Rich-Mond \n",
      "SALARY =  65000.0\n",
      "-----------------------------\n",
      "NAME =  Peter\n",
      "ADDRESS =  California\n",
      "SALARY =  20000.0\n",
      "-----------------------------\n",
      "NAME =  Peter\n",
      "ADDRESS =  California\n",
      "SALARY =  20000.0\n",
      "-----------------------------\n"
     ]
    }
   ],
   "source": [
    "# Muestra todos los registros, únicamente las columnas name, address y salary\n",
    "\n",
    "cursor = conn.execute(\"SELECT name, address, salary from COMPANY\")\n",
    "print(\"-----------------------------\")\n",
    "for row in cursor:\n",
    "    print(\"NAME = \", row[0])\n",
    "    print(\"ADDRESS = \", row[1])\n",
    "    print(\"SALARY = \", row[2])\n",
    "    print(\"-----------------------------\")\n"
   ]
  },
  {
   "cell_type": "code",
   "execution_count": 5,
   "metadata": {},
   "outputs": [
    {
     "name": "stdout",
     "output_type": "stream",
     "text": [
      "-----------------------------\n",
      "NAME =  Paul\n",
      "ADDRESS =  California\n",
      "SALARY =  20000.0\n",
      "-----------------------------\n",
      "NAME =  Peter\n",
      "ADDRESS =  California\n",
      "SALARY =  20000.0\n",
      "-----------------------------\n",
      "NAME =  Peter\n",
      "ADDRESS =  California\n",
      "SALARY =  20000.0\n",
      "-----------------------------\n"
     ]
    }
   ],
   "source": [
    "# Muestra los registros donde dirección sea igual a California\n",
    "\n",
    "cursor = conn.execute(\"SELECT name, address, salary from COMPANY WHERE address = 'California'\")\n",
    "print(\"-----------------------------\")\n",
    "for row in cursor:\n",
    "    print(\"NAME = \", row[0])\n",
    "    print(\"ADDRESS = \", row[1])\n",
    "    print(\"SALARY = \", row[2])\n",
    "    print(\"-----------------------------\")"
   ]
  },
  {
   "cell_type": "code",
   "execution_count": 6,
   "metadata": {},
   "outputs": [
    {
     "name": "stdout",
     "output_type": "stream",
     "text": [
      "-----------------------------\n",
      "NAME =  Paul\n",
      "ADDRESS =  California\n",
      "SALARY =  20000.0\n",
      "-----------------------------\n",
      "NAME =  Allen\n",
      "ADDRESS =  Texas\n",
      "SALARY =  15000.0\n",
      "-----------------------------\n",
      "NAME =  Teddy\n",
      "ADDRESS =  Norway\n",
      "SALARY =  20000.0\n",
      "-----------------------------\n",
      "NAME =  Peter\n",
      "ADDRESS =  California\n",
      "SALARY =  20000.0\n",
      "-----------------------------\n",
      "NAME =  Peter\n",
      "ADDRESS =  California\n",
      "SALARY =  20000.0\n",
      "-----------------------------\n"
     ]
    }
   ],
   "source": [
    "# Muestra los registros donde el salario sea menor o igual a 20000\n",
    "\n",
    "cursor = conn.execute(\"SELECT name, address, salary from COMPANY WHERE salary <= 20000\")\n",
    "print(\"-----------------------------\")\n",
    "for row in cursor:\n",
    "    print(\"NAME = \", row[0])\n",
    "    print(\"ADDRESS = \", row[1])\n",
    "    print(\"SALARY = \", row[2])\n",
    "    print(\"-----------------------------\")"
   ]
  },
  {
   "cell_type": "code",
   "execution_count": 7,
   "metadata": {},
   "outputs": [
    {
     "name": "stdout",
     "output_type": "stream",
     "text": [
      "-----------------------------\n",
      "NAME =  1\n",
      "ADDRESS =  Paul\n",
      "SALARY =  32\n",
      "-----------------------------\n",
      "NAME =  2\n",
      "ADDRESS =  Allen\n",
      "SALARY =  25\n",
      "-----------------------------\n"
     ]
    }
   ],
   "source": [
    "cursor = conn.execute(\"SELECT * from COMPANY LIMIT 2\")\n",
    "print(\"-----------------------------\")\n",
    "for row in cursor:\n",
    "    print(\"NAME = \", row[0])\n",
    "    print(\"ADDRESS = \", row[1])\n",
    "    print(\"SALARY = \", row[2])\n",
    "    print(\"-----------------------------\")"
   ]
  },
  {
   "cell_type": "code",
   "execution_count": 8,
   "metadata": {},
   "outputs": [
    {
     "name": "stdout",
     "output_type": "stream",
     "text": [
      "(2, 'Allen', 25, 'Texas', 15000.0)\n",
      "(1, 'Paul', 32, 'California', 20000.0)\n",
      "(3, 'Teddy', 23, 'Norway', 20000.0)\n",
      "(5, 'Peter', 32, 'California', 20000.0)\n",
      "(6, 'Peter', 32, 'California', 20000.0)\n",
      "(4, 'Mark', 25, 'Rich-Mond ', 65000.0)\n"
     ]
    }
   ],
   "source": [
    "cursor = conn.execute('SELECT * FROM COMPANY ORDER BY SALARY ASC') # Todos los registros ordenados por Salario \n",
    "rows = cursor.fetchall() \n",
    "for row in rows:\n",
    "    print(row)"
   ]
  },
  {
   "cell_type": "code",
   "execution_count": 12,
   "metadata": {},
   "outputs": [],
   "source": [
    "conn.execute(\"INSERT INTO COMPANY (ID,NAME,AGE,ADDRESS,SALARY) \\\n",
    "      VALUES (6, 'Peter', 32, 'California', 20000.00 )\");\n",
    "conn.commit()"
   ]
  },
  {
   "cell_type": "code",
   "execution_count": 9,
   "metadata": {},
   "outputs": [
    {
     "name": "stdout",
     "output_type": "stream",
     "text": [
      "(2, 'Allen', 25, 'Texas', 15000.0)\n",
      "(4, 'Mark', 25, 'Rich-Mond ', 65000.0)\n",
      "(1, 'Paul', 32, 'California', 20000.0)\n",
      "(5, 'Peter', 32, 'California', 20000.0)\n",
      "(6, 'Peter', 32, 'California', 20000.0)\n",
      "(3, 'Teddy', 23, 'Norway', 20000.0)\n"
     ]
    }
   ],
   "source": [
    "cursor = conn.execute('SELECT * FROM COMPANY ORDER BY NAME, SALARY ASC') # Todos los registros ordenados por Nombre y Salario \n",
    "rows = cursor.fetchall() \n",
    "for row in rows:\n",
    "    print(row)"
   ]
  },
  {
   "cell_type": "code",
   "execution_count": 10,
   "metadata": {},
   "outputs": [
    {
     "name": "stdout",
     "output_type": "stream",
     "text": [
      "('Allen', 15000.0)\n",
      "('Mark', 65000.0)\n",
      "('Paul', 20000.0)\n",
      "('Peter', 40000.0)\n",
      "('Teddy', 20000.0)\n"
     ]
    }
   ],
   "source": [
    "# Muestra la suma de los salarios agrupados por nombre\n",
    "\n",
    "cursor = conn.execute('SELECT NAME, SUM(SALARY) FROM COMPANY GROUP BY NAME;') # Todos los registros ordenados por Nombre y Salario \n",
    "rows = cursor.fetchall() \n",
    "for row in rows:\n",
    "    print(row)"
   ]
  },
  {
   "cell_type": "code",
   "execution_count": null,
   "metadata": {},
   "outputs": [],
   "source": [
    "conn.execute(\"INSERT INTO COMPANY (ID,NAME,AGE,ADDRESS,SALARY) \\\n",
    "      VALUES (5, 'Peter', 32, 'California', 20000.00 )\");\n",
    "conn.commit()"
   ]
  },
  {
   "cell_type": "code",
   "execution_count": 11,
   "metadata": {},
   "outputs": [
    {
     "name": "stdout",
     "output_type": "stream",
     "text": [
      "('Texas', 1)\n",
      "('Rich-Mond ', 1)\n",
      "('California', 3)\n",
      "('Norway', 1)\n"
     ]
    }
   ],
   "source": [
    "# Muestra la cantidad personas por Address\n",
    "\n",
    "cursor = conn.execute('SELECT ADDRESS, COUNT(NAME) FROM COMPANY GROUP BY ADDRESS ORDER BY NAME') # Todos los registros ordenados por Nombre y Salario \n",
    "rows = cursor.fetchall() \n",
    "for row in rows:\n",
    "    print(row)"
   ]
  },
  {
   "cell_type": "code",
   "execution_count": 12,
   "metadata": {},
   "outputs": [
    {
     "name": "stdout",
     "output_type": "stream",
     "text": [
      "('California', 3)\n"
     ]
    }
   ],
   "source": [
    "# Muestra las direcciones con mas de 2 empleados\n",
    "\n",
    "cursor = conn.execute('SELECT address, count(name) FROM COMPANY GROUP BY address HAVING count(address) > 2 ') \n",
    "rows = cursor.fetchall() \n",
    "for row in rows:\n",
    "    print(row)"
   ]
  },
  {
   "cell_type": "code",
   "execution_count": 13,
   "metadata": {},
   "outputs": [
    {
     "name": "stdout",
     "output_type": "stream",
     "text": [
      "('California',)\n",
      "('Texas',)\n",
      "('Norway',)\n",
      "('Rich-Mond ',)\n"
     ]
    }
   ],
   "source": [
    "# Muestra los registros únicos en dirección\n",
    "\n",
    "cursor = conn.execute('SELECT DISTINCT address FROM COMPANY') \n",
    "rows = cursor.fetchall() \n",
    "for row in rows:\n",
    "    print(row)"
   ]
  },
  {
   "cell_type": "code",
   "execution_count": 14,
   "metadata": {},
   "outputs": [
    {
     "name": "stdout",
     "output_type": "stream",
     "text": [
      "Nombre Paul, Dirección: California, Salario 20000.0\n",
      "Nombre Allen, Dirección: Texas, Salario 15000.0\n",
      "Nombre Teddy, Dirección: Norway, Salario 20000.0\n",
      "Nombre Mark, Dirección: Rich-Mond , Salario 65000.0\n",
      "Nombre Peter, Dirección: California, Salario 20000.0\n",
      "Nombre Peter, Dirección: California, Salario 20000.0\n"
     ]
    }
   ],
   "source": [
    "# Muestra todos los registros de la tabla COMPANY - sqlite3.Row\n",
    "\n",
    "cursor = conn.execute('SELECT * FROM COMPANY')\n",
    "cursor.row_factory = sqlite3.Row\n",
    "rows_f = cursor.fetchall() # recupera todas las filas del resultado de una consulta y devuelve una lista\n",
    "for row in rows_f:\n",
    "    print(f'Nombre {row[\"name\"]}, Dirección: {row[\"address\"]}, Salario {row[\"salary\"]}')"
   ]
  },
  {
   "cell_type": "code",
   "execution_count": 15,
   "metadata": {},
   "outputs": [
    {
     "name": "stdout",
     "output_type": "stream",
     "text": [
      "Nombre Paul con Salario 20000.0\n",
      "Nombre Allen con Salario 15000.0\n",
      "Nombre Teddy con Salario 20000.0\n",
      "Nombre Mark con Salario 65000.0\n",
      "Nombre Peter con Salario 20000.0\n",
      "Nombre Peter con Salario 20000.0\n"
     ]
    }
   ],
   "source": [
    "# Muestra todos los registros de la tabla COMPANY\n",
    "\n",
    "cursor = conn.execute('SELECT * FROM COMPANY')\n",
    "cursor.row_factory = lambda cur, reg: 'Nombre {} con Salario {}'.format(reg[1], reg[4])\n",
    "rows_f = cursor.fetchall() \n",
    "for row in rows_f :\n",
    "    print(row)"
   ]
  },
  {
   "cell_type": "code",
   "execution_count": 26,
   "metadata": {},
   "outputs": [
    {
     "name": "stdout",
     "output_type": "stream",
     "text": [
      "(1, 'Paul', 32, 'California', 25000.0)\n",
      "(5, 'Peter', 32, 'California', 20000.0)\n",
      "(6, 'Peter', 32, 'California', 20000.0)\n"
     ]
    }
   ],
   "source": [
    "# Muestra todos los registros de la tabla COMPANY donde los nombres de los clientes comiencen por P\n",
    "\n",
    "cursor = conn.execute(\"SELECT * FROM COMPANY WHERE name LIKE 'P%'\")\n",
    "rows_f = cursor.fetchall() \n",
    "for row in rows_f :\n",
    "    print(row) \n"
   ]
  },
  {
   "cell_type": "code",
   "execution_count": 16,
   "metadata": {},
   "outputs": [
    {
     "name": "stdout",
     "output_type": "stream",
     "text": [
      "[('COMPANY',)]\n"
     ]
    }
   ],
   "source": [
    "# Muestra todas las tablas de la BBDD\n",
    "\n",
    "cursorObj = conn.cursor()\n",
    "cursorObj.execute('SELECT name from sqlite_master where type= \"table\"')\n",
    "print(cursorObj.fetchall())\n"
   ]
  },
  {
   "cell_type": "code",
   "execution_count": 17,
   "metadata": {},
   "outputs": [
    {
     "name": "stdout",
     "output_type": "stream",
     "text": [
      "Total de registros actualizados:  1\n",
      "(1, 'Paul', 32, 'California', 25000.0)\n",
      "(2, 'Allen', 25, 'Texas', 15000.0)\n",
      "(3, 'Teddy', 23, 'Norway', 20000.0)\n",
      "(4, 'Mark', 25, 'Rich-Mond ', 65000.0)\n",
      "(5, 'Peter', 32, 'California', 20000.0)\n",
      "(6, 'Peter', 32, 'California', 20000.0)\n"
     ]
    }
   ],
   "source": [
    "# Actualiza el salario de los empleados con ID = 1\n",
    "\n",
    "conn.execute(\"UPDATE COMPANY set SALARY = 25000.00 where ID = 1\")\n",
    "conn.commit()\n",
    "\n",
    "print(\"Total de registros actualizados: \", conn.total_changes)\n",
    "\n",
    "cursor = conn.execute('SELECT * FROM COMPANY')\n",
    "rows = cursor.fetchall() # recupera todas las filas del resultado de una consulta y devuelve una lista\n",
    "for row in rows:\n",
    "    print(row)\n"
   ]
  },
  {
   "cell_type": "code",
   "execution_count": null,
   "metadata": {},
   "outputs": [],
   "source": [
    "# Elimina el empleado con ID = 2\n",
    "\n",
    "conn.execute(\"DELETE from COMPANY where ID = 2;\")\n",
    "conn.commit()\n",
    "print(\"Total registros eliminados: \", conn.total_changes)\n",
    "\n",
    "cursor = conn.execute('SELECT * FROM COMPANY')\n",
    "rows = cursor.fetchall() # recupera todas las filas del resultado de una consulta y devuelve una lista\n",
    "for row in rows:\n",
    "    print(row)"
   ]
  },
  {
   "cell_type": "code",
   "execution_count": null,
   "metadata": {},
   "outputs": [],
   "source": [
    "conn.execute(\"DROP TABLE if exists COMPANY;\")"
   ]
  },
  {
   "cell_type": "code",
   "execution_count": null,
   "metadata": {},
   "outputs": [],
   "source": [
    "conn.execute(\"DROP TABLE COMPANY;\")"
   ]
  },
  {
   "cell_type": "code",
   "execution_count": null,
   "metadata": {},
   "outputs": [],
   "source": [
    "# Muestra todas las tablas\n",
    "\n",
    "cursorObj = conn.cursor()\n",
    "cursorObj.execute('SELECT name from sqlite_master where type= \"table\"')\n",
    "print(cursorObj.fetchall())"
   ]
  },
  {
   "cell_type": "code",
   "execution_count": null,
   "metadata": {},
   "outputs": [],
   "source": [
    "conn.close() # Antes de cerrar confirma todas las tranasacciones"
   ]
  },
  {
   "cell_type": "code",
   "execution_count": null,
   "metadata": {},
   "outputs": [],
   "source": [
    "with obtenerConexion() as conexion:\n",
    "    try:\n",
    "        cursor = conexion.cursor()\n",
    "        ## Ejecutamos operaciones de actualización ... ##\n",
    "        conexion.commit() # confirmamos las operaciones y se inicia otra transacción\n",
    "    except Exception:\n",
    "        conexion.rollback() # se cancelan todas las operaciones\n",
    "    finally:\n",
    "        cursor.close()\n"
   ]
  },
  {
   "cell_type": "markdown",
   "metadata": {},
   "source": [
    "### Conexiones ODBC\n",
    "\n",
    "pip install pyodbc "
   ]
  },
  {
   "cell_type": "code",
   "execution_count": 1,
   "metadata": {},
   "outputs": [],
   "source": [
    "import pyodbc"
   ]
  },
  {
   "cell_type": "code",
   "execution_count": 2,
   "metadata": {},
   "outputs": [
    {
     "data": {
      "text/plain": [
       "['SQL Server']"
      ]
     },
     "execution_count": 2,
     "metadata": {},
     "output_type": "execute_result"
    }
   ],
   "source": [
    "pyodbc.drivers()"
   ]
  },
  {
   "cell_type": "code",
   "execution_count": 35,
   "metadata": {},
   "outputs": [
    {
     "data": {
      "text/plain": [
       "'C:\\\\Users\\\\msierra\\\\Desktop\\\\My Curso Python\\\\EntornoVirtual\\\\Ejercicios\\\\Ejemplos Clase\\\\Proyectos.accdb'"
      ]
     },
     "execution_count": 35,
     "metadata": {},
     "output_type": "execute_result"
    }
   ],
   "source": [
    "DB_PATH"
   ]
  },
  {
   "cell_type": "markdown",
   "metadata": {},
   "source": [
    "# SQLObject "
   ]
  },
  {
   "cell_type": "code",
   "execution_count": 1,
   "metadata": {},
   "outputs": [],
   "source": [
    "from sqlobject import *\n",
    "import os\n",
    "from datetime import datetime"
   ]
  },
  {
   "cell_type": "code",
   "execution_count": 2,
   "metadata": {},
   "outputs": [
    {
     "data": {
      "text/plain": [
       "'C:\\\\Users\\\\msierra\\\\Desktop\\\\SQLDatabase'"
      ]
     },
     "execution_count": 2,
     "metadata": {},
     "output_type": "execute_result"
    }
   ],
   "source": [
    "PATH_DATA = r'C:\\Users\\msierra\\Desktop\\SQLDatabase'\n",
    "PATH_DATA"
   ]
  },
  {
   "cell_type": "code",
   "execution_count": 3,
   "metadata": {},
   "outputs": [],
   "source": [
    "# La crea en Memoria\n",
    "\n",
    "cadenaURI = 'sqlite:/:memory:'\n",
    "conexion = connectionForURI(cadenaURI)\n",
    "sqlhub.processConnection = conexion"
   ]
  },
  {
   "cell_type": "code",
   "execution_count": 3,
   "metadata": {},
   "outputs": [],
   "source": [
    "# La crea en disco\n",
    "\n",
    "db_filename = os.path.abspath(PATH_DATA + '\\Clientes2.db')\n",
    "connection_string = 'sqlite:' + db_filename\n",
    "connection = connectionForURI(connection_string)\n",
    "sqlhub.processConnection = connection"
   ]
  },
  {
   "cell_type": "code",
   "execution_count": 5,
   "metadata": {},
   "outputs": [],
   "source": [
    "class Person(SQLObject):\n",
    "    firstName = StringCol()\n",
    "    middleInitial = StringCol(length=1, default=None)\n",
    "    lastName = StringCol()"
   ]
  },
  {
   "cell_type": "code",
   "execution_count": 6,
   "metadata": {},
   "outputs": [],
   "source": [
    "Person.createTable(ifNotExists=True)"
   ]
  },
  {
   "cell_type": "code",
   "execution_count": 4,
   "metadata": {},
   "outputs": [],
   "source": [
    "class Cliente(SQLObject):\n",
    "    nombre = StringCol(length=100, default='', alternateID=True)  # Unico, not null y metodo byNombre\n",
    "    direccion = StringCol()\n",
    "    telefono = StringCol()"
   ]
  },
  {
   "cell_type": "code",
   "execution_count": 7,
   "metadata": {},
   "outputs": [],
   "source": [
    "class Cliente(SQLObject):\n",
    "    class sqlmeta:\n",
    "        fromDatabase = True\n",
    "    nombre = StringCol(length=100, default='', alternateID=True)  # Unico, not null y metodo byNombre\n",
    "    direccion = StringCol()\n",
    "    telefono = StringCol()"
   ]
  },
  {
   "cell_type": "code",
   "execution_count": 5,
   "metadata": {},
   "outputs": [],
   "source": [
    "if not Cliente.tableExists():\n",
    "    Cliente.createTable()"
   ]
  },
  {
   "cell_type": "code",
   "execution_count": 6,
   "metadata": {},
   "outputs": [],
   "source": [
    "c1 = Cliente(nombre='Maria', direccion=\"Ronda de Nelle\", telefono = \"444444444\")"
   ]
  },
  {
   "cell_type": "code",
   "execution_count": 7,
   "metadata": {},
   "outputs": [
    {
     "data": {
      "text/plain": [
       "<Cliente 1 nombre='Maria' direccion='Ronda de Nelle' telefono='444444444'>"
      ]
     },
     "execution_count": 7,
     "metadata": {},
     "output_type": "execute_result"
    }
   ],
   "source": [
    "c1"
   ]
  },
  {
   "cell_type": "code",
   "execution_count": 8,
   "metadata": {},
   "outputs": [
    {
     "data": {
      "text/plain": [
       "True"
      ]
     },
     "execution_count": 8,
     "metadata": {},
     "output_type": "execute_result"
    }
   ],
   "source": [
    "c1 = Cliente.get(1)\n",
    "c2 = Cliente.get(1)\n",
    "\n",
    "c1 is c2"
   ]
  },
  {
   "cell_type": "code",
   "execution_count": 9,
   "metadata": {},
   "outputs": [
    {
     "data": {
      "text/plain": [
       "'Maria'"
      ]
     },
     "execution_count": 9,
     "metadata": {},
     "output_type": "execute_result"
    }
   ],
   "source": [
    "c1.nombre"
   ]
  },
  {
   "cell_type": "code",
   "execution_count": 10,
   "metadata": {},
   "outputs": [
    {
     "data": {
      "text/plain": [
       "'Ronda de Nelle'"
      ]
     },
     "execution_count": 10,
     "metadata": {},
     "output_type": "execute_result"
    }
   ],
   "source": [
    "c1.direccion"
   ]
  },
  {
   "cell_type": "code",
   "execution_count": 11,
   "metadata": {},
   "outputs": [],
   "source": [
    "c1.nombre = \"Maria del Carmen\""
   ]
  },
  {
   "cell_type": "code",
   "execution_count": 12,
   "metadata": {},
   "outputs": [
    {
     "data": {
      "text/plain": [
       "<Cliente 2 nombre='Ana' direccion='Primera Ronda' telefono='44555554'>"
      ]
     },
     "execution_count": 12,
     "metadata": {},
     "output_type": "execute_result"
    }
   ],
   "source": [
    "c3 = Cliente(nombre='Ana', direccion=\"Primera Ronda\", telefono = \"44555554\")\n",
    "c3"
   ]
  },
  {
   "cell_type": "code",
   "execution_count": 13,
   "metadata": {},
   "outputs": [
    {
     "data": {
      "text/plain": [
       "<Cliente 2 nombre='Ana' direccion='Primera Ronda' telefono='44555554'>"
      ]
     },
     "execution_count": 13,
     "metadata": {},
     "output_type": "execute_result"
    }
   ],
   "source": [
    "c3 = Cliente.byNombre('Ana')\n",
    "c3"
   ]
  },
  {
   "cell_type": "code",
   "execution_count": 14,
   "metadata": {},
   "outputs": [
    {
     "data": {
      "text/plain": [
       "<Cliente 2 nombre='Ana Lucia' direccion='Avenida A' telefono='44555554'>"
      ]
     },
     "execution_count": 14,
     "metadata": {},
     "output_type": "execute_result"
    }
   ],
   "source": [
    "## Modificar varias columnas\n",
    "\n",
    "c3.set(nombre='Ana Lucia', direccion='Avenida A')\n",
    "c3"
   ]
  },
  {
   "cell_type": "code",
   "execution_count": 15,
   "metadata": {},
   "outputs": [],
   "source": [
    "## Deshabilita la actualización inmediata\n",
    "\n",
    "Cliente.sqlmeta.lazyUpdate= True"
   ]
  },
  {
   "cell_type": "code",
   "execution_count": 16,
   "metadata": {},
   "outputs": [],
   "source": [
    "maria = Cliente.get(1)\n",
    "maria.nombre = 'MariCarmen'"
   ]
  },
  {
   "cell_type": "code",
   "execution_count": 17,
   "metadata": {},
   "outputs": [],
   "source": [
    "if maria.sqlmeta.dirty:  # busca los cambios pendientes\n",
    "    maria.sync()"
   ]
  },
  {
   "cell_type": "code",
   "execution_count": 22,
   "metadata": {},
   "outputs": [],
   "source": [
    "Cliente.sqlmeta.lazyUpdate= False"
   ]
  },
  {
   "cell_type": "code",
   "execution_count": 23,
   "metadata": {},
   "outputs": [],
   "source": [
    "Cliente.delete(1)"
   ]
  },
  {
   "cell_type": "code",
   "execution_count": 24,
   "metadata": {},
   "outputs": [],
   "source": [
    "Cliente.deleteBy(nombre='Ana')"
   ]
  },
  {
   "cell_type": "code",
   "execution_count": null,
   "metadata": {},
   "outputs": [],
   "source": [
    "Cliente.deleteMany(Cliente.q.id > 1)"
   ]
  },
  {
   "cell_type": "code",
   "execution_count": 18,
   "metadata": {},
   "outputs": [
    {
     "data": {
      "text/plain": [
       "<Cliente 3 nombre='Alejandro' direccion='Ronda' telefono='44555554'>"
      ]
     },
     "execution_count": 18,
     "metadata": {},
     "output_type": "execute_result"
    }
   ],
   "source": [
    "c3 = Cliente(nombre='Alejandro', direccion=\"Ronda\", telefono = \"44555554\")\n",
    "c3"
   ]
  },
  {
   "cell_type": "code",
   "execution_count": 19,
   "metadata": {},
   "outputs": [
    {
     "data": {
      "text/plain": [
       "<Cliente 4 nombre='Ana Rosa' direccion='Ronda' telefono='44555554'>"
      ]
     },
     "execution_count": 19,
     "metadata": {},
     "output_type": "execute_result"
    }
   ],
   "source": [
    "c4 = Cliente(nombre='Ana Rosa', direccion=\"Ronda\", telefono = \"44555554\")\n",
    "c4"
   ]
  },
  {
   "cell_type": "code",
   "execution_count": 20,
   "metadata": {},
   "outputs": [
    {
     "data": {
      "text/plain": [
       "<Cliente 5 nombre='Manuel' direccion='Ronda' telefono='44555554'>"
      ]
     },
     "execution_count": 20,
     "metadata": {},
     "output_type": "execute_result"
    }
   ],
   "source": [
    "c5 = Cliente(nombre='Manuel', direccion=\"Ronda\", telefono = \"44555554\")\n",
    "c5"
   ]
  },
  {
   "cell_type": "markdown",
   "metadata": {},
   "source": [
    "### Consultas con SQLObject"
   ]
  },
  {
   "cell_type": "code",
   "execution_count": 21,
   "metadata": {},
   "outputs": [
    {
     "data": {
      "text/plain": [
       "[<Cliente 1 nombre='MariCarmen' direccion='Ronda de Nelle' telefono='444444444'>,\n",
       " <Cliente 2 nombre='Ana Lucia' direccion='Avenida A' telefono='44555554'>,\n",
       " <Cliente 3 nombre='Alejandro' direccion='Ronda' telefono='44555554'>,\n",
       " <Cliente 4 nombre='Ana Rosa' direccion='Ronda' telefono='44555554'>,\n",
       " <Cliente 5 nombre='Manuel' direccion='Ronda' telefono='44555554'>]"
      ]
     },
     "execution_count": 21,
     "metadata": {},
     "output_type": "execute_result"
    }
   ],
   "source": [
    "# Mostrar todos los registros de la tabla clientes\n",
    "\n",
    "resultado = Cliente.select()\n",
    "list(resultado)"
   ]
  },
  {
   "cell_type": "code",
   "execution_count": 22,
   "metadata": {},
   "outputs": [
    {
     "data": {
      "text/plain": [
       "[<Cliente 3 nombre='Alejandro' direccion='Ronda' telefono='44555554'>]"
      ]
     },
     "execution_count": 22,
     "metadata": {},
     "output_type": "execute_result"
    }
   ],
   "source": [
    "# Mostrar todos los Clientes con nombre Alejandro\n",
    "\n",
    "resultado = Cliente.select(Cliente.q.nombre == 'Alejandro')\n",
    "list(resultado)"
   ]
  },
  {
   "cell_type": "code",
   "execution_count": 23,
   "metadata": {},
   "outputs": [
    {
     "data": {
      "text/plain": [
       "[<Cliente 4 nombre='Ana Rosa' direccion='Ronda' telefono='44555554'>]"
      ]
     },
     "execution_count": 23,
     "metadata": {},
     "output_type": "execute_result"
    }
   ],
   "source": [
    "# Mostrar todos los Clientes con nombre Ana Rosa\n",
    "\n",
    "resultado = Cliente.select(Cliente.q.nombre == 'Ana Rosa')\n",
    "list(resultado)"
   ]
  },
  {
   "cell_type": "code",
   "execution_count": 24,
   "metadata": {},
   "outputs": [
    {
     "data": {
      "text/plain": [
       "[<Cliente 1 nombre='MariCarmen' direccion='Ronda de Nelle' telefono='444444444'>,\n",
       " <Cliente 2 nombre='Ana Lucia' direccion='Avenida A' telefono='44555554'>,\n",
       " <Cliente 3 nombre='Alejandro' direccion='Ronda' telefono='44555554'>,\n",
       " <Cliente 4 nombre='Ana Rosa' direccion='Ronda' telefono='44555554'>,\n",
       " <Cliente 5 nombre='Manuel' direccion='Ronda' telefono='44555554'>]"
      ]
     },
     "execution_count": 24,
     "metadata": {},
     "output_type": "execute_result"
    }
   ],
   "source": [
    "# Mostrar todos los Clientes con id >= 1\n",
    "\n",
    "resultado = Cliente.select(Cliente.q.id >= 1)\n",
    "list(resultado)"
   ]
  },
  {
   "cell_type": "code",
   "execution_count": 25,
   "metadata": {},
   "outputs": [
    {
     "data": {
      "text/plain": [
       "[<Cliente 1 nombre='MariCarmen' direccion='Ronda de Nelle' telefono='444444444'>,\n",
       " <Cliente 2 nombre='Ana Lucia' direccion='Avenida A' telefono='44555554'>,\n",
       " <Cliente 3 nombre='Alejandro' direccion='Ronda' telefono='44555554'>,\n",
       " <Cliente 4 nombre='Ana Rosa' direccion='Ronda' telefono='44555554'>,\n",
       " <Cliente 5 nombre='Manuel' direccion='Ronda' telefono='44555554'>]"
      ]
     },
     "execution_count": 25,
     "metadata": {},
     "output_type": "execute_result"
    }
   ],
   "source": [
    "# Mostrar todos los Clientes con id >= 1\n",
    "\n",
    "resultado = Cliente.select('Cliente.id >= 1')\n",
    "list(resultado)"
   ]
  },
  {
   "cell_type": "code",
   "execution_count": 26,
   "metadata": {},
   "outputs": [
    {
     "data": {
      "text/plain": [
       "[<Cliente 2 nombre='Ana Lucia' direccion='Avenida A' telefono='44555554'>]"
      ]
     },
     "execution_count": 26,
     "metadata": {},
     "output_type": "execute_result"
    }
   ],
   "source": [
    "# Mostrar el Cliente con id = 2\n",
    "\n",
    "resultado = Cliente.selectBy(id = 2)\n",
    "list(resultado)"
   ]
  },
  {
   "cell_type": "code",
   "execution_count": 27,
   "metadata": {},
   "outputs": [
    {
     "data": {
      "text/plain": [
       "'no existe'"
      ]
     },
     "execution_count": 27,
     "metadata": {},
     "output_type": "execute_result"
    }
   ],
   "source": [
    "# Mostrar el Cliente con id = 19\n",
    "\n",
    "resultado = Cliente.select(Cliente.q.id==19).getOne('no existe') # retorna un registro o el valor por defecto sino existe\n",
    "resultado"
   ]
  },
  {
   "cell_type": "code",
   "execution_count": 28,
   "metadata": {},
   "outputs": [
    {
     "data": {
      "text/plain": [
       "[<Cliente 3 nombre='Alejandro' direccion='Ronda' telefono='44555554'>,\n",
       " <Cliente 4 nombre='Ana Rosa' direccion='Ronda' telefono='44555554'>]"
      ]
     },
     "execution_count": 28,
     "metadata": {},
     "output_type": "execute_result"
    }
   ],
   "source": [
    "# Mostrar los Cliente con nombre igual a Alejandro o Ana Rosa\n",
    "\n",
    "resultado = Cliente.select(OR(Cliente.q.nombre=='Ana Rosa', Cliente.q.nombre=='Alejandro') )\n",
    "list(resultado)"
   ]
  },
  {
   "cell_type": "code",
   "execution_count": 29,
   "metadata": {
    "scrolled": true
   },
   "outputs": [
    {
     "data": {
      "text/plain": [
       "[<Cliente 3 nombre='Alejandro' direccion='Ronda' telefono='44555554'>,\n",
       " <Cliente 4 nombre='Ana Rosa' direccion='Ronda' telefono='44555554'>]"
      ]
     },
     "execution_count": 29,
     "metadata": {},
     "output_type": "execute_result"
    }
   ],
   "source": [
    "# Mostrar los Cliente con id > 2 y nombre diferente a Manuel\n",
    "\n",
    "resultado = Cliente.select( AND(Cliente.q.id > 2, NOT(Cliente.q.nombre=='Manuel')) )\n",
    "list(resultado)"
   ]
  },
  {
   "cell_type": "code",
   "execution_count": 30,
   "metadata": {},
   "outputs": [
    {
     "data": {
      "text/plain": [
       "[<Cliente 2 nombre='Ana Lucia' direccion='Avenida A' telefono='44555554'>,\n",
       " <Cliente 3 nombre='Alejandro' direccion='Ronda' telefono='44555554'>,\n",
       " <Cliente 4 nombre='Ana Rosa' direccion='Ronda' telefono='44555554'>,\n",
       " <Cliente 5 nombre='Manuel' direccion='Ronda' telefono='44555554'>]"
      ]
     },
     "execution_count": 30,
     "metadata": {},
     "output_type": "execute_result"
    }
   ],
   "source": [
    "# Mostrar los Cliente con id > 0 y teléfono = 44555554\n",
    "\n",
    "resultado = Cliente.select().filter(Cliente.q.id > 0).filter(Cliente.q.telefono == '44555554')\n",
    "list(resultado)"
   ]
  },
  {
   "cell_type": "code",
   "execution_count": 31,
   "metadata": {},
   "outputs": [
    {
     "data": {
      "text/plain": [
       "[<Cliente 3 nombre='Alejandro' direccion='Ronda' telefono='44555554'>,\n",
       " <Cliente 4 nombre='Ana Rosa' direccion='Ronda' telefono='44555554'>,\n",
       " <Cliente 5 nombre='Manuel' direccion='Ronda' telefono='44555554'>]"
      ]
     },
     "execution_count": 31,
     "metadata": {},
     "output_type": "execute_result"
    }
   ],
   "source": [
    "# Mostrar los Cliente con id > 0 y dirección = Ronda\n",
    "\n",
    "resultado = Cliente.select().filter(Cliente.q.id > 0).filter(Cliente.q.direccion == 'Ronda')\n",
    "list(resultado)"
   ]
  },
  {
   "cell_type": "code",
   "execution_count": 32,
   "metadata": {},
   "outputs": [
    {
     "data": {
      "text/plain": [
       "[<Cliente 2 nombre='Ana Lucia' direccion='Avenida A' telefono='44555554'>,\n",
       " <Cliente 4 nombre='Ana Rosa' direccion='Ronda' telefono='44555554'>]"
      ]
     },
     "execution_count": 32,
     "metadata": {},
     "output_type": "execute_result"
    }
   ],
   "source": [
    "# Mostrar los Cliente que su nombre comienza por Ana\n",
    "\n",
    "resultado = Cliente.select( LIKE(Cliente.q.nombre, 'Ana%') )\n",
    "list(resultado)"
   ]
  },
  {
   "cell_type": "code",
   "execution_count": 33,
   "metadata": {},
   "outputs": [
    {
     "data": {
      "text/plain": [
       "[<Cliente 2 nombre='Ana Lucia' direccion='Avenida A' telefono='44555554'>,\n",
       " <Cliente 3 nombre='Alejandro' direccion='Ronda' telefono='44555554'>,\n",
       " <Cliente 4 nombre='Ana Rosa' direccion='Ronda' telefono='44555554'>]"
      ]
     },
     "execution_count": 33,
     "metadata": {},
     "output_type": "execute_result"
    }
   ],
   "source": [
    "# Mostrar los Cliente que su nombre comienza por la letra A\n",
    "\n",
    "resultado = Cliente.select( LIKE(Cliente.q.nombre, 'A%') )\n",
    "list(resultado)"
   ]
  },
  {
   "cell_type": "code",
   "execution_count": 34,
   "metadata": {},
   "outputs": [
    {
     "data": {
      "text/plain": [
       "[<Cliente 2 nombre='Ana Lucia' direccion='Avenida A' telefono='44555554'>,\n",
       " <Cliente 4 nombre='Ana Rosa' direccion='Ronda' telefono='44555554'>]"
      ]
     },
     "execution_count": 34,
     "metadata": {},
     "output_type": "execute_result"
    }
   ],
   "source": [
    "# Mostrar los Cliente que su nombre comienza por Ana y tiene un segundo nombre\n",
    "\n",
    "resultado = Cliente.select(LIKE(Cliente.q.nombre, 'Ana _%'))\n",
    "list(resultado)"
   ]
  },
  {
   "cell_type": "code",
   "execution_count": 35,
   "metadata": {},
   "outputs": [
    {
     "data": {
      "text/plain": [
       "[<Cliente 3 nombre='Alejandro' direccion='Ronda' telefono='44555554'>,\n",
       " <Cliente 4 nombre='Ana Rosa' direccion='Ronda' telefono='44555554'>,\n",
       " <Cliente 5 nombre='Manuel' direccion='Ronda' telefono='44555554'>]"
      ]
     },
     "execution_count": 35,
     "metadata": {},
     "output_type": "execute_result"
    }
   ],
   "source": [
    "resultado = Cliente.select(Cliente.q.direccion == \"Ronda\").distinct()\n",
    "list(resultado)"
   ]
  },
  {
   "cell_type": "markdown",
   "metadata": {},
   "source": [
    "#### Funciones de Agrupación"
   ]
  },
  {
   "cell_type": "code",
   "execution_count": 36,
   "metadata": {},
   "outputs": [
    {
     "data": {
      "text/plain": [
       "3"
      ]
     },
     "execution_count": 36,
     "metadata": {},
     "output_type": "execute_result"
    }
   ],
   "source": [
    "# Número de cliente cuyos nombres comiencen por A\n",
    "resultado = Cliente.select( LIKE(Cliente.q.nombre, 'A%')).count()\n",
    "resultado"
   ]
  },
  {
   "cell_type": "code",
   "execution_count": 37,
   "metadata": {},
   "outputs": [
    {
     "data": {
      "text/plain": [
       "3.0"
      ]
     },
     "execution_count": 37,
     "metadata": {},
     "output_type": "execute_result"
    }
   ],
   "source": [
    "# Promedio o media de los id\n",
    "resultado = Cliente.select().avg(Cliente.q.id)\n",
    "resultado"
   ]
  },
  {
   "cell_type": "code",
   "execution_count": 38,
   "metadata": {},
   "outputs": [
    {
     "data": {
      "text/plain": [
       "15"
      ]
     },
     "execution_count": 38,
     "metadata": {},
     "output_type": "execute_result"
    }
   ],
   "source": [
    "# Suma de los id\n",
    "resultado = Cliente.select().sum(Cliente.q.id)\n",
    "resultado"
   ]
  },
  {
   "cell_type": "code",
   "execution_count": 39,
   "metadata": {},
   "outputs": [
    {
     "data": {
      "text/plain": [
       "1"
      ]
     },
     "execution_count": 39,
     "metadata": {},
     "output_type": "execute_result"
    }
   ],
   "source": [
    "# Valor mínimo en id\n",
    "resultado = Cliente.select().min(Cliente.q.id)\n",
    "resultado"
   ]
  },
  {
   "cell_type": "code",
   "execution_count": 40,
   "metadata": {},
   "outputs": [
    {
     "data": {
      "text/plain": [
       "5"
      ]
     },
     "execution_count": 40,
     "metadata": {},
     "output_type": "execute_result"
    }
   ],
   "source": [
    "# Valor máximo en id\n",
    "resultado = Cliente.select().max(Cliente.q.id)\n",
    "resultado"
   ]
  },
  {
   "cell_type": "code",
   "execution_count": 41,
   "metadata": {},
   "outputs": [
    {
     "data": {
      "text/plain": [
       "15"
      ]
     },
     "execution_count": 41,
     "metadata": {},
     "output_type": "execute_result"
    }
   ],
   "source": [
    "# Valor suma acumulada de id\n",
    "resultado = Cliente.select().accumulateOne('sum', 'id')\n",
    "resultado"
   ]
  },
  {
   "cell_type": "code",
   "execution_count": 42,
   "metadata": {},
   "outputs": [
    {
     "data": {
      "text/plain": [
       "(15, 1)"
      ]
     },
     "execution_count": 42,
     "metadata": {},
     "output_type": "execute_result"
    }
   ],
   "source": [
    "# Valor suma acumulada de id y minimo id\n",
    "resultado = Cliente.select().accumulateMany(('sum', 'id'), ('min', Cliente.q.id))\n",
    "resultado"
   ]
  },
  {
   "cell_type": "code",
   "execution_count": 43,
   "metadata": {},
   "outputs": [
    {
     "data": {
      "text/plain": [
       "(5, 5)"
      ]
     },
     "execution_count": 43,
     "metadata": {},
     "output_type": "execute_result"
    }
   ],
   "source": [
    "# Valor Cantidad total de registros y máximo id\n",
    "resultado = Cliente.select().accumulate('count(*)', 'max(id)')\n",
    "resultado"
   ]
  },
  {
   "cell_type": "markdown",
   "metadata": {},
   "source": [
    "### Ordenar Consultas\n"
   ]
  },
  {
   "cell_type": "code",
   "execution_count": 44,
   "metadata": {},
   "outputs": [
    {
     "data": {
      "text/plain": [
       "[<Cliente 3 nombre='Alejandro' direccion='Ronda' telefono='44555554'>,\n",
       " <Cliente 2 nombre='Ana Lucia' direccion='Avenida A' telefono='44555554'>,\n",
       " <Cliente 4 nombre='Ana Rosa' direccion='Ronda' telefono='44555554'>,\n",
       " <Cliente 5 nombre='Manuel' direccion='Ronda' telefono='44555554'>,\n",
       " <Cliente 1 nombre='MariCarmen' direccion='Ronda de Nelle' telefono='444444444'>]"
      ]
     },
     "execution_count": 44,
     "metadata": {},
     "output_type": "execute_result"
    }
   ],
   "source": [
    "resultado = Cliente.select( orderBy=Cliente.q.nombre )\n",
    "list(resultado)"
   ]
  },
  {
   "cell_type": "code",
   "execution_count": 45,
   "metadata": {},
   "outputs": [
    {
     "data": {
      "text/plain": [
       "[<Cliente 3 nombre='Alejandro' direccion='Ronda' telefono='44555554'>,\n",
       " <Cliente 2 nombre='Ana Lucia' direccion='Avenida A' telefono='44555554'>,\n",
       " <Cliente 4 nombre='Ana Rosa' direccion='Ronda' telefono='44555554'>,\n",
       " <Cliente 5 nombre='Manuel' direccion='Ronda' telefono='44555554'>,\n",
       " <Cliente 1 nombre='MariCarmen' direccion='Ronda de Nelle' telefono='444444444'>]"
      ]
     },
     "execution_count": 45,
     "metadata": {},
     "output_type": "execute_result"
    }
   ],
   "source": [
    "resultado = Cliente.select( orderBy='Cliente.nombre' )\n",
    "list(resultado)"
   ]
  },
  {
   "cell_type": "code",
   "execution_count": 46,
   "metadata": {},
   "outputs": [
    {
     "data": {
      "text/plain": [
       "[<Cliente 1 nombre='MariCarmen' direccion='Ronda de Nelle' telefono='444444444'>,\n",
       " <Cliente 5 nombre='Manuel' direccion='Ronda' telefono='44555554'>,\n",
       " <Cliente 4 nombre='Ana Rosa' direccion='Ronda' telefono='44555554'>,\n",
       " <Cliente 2 nombre='Ana Lucia' direccion='Avenida A' telefono='44555554'>,\n",
       " <Cliente 3 nombre='Alejandro' direccion='Ronda' telefono='44555554'>]"
      ]
     },
     "execution_count": 46,
     "metadata": {},
     "output_type": "execute_result"
    }
   ],
   "source": [
    "resultado = Cliente.select( orderBy=DESC(Cliente.q.nombre ))\n",
    "list(resultado)"
   ]
  },
  {
   "cell_type": "code",
   "execution_count": 47,
   "metadata": {},
   "outputs": [
    {
     "data": {
      "text/plain": [
       "[<Cliente 1 nombre='MariCarmen' direccion='Ronda de Nelle' telefono='444444444'>,\n",
       " <Cliente 5 nombre='Manuel' direccion='Ronda' telefono='44555554'>,\n",
       " <Cliente 4 nombre='Ana Rosa' direccion='Ronda' telefono='44555554'>,\n",
       " <Cliente 2 nombre='Ana Lucia' direccion='Avenida A' telefono='44555554'>,\n",
       " <Cliente 3 nombre='Alejandro' direccion='Ronda' telefono='44555554'>]"
      ]
     },
     "execution_count": 47,
     "metadata": {},
     "output_type": "execute_result"
    }
   ],
   "source": [
    "resultado = Cliente.select(  orderBy='-Cliente.nombre' )\n",
    "list(resultado)"
   ]
  },
  {
   "cell_type": "code",
   "execution_count": 48,
   "metadata": {},
   "outputs": [
    {
     "data": {
      "text/plain": [
       "[<Cliente 1 nombre='MariCarmen' direccion='Ronda de Nelle' telefono='444444444'>,\n",
       " <Cliente 5 nombre='Manuel' direccion='Ronda' telefono='44555554'>,\n",
       " <Cliente 4 nombre='Ana Rosa' direccion='Ronda' telefono='44555554'>,\n",
       " <Cliente 2 nombre='Ana Lucia' direccion='Avenida A' telefono='44555554'>,\n",
       " <Cliente 3 nombre='Alejandro' direccion='Ronda' telefono='44555554'>]"
      ]
     },
     "execution_count": 48,
     "metadata": {},
     "output_type": "execute_result"
    }
   ],
   "source": [
    "resultado = Cliente.select(  orderBy='Cliente.nombre' ).reversed()\n",
    "list(resultado)"
   ]
  },
  {
   "cell_type": "code",
   "execution_count": 49,
   "metadata": {},
   "outputs": [
    {
     "data": {
      "text/plain": [
       "[<Cliente 3 nombre='Alejandro' direccion='Ronda' telefono='44555554'>,\n",
       " <Cliente 2 nombre='Ana Lucia' direccion='Avenida A' telefono='44555554'>,\n",
       " <Cliente 4 nombre='Ana Rosa' direccion='Ronda' telefono='44555554'>,\n",
       " <Cliente 5 nombre='Manuel' direccion='Ronda' telefono='44555554'>,\n",
       " <Cliente 1 nombre='MariCarmen' direccion='Ronda de Nelle' telefono='444444444'>]"
      ]
     },
     "execution_count": 49,
     "metadata": {},
     "output_type": "execute_result"
    }
   ],
   "source": [
    "resultado = Cliente.select( orderBy=['cliente.nombre', '-cliente.direccion'] )\n",
    "list(resultado)"
   ]
  },
  {
   "cell_type": "code",
   "execution_count": 50,
   "metadata": {},
   "outputs": [
    {
     "data": {
      "text/plain": [
       "[<Cliente 3 nombre='Alejandro' direccion='Ronda' telefono='44555554'>,\n",
       " <Cliente 2 nombre='Ana Lucia' direccion='Avenida A' telefono='44555554'>,\n",
       " <Cliente 4 nombre='Ana Rosa' direccion='Ronda' telefono='44555554'>,\n",
       " <Cliente 5 nombre='Manuel' direccion='Ronda' telefono='44555554'>,\n",
       " <Cliente 1 nombre='MariCarmen' direccion='Ronda de Nelle' telefono='444444444'>]"
      ]
     },
     "execution_count": 50,
     "metadata": {},
     "output_type": "execute_result"
    }
   ],
   "source": [
    "resultado = Cliente.select( orderBy=[Cliente.q.nombre, DESC(Cliente.q.direccion)] )\n",
    "list(resultado)"
   ]
  },
  {
   "cell_type": "markdown",
   "metadata": {},
   "source": [
    "### Relaciones entre tablas"
   ]
  },
  {
   "cell_type": "code",
   "execution_count": 1,
   "metadata": {},
   "outputs": [
    {
     "data": {
      "text/plain": [
       "'C:\\\\Users\\\\msierra\\\\Desktop\\\\SQLDatabase'"
      ]
     },
     "execution_count": 1,
     "metadata": {},
     "output_type": "execute_result"
    }
   ],
   "source": [
    "from sqlobject import *\n",
    "import os\n",
    "from datetime import datetime\n",
    "\n",
    "PATH_DATA = r'C:\\Users\\msierra\\Desktop\\SQLDatabase'\n",
    "PATH_DATA"
   ]
  },
  {
   "cell_type": "code",
   "execution_count": 2,
   "metadata": {},
   "outputs": [],
   "source": [
    "db_filename = os.path.abspath(PATH_DATA + '\\ClientesVentas.db')\n",
    "connection_string = 'sqlite:' + db_filename\n",
    "connection = connectionForURI(connection_string)\n",
    "sqlhub.processConnection = connection"
   ]
  },
  {
   "cell_type": "code",
   "execution_count": 3,
   "metadata": {},
   "outputs": [],
   "source": [
    "class Clientes(SQLObject):\n",
    "    nombre = StringCol(default='')\n",
    "    direccion = StringCol()\n",
    "    compras = MultipleJoin('Compra')"
   ]
  },
  {
   "cell_type": "code",
   "execution_count": 4,
   "metadata": {},
   "outputs": [],
   "source": [
    "if not Clientes.tableExists():\n",
    "    Clientes.createTable()"
   ]
  },
  {
   "cell_type": "code",
   "execution_count": 5,
   "metadata": {},
   "outputs": [
    {
     "data": {
      "text/plain": [
       "<Clientes 3 nombre='Manuel' direccion='Ronda'>"
      ]
     },
     "execution_count": 5,
     "metadata": {},
     "output_type": "execute_result"
    }
   ],
   "source": [
    "c1 = Clientes(nombre='Manuel', direccion=\"Ronda\")\n",
    "c1"
   ]
  },
  {
   "cell_type": "code",
   "execution_count": 6,
   "metadata": {},
   "outputs": [],
   "source": [
    "class Compras(SQLObject):\n",
    "    fecha = DateCol()\n",
    "    costo = DecimalCol(size=7, precision=2)\n",
    "    cliente = ForeignKey('Clientes')"
   ]
  },
  {
   "cell_type": "code",
   "execution_count": 7,
   "metadata": {},
   "outputs": [],
   "source": [
    "if not Compras.tableExists():\n",
    "    Compras.createTable()"
   ]
  },
  {
   "cell_type": "code",
   "execution_count": 9,
   "metadata": {},
   "outputs": [],
   "source": [
    "compra1 = Compras(fecha='2020-05-20', costo=125.00, cliente = 1)"
   ]
  },
  {
   "cell_type": "code",
   "execution_count": 10,
   "metadata": {},
   "outputs": [
    {
     "data": {
      "text/plain": [
       "<Compras 1 fecha='datetime.date(202...)' costo=125 clienteID=1>"
      ]
     },
     "execution_count": 10,
     "metadata": {},
     "output_type": "execute_result"
    }
   ],
   "source": [
    "c1 = Compras.get(1)\n",
    "c1"
   ]
  },
  {
   "cell_type": "code",
   "execution_count": 11,
   "metadata": {},
   "outputs": [],
   "source": [
    "c2 = Clientes(nombre='Ana', direccion=\"Ronda\")\n",
    "for i in range(1, 10):\n",
    "    Compras(fecha=datetime(2019, 4, i), costo=i * 10, cliente = c2)"
   ]
  },
  {
   "cell_type": "code",
   "execution_count": 13,
   "metadata": {},
   "outputs": [
    {
     "data": {
      "text/plain": [
       "[<Clientes 1 nombre='Manuel' direccion='Ronda'>,\n",
       " <Clientes 2 nombre='Manuel' direccion='Ronda'>,\n",
       " <Clientes 3 nombre='Manuel' direccion='Ronda'>,\n",
       " <Clientes 4 nombre='Ana' direccion='Ronda'>]"
      ]
     },
     "execution_count": 13,
     "metadata": {},
     "output_type": "execute_result"
    }
   ],
   "source": [
    "resultado = Clientes.select( )\n",
    "list(resultado)"
   ]
  },
  {
   "cell_type": "code",
   "execution_count": 12,
   "metadata": {},
   "outputs": [
    {
     "data": {
      "text/plain": [
       "[<Compras 1 fecha='datetime.date(202...)' costo=125 clienteID=1>,\n",
       " <Compras 2 fecha='datetime.date(201...)' costo=10 clienteID=4>,\n",
       " <Compras 3 fecha='datetime.date(201...)' costo=20 clienteID=4>,\n",
       " <Compras 4 fecha='datetime.date(201...)' costo=30 clienteID=4>,\n",
       " <Compras 5 fecha='datetime.date(201...)' costo=40 clienteID=4>,\n",
       " <Compras 6 fecha='datetime.date(201...)' costo=50 clienteID=4>,\n",
       " <Compras 7 fecha='datetime.date(201...)' costo=60 clienteID=4>,\n",
       " <Compras 8 fecha='datetime.date(201...)' costo=70 clienteID=4>,\n",
       " <Compras 9 fecha='datetime.date(201...)' costo=80 clienteID=4>,\n",
       " <Compras 10 fecha='datetime.date(201...)' costo=90 clienteID=4>]"
      ]
     },
     "execution_count": 12,
     "metadata": {},
     "output_type": "execute_result"
    }
   ],
   "source": [
    "resultado = Compras.select( )\n",
    "list(resultado)"
   ]
  },
  {
   "cell_type": "markdown",
   "metadata": {},
   "source": [
    "### Relaciones varios a varios"
   ]
  },
  {
   "cell_type": "code",
   "execution_count": 14,
   "metadata": {},
   "outputs": [
    {
     "data": {
      "text/plain": [
       "'C:\\\\Users\\\\msierra\\\\Desktop\\\\SQLDatabase'"
      ]
     },
     "execution_count": 14,
     "metadata": {},
     "output_type": "execute_result"
    }
   ],
   "source": [
    "from sqlobject import *\n",
    "import os\n",
    "from datetime import datetime\n",
    "\n",
    "PATH_DATA = r'C:\\Users\\msierra\\Desktop\\SQLDatabase'\n",
    "PATH_DATA"
   ]
  },
  {
   "cell_type": "code",
   "execution_count": 15,
   "metadata": {},
   "outputs": [],
   "source": [
    "db_filename = os.path.abspath(PATH_DATA + '\\ClientesVentas2.db')\n",
    "connection_string = 'sqlite:' + db_filename\n",
    "connection = connectionForURI(connection_string)\n",
    "sqlhub.processConnection = connection"
   ]
  },
  {
   "cell_type": "code",
   "execution_count": 16,
   "metadata": {},
   "outputs": [],
   "source": [
    "class Cliente(SQLObject):\n",
    "    nombre = StringCol(default='')\n",
    "    direccion = StringCol()\n",
    "    compras = RelatedJoin('Compra')\n",
    "    \n",
    "class Compra(SQLObject):\n",
    "    fecha = DateCol()\n",
    "    costo = DecimalCol(size=7, precision=2)\n",
    "    clientes = RelatedJoin('Cliente')\n",
    "    "
   ]
  },
  {
   "cell_type": "code",
   "execution_count": null,
   "metadata": {},
   "outputs": [],
   "source": [
    "# Mostrar la estructura en DBBrowser SQLite"
   ]
  },
  {
   "cell_type": "code",
   "execution_count": 17,
   "metadata": {},
   "outputs": [
    {
     "data": {
      "text/plain": [
       "[]"
      ]
     },
     "execution_count": 17,
     "metadata": {},
     "output_type": "execute_result"
    }
   ],
   "source": [
    "Cliente.createTable()\n",
    "Compra.createTable()"
   ]
  },
  {
   "cell_type": "code",
   "execution_count": 18,
   "metadata": {},
   "outputs": [],
   "source": [
    "Juan = Cliente(nombre='Juan', direccion=\"C/ Alfonso\")\n",
    "Ana = Cliente(nombre='Ana', direccion=\"C/ Nelle\")\n",
    "compra1 = Compra(fecha=datetime.now(), costo=100)\n",
    "compra2 = Compra(fecha=datetime.now(), costo=200)"
   ]
  },
  {
   "cell_type": "code",
   "execution_count": 19,
   "metadata": {},
   "outputs": [],
   "source": [
    "compra1.addCliente(Juan)\n",
    "compra1.addCliente(Ana)"
   ]
  },
  {
   "cell_type": "code",
   "execution_count": 20,
   "metadata": {},
   "outputs": [
    {
     "data": {
      "text/plain": [
       "[<Compra 1 fecha='datetime.date(202...)' costo=100>]"
      ]
     },
     "execution_count": 20,
     "metadata": {},
     "output_type": "execute_result"
    }
   ],
   "source": [
    "Juan.compras"
   ]
  },
  {
   "cell_type": "code",
   "execution_count": 21,
   "metadata": {},
   "outputs": [
    {
     "data": {
      "text/plain": [
       "[<Compra 1 fecha='datetime.date(202...)' costo=100>]"
      ]
     },
     "execution_count": 21,
     "metadata": {},
     "output_type": "execute_result"
    }
   ],
   "source": [
    "Ana.compras"
   ]
  },
  {
   "cell_type": "code",
   "execution_count": 22,
   "metadata": {},
   "outputs": [
    {
     "data": {
      "text/plain": [
       "[<Compra 1 fecha='datetime.date(202...)' costo=100>,\n",
       " <Compra 2 fecha='datetime.date(202...)' costo=200>]"
      ]
     },
     "execution_count": 22,
     "metadata": {},
     "output_type": "execute_result"
    }
   ],
   "source": [
    "Juan.addCompra(compra2)  # Se utiliza una sola addCLiente o addCompra\n",
    "Juan.compras"
   ]
  },
  {
   "cell_type": "code",
   "execution_count": 27,
   "metadata": {},
   "outputs": [],
   "source": [
    "### Consultas"
   ]
  },
  {
   "cell_type": "code",
   "execution_count": 1,
   "metadata": {},
   "outputs": [
    {
     "data": {
      "text/plain": [
       "'C:\\\\Users\\\\msierra\\\\Desktop\\\\SQLDatabase'"
      ]
     },
     "execution_count": 1,
     "metadata": {},
     "output_type": "execute_result"
    }
   ],
   "source": [
    "from sqlobject import *\n",
    "import os\n",
    "from datetime import datetime\n",
    "\n",
    "PATH_DATA = r'C:\\Users\\msierra\\Desktop\\SQLDatabase'\n",
    "PATH_DATA"
   ]
  },
  {
   "cell_type": "code",
   "execution_count": 2,
   "metadata": {},
   "outputs": [],
   "source": [
    "db_filename = os.path.abspath(PATH_DATA + '\\ClientesVentas.db')\n",
    "connection_string = 'sqlite:' + db_filename\n",
    "connection = connectionForURI(connection_string)\n",
    "sqlhub.processConnection = connection"
   ]
  },
  {
   "cell_type": "code",
   "execution_count": 3,
   "metadata": {},
   "outputs": [],
   "source": [
    "class Clientes(SQLObject):\n",
    "    class sqlmeta:\n",
    "        fromDatabase = True\n",
    "    nombre = StringCol(default='')\n",
    "    direccion = StringCol()\n",
    "    compras = MultipleJoin('Compra')\n",
    "\n",
    "class Compras(SQLObject):\n",
    "    class sqlmeta:\n",
    "        fromDatabase = True\n",
    "    fecha = DateCol()\n",
    "    costo = DecimalCol(size=7, precision=2)\n",
    "    cliente = ForeignKey('Clientes')"
   ]
  },
  {
   "cell_type": "code",
   "execution_count": 5,
   "metadata": {},
   "outputs": [
    {
     "data": {
      "text/plain": [
       "[<Clientes 1 nombre='Manuel' direccion='Ronda'>]"
      ]
     },
     "execution_count": 5,
     "metadata": {},
     "output_type": "execute_result"
    }
   ],
   "source": [
    "resultado = Clientes.select(AND(Compras.q.clienteID==Clientes.q.id, Compras.q.costo > 100))\n",
    "list(resultado)"
   ]
  },
  {
   "cell_type": "code",
   "execution_count": 7,
   "metadata": {},
   "outputs": [
    {
     "data": {
      "text/plain": [
       "[<Clientes 1 nombre='Manuel' direccion='Ronda'>]"
      ]
     },
     "execution_count": 7,
     "metadata": {},
     "output_type": "execute_result"
    }
   ],
   "source": [
    "# crear un objeto j Compras.q.clienteID==Clientes.q.id\n",
    "resultado = Clientes.select(AND(Compras.j.cliente, Compras.q.costo > 100))\n",
    "list(resultado)"
   ]
  },
  {
   "cell_type": "code",
   "execution_count": 10,
   "metadata": {},
   "outputs": [
    {
     "data": {
      "text/plain": [
       "[<Clientes 1 nombre='Manuel' direccion='Ronda'>]"
      ]
     },
     "execution_count": 10,
     "metadata": {},
     "output_type": "execute_result"
    }
   ],
   "source": [
    "resultado = Clientes.select('compras.cliente_id = clientes.id AND compras.costo > 100', clauseTables=['compras'])\n",
    "list(resultado)"
   ]
  },
  {
   "cell_type": "code",
   "execution_count": 27,
   "metadata": {},
   "outputs": [
    {
     "data": {
      "text/plain": [
       "[<Clientes 1 nombre='Manuel' direccion='Ronda'>,\n",
       " <Clientes 2 nombre='Manuel' direccion='Ronda'>,\n",
       " <Clientes 3 nombre='Manuel' direccion='Ronda'>,\n",
       " <Clientes 4 nombre='Ana' direccion='Ronda'>]"
      ]
     },
     "execution_count": 27,
     "metadata": {},
     "output_type": "execute_result"
    }
   ],
   "source": [
    "# Forzando las consultas de JOIN \n",
    "from sqlobject.sqlbuilder import LEFTJOINOn\n",
    "\n",
    "resultado = Clientes.select(join=LEFTJOINOn(Clientes, Compras, Compras.j.cliente), distinct=True)\n",
    "list(resultado)"
   ]
  },
  {
   "cell_type": "code",
   "execution_count": 31,
   "metadata": {},
   "outputs": [],
   "source": [
    "from sqlobject.sqlbuilder import Alias\n",
    "aliasCliente = Alias(Clientes, \"Cliente_2\")"
   ]
  },
  {
   "cell_type": "code",
   "execution_count": 38,
   "metadata": {},
   "outputs": [
    {
     "data": {
      "text/plain": [
       "[<Clientes 1 nombre='Manuel' direccion='Ronda'>,\n",
       " <Clientes 2 nombre='Manuel' direccion='Ronda'>,\n",
       " <Clientes 3 nombre='Manuel' direccion='Ronda'>]"
      ]
     },
     "execution_count": 38,
     "metadata": {},
     "output_type": "execute_result"
    }
   ],
   "source": [
    "resultado = Clientes.select(\n",
    "            AND(Clientes.q.id != aliasCliente.q.id, Clientes.q.nombre == aliasCliente.q.nombre)\n",
    "                , distinct = True)\n",
    "list(resultado)"
   ]
  },
  {
   "cell_type": "code",
   "execution_count": null,
   "metadata": {},
   "outputs": [],
   "source": [
    "## Subconsultas"
   ]
  },
  {
   "cell_type": "code",
   "execution_count": 45,
   "metadata": {},
   "outputs": [
    {
     "data": {
      "text/plain": [
       "[<Compras 1 fecha='datetime.date(202...)' costo=125 clienteID=1>,\n",
       " <Compras 2 fecha='datetime.date(201...)' costo=10 clienteID=4>,\n",
       " <Compras 3 fecha='datetime.date(201...)' costo=20 clienteID=4>,\n",
       " <Compras 4 fecha='datetime.date(201...)' costo=30 clienteID=4>,\n",
       " <Compras 5 fecha='datetime.date(201...)' costo=40 clienteID=4>,\n",
       " <Compras 6 fecha='datetime.date(201...)' costo=50 clienteID=4>,\n",
       " <Compras 7 fecha='datetime.date(201...)' costo=60 clienteID=4>,\n",
       " <Compras 8 fecha='datetime.date(201...)' costo=70 clienteID=4>,\n",
       " <Compras 9 fecha='datetime.date(201...)' costo=80 clienteID=4>,\n",
       " <Compras 10 fecha='datetime.date(201...)' costo=90 clienteID=4>]"
      ]
     },
     "execution_count": 45,
     "metadata": {},
     "output_type": "execute_result"
    }
   ],
   "source": [
    "resultado = Compras.select()\n",
    "           \n",
    "list(resultado)"
   ]
  },
  {
   "cell_type": "code",
   "execution_count": 46,
   "metadata": {},
   "outputs": [
    {
     "data": {
      "text/plain": [
       "[<Clientes 3 nombre='Manuel' direccion='Ronda'>]"
      ]
     },
     "execution_count": 46,
     "metadata": {},
     "output_type": "execute_result"
    }
   ],
   "source": [
    "from sqlobject.sqlbuilder import NOTEXISTS, IN, EXISTS, Select, Outer\n",
    "\n",
    "resultado = Clientes.select(\n",
    "            IN(20, Select(Compras.q.costo, where=Compras.q.id==Outer(Clientes).q.id) ) # hace referencia a la tabla Clientes\n",
    "                            )\n",
    "list(resultado)"
   ]
  },
  {
   "cell_type": "code",
   "execution_count": 48,
   "metadata": {},
   "outputs": [
    {
     "data": {
      "text/plain": [
       "[<Clientes 1 nombre='Manuel' direccion='Ronda'>]"
      ]
     },
     "execution_count": 48,
     "metadata": {},
     "output_type": "execute_result"
    }
   ],
   "source": [
    "resultado = Clientes.select( EXISTS( Select(\n",
    "                Compras.q.id, where=AND(Compras.q.clienteID==Outer(Clientes).q.id,\n",
    "            Compras.q.costo>100)\n",
    "             ) ) )\n",
    "list(resultado)"
   ]
  },
  {
   "cell_type": "code",
   "execution_count": 55,
   "metadata": {},
   "outputs": [],
   "source": [
    "Clientes._connection.debug = True"
   ]
  },
  {
   "cell_type": "code",
   "execution_count": 56,
   "metadata": {},
   "outputs": [
    {
     "name": "stdout",
     "output_type": "stream",
     "text": [
      " 6/Select  :  SELECT clientes.id, clientes.nombre, clientes.direccion FROM clientes WHERE 1 = 1\n",
      " 6/QueryR  :  SELECT clientes.id, clientes.nombre, clientes.direccion FROM clientes WHERE 1 = 1\n",
      " 6/COMMIT  :  auto\n"
     ]
    },
    {
     "data": {
      "text/plain": [
       "[<Clientes 1 nombre='Manuel' direccion='Ronda'>,\n",
       " <Clientes 2 nombre='Manuel' direccion='Ronda'>,\n",
       " <Clientes 3 nombre='Manuel' direccion='Ronda'>,\n",
       " <Clientes 4 nombre='Ana' direccion='Ronda'>]"
      ]
     },
     "execution_count": 56,
     "metadata": {},
     "output_type": "execute_result"
    }
   ],
   "source": [
    "resultado = Clientes.select()\n",
    "list(resultado)"
   ]
  },
  {
   "cell_type": "markdown",
   "metadata": {},
   "source": [
    "### Técnicas avanzadas con SQLObject"
   ]
  },
  {
   "cell_type": "code",
   "execution_count": 1,
   "metadata": {},
   "outputs": [],
   "source": [
    "from sqlobject import *\n",
    "import os\n",
    "from datetime import datetime\n",
    "\n",
    "PATH_DATA = r'C:\\Users\\msierra\\Desktop\\SQLDatabase'"
   ]
  },
  {
   "cell_type": "code",
   "execution_count": 2,
   "metadata": {},
   "outputs": [],
   "source": [
    "db_filename = os.path.abspath(PATH_DATA + '\\ClientesVentasTA.db')\n",
    "connection_string = 'sqlite:' + db_filename\n",
    "connection = connectionForURI(connection_string)\n",
    "sqlhub.processConnection = connection"
   ]
  },
  {
   "cell_type": "code",
   "execution_count": 3,
   "metadata": {},
   "outputs": [],
   "source": [
    "class Cliente(SQLObject): \n",
    "    nombre = StringCol(default='d', alternateID=True) \n",
    "    direccion = StringCol() \n",
    "\n",
    "    def info(self): \n",
    "        return \"Cliente: {}, dirección {}\".format(self.nombre, self.direccion)\n",
    "\n",
    "    def __init__(self, telefono=None, **kw):\n",
    "        self.tel = telefono\n",
    "        return super().__init__( **kw)\n",
    "    \n",
    "    def _get_telefono(self):\n",
    "        return self.tel\n",
    "    \n",
    "    def _set_telefono(self, value):\n",
    "        self.tel = value\n",
    "        \n",
    "    def _del_telefono(self, value):\n",
    "        del(self.tel)\n",
    "        \n",
    "    def _doc_telefono(self):\n",
    "        return \"Teléfono del cliente\""
   ]
  },
  {
   "cell_type": "code",
   "execution_count": 4,
   "metadata": {},
   "outputs": [
    {
     "data": {
      "text/plain": [
       "[]"
      ]
     },
     "execution_count": 4,
     "metadata": {},
     "output_type": "execute_result"
    }
   ],
   "source": [
    "Cliente.createTable()"
   ]
  },
  {
   "cell_type": "code",
   "execution_count": 5,
   "metadata": {},
   "outputs": [],
   "source": [
    "Juan = Cliente(nombre='Juan', direccion=\"Alfonso\")\n",
    "Ana = Cliente(nombre='Ana', direccion=\"Nelle\")"
   ]
  },
  {
   "cell_type": "code",
   "execution_count": 6,
   "metadata": {},
   "outputs": [
    {
     "name": "stdout",
     "output_type": "stream",
     "text": [
      "Cliente: Juan, dirección Alfonso\n"
     ]
    }
   ],
   "source": [
    "c1 = Cliente.get(1)\n",
    "print( c1.info() )"
   ]
  },
  {
   "cell_type": "code",
   "execution_count": 8,
   "metadata": {},
   "outputs": [],
   "source": [
    "Maria = Cliente(telefono='1111111', nombre='Maria', direccion=\"Ronda\")\n",
    "Maria.telefono = \"2222222\""
   ]
  },
  {
   "cell_type": "code",
   "execution_count": 9,
   "metadata": {},
   "outputs": [
    {
     "name": "stdout",
     "output_type": "stream",
     "text": [
      "2222222\n"
     ]
    }
   ],
   "source": [
    "print(Maria.telefono)"
   ]
  },
  {
   "cell_type": "code",
   "execution_count": 10,
   "metadata": {},
   "outputs": [
    {
     "data": {
      "text/plain": [
       "'55555'"
      ]
     },
     "execution_count": 10,
     "metadata": {},
     "output_type": "execute_result"
    }
   ],
   "source": [
    "Alejandro = Cliente(telefono='55555', nombre='Alejandro', direccion=\"Ronda\")\n",
    "Alejandro.telefono"
   ]
  },
  {
   "cell_type": "code",
   "execution_count": 11,
   "metadata": {},
   "outputs": [],
   "source": [
    "Alejandro.telefono = \"4562686\""
   ]
  },
  {
   "cell_type": "code",
   "execution_count": 12,
   "metadata": {},
   "outputs": [
    {
     "data": {
      "text/plain": [
       "'4562686'"
      ]
     },
     "execution_count": 12,
     "metadata": {},
     "output_type": "execute_result"
    }
   ],
   "source": [
    "Alejandro.telefono "
   ]
  },
  {
   "cell_type": "code",
   "execution_count": 15,
   "metadata": {},
   "outputs": [],
   "source": [
    "Alejandro._del_telefono(\"4562686\")"
   ]
  },
  {
   "cell_type": "code",
   "execution_count": 17,
   "metadata": {},
   "outputs": [
    {
     "data": {
      "text/plain": [
       "<bound method Cliente._get_telefono of <Cliente 4 nombre='Alejandro' direccion='Ronda'>>"
      ]
     },
     "execution_count": 17,
     "metadata": {},
     "output_type": "execute_result"
    }
   ],
   "source": [
    "Alejandro._get_telefono"
   ]
  },
  {
   "cell_type": "markdown",
   "metadata": {},
   "source": [
    "### Modificando los atributos de columnas"
   ]
  },
  {
   "cell_type": "code",
   "execution_count": 1,
   "metadata": {},
   "outputs": [],
   "source": [
    "from sqlobject import *\n",
    "import os\n",
    "from datetime import datetime\n",
    "\n",
    "PATH_DATA = r'C:\\Users\\msierra\\Desktop\\SQLDatabase'"
   ]
  },
  {
   "cell_type": "code",
   "execution_count": 2,
   "metadata": {},
   "outputs": [],
   "source": [
    "db_filename = os.path.abspath(PATH_DATA + '\\ClientesVentasMP.db')\n",
    "connection_string = 'sqlite:' + db_filename\n",
    "connection = connectionForURI(connection_string)\n",
    "sqlhub.processConnection = connection"
   ]
  },
  {
   "cell_type": "code",
   "execution_count": 3,
   "metadata": {},
   "outputs": [],
   "source": [
    "class Cliente(SQLObject):\n",
    "    nombre = StringCol(default='d', alternateID=True)\n",
    "    direccion = StringCol()\n",
    "    \n",
    "    def _get_nombre(self):\n",
    "        return self._SO_get_nombre().capitalize()\n",
    "    \n",
    "    def _set_nombre(self, value):\n",
    "        self._SO_set_nombre(value.capitalize())"
   ]
  },
  {
   "cell_type": "code",
   "execution_count": 4,
   "metadata": {},
   "outputs": [
    {
     "data": {
      "text/plain": [
       "[]"
      ]
     },
     "execution_count": 4,
     "metadata": {},
     "output_type": "execute_result"
    }
   ],
   "source": [
    "Cliente.createTable()"
   ]
  },
  {
   "cell_type": "code",
   "execution_count": 5,
   "metadata": {},
   "outputs": [
    {
     "data": {
      "text/plain": [
       "'Juan'"
      ]
     },
     "execution_count": 5,
     "metadata": {},
     "output_type": "execute_result"
    }
   ],
   "source": [
    "Juan = Cliente(nombre='juan', direccion=\"Calle Alfonso\")\n",
    "Juan.nombre"
   ]
  },
  {
   "cell_type": "markdown",
   "metadata": {},
   "source": [
    "### Herencia"
   ]
  },
  {
   "cell_type": "code",
   "execution_count": 1,
   "metadata": {},
   "outputs": [],
   "source": [
    "from sqlobject import *\n",
    "import os\n",
    "\n",
    "PATH_DATA = r'C:\\Users\\msierra\\Desktop\\SQLDatabase'"
   ]
  },
  {
   "cell_type": "code",
   "execution_count": 2,
   "metadata": {},
   "outputs": [],
   "source": [
    "db_filename = os.path.abspath(PATH_DATA + '\\ClientesH.db')\n",
    "connection_string = 'sqlite:' + db_filename\n",
    "connection = connectionForURI(connection_string)\n",
    "sqlhub.processConnection = connection"
   ]
  },
  {
   "cell_type": "code",
   "execution_count": 3,
   "metadata": {},
   "outputs": [],
   "source": [
    "from sqlobject import *\n",
    "from sqlobject.inheritance import InheritableSQLObject\n",
    "\n",
    "class Cliente(InheritableSQLObject):\n",
    "    nombre = StringCol(length=100, default='', alternateID=True)\n",
    "    direccion = StringCol()\n",
    "\n",
    "class Ocasional(Cliente):\n",
    "    _inheritable = False\n",
    "    fecha = DateCol()\n",
    "    \n",
    "class Habitual(Cliente):\n",
    "    _inheritable = False\n",
    "    descuento = FloatCol(default= 0.1)    "
   ]
  },
  {
   "cell_type": "code",
   "execution_count": 4,
   "metadata": {},
   "outputs": [
    {
     "data": {
      "text/plain": [
       "[]"
      ]
     },
     "execution_count": 4,
     "metadata": {},
     "output_type": "execute_result"
    }
   ],
   "source": [
    "Cliente.createTable()"
   ]
  },
  {
   "cell_type": "code",
   "execution_count": 6,
   "metadata": {},
   "outputs": [
    {
     "data": {
      "text/plain": [
       "[]"
      ]
     },
     "execution_count": 6,
     "metadata": {},
     "output_type": "execute_result"
    }
   ],
   "source": [
    "Ocasional.createTable()"
   ]
  },
  {
   "cell_type": "code",
   "execution_count": 7,
   "metadata": {},
   "outputs": [
    {
     "data": {
      "text/plain": [
       "[]"
      ]
     },
     "execution_count": 7,
     "metadata": {},
     "output_type": "execute_result"
    }
   ],
   "source": [
    "Habitual.createTable()"
   ]
  },
  {
   "cell_type": "code",
   "execution_count": 8,
   "metadata": {},
   "outputs": [
    {
     "data": {
      "text/plain": [
       "<Ocasional 4 fecha='datetime.date(201...)' nombre='Andrés' direccion='Lugo'>"
      ]
     },
     "execution_count": 8,
     "metadata": {},
     "output_type": "execute_result"
    }
   ],
   "source": [
    "Ocasional(nombre='Juan', direccion='Madrid', fecha='2017-01-04' )\n",
    "Habitual(nombre='María', direccion='Jeréz', descuento=0.2 )\n",
    "Ocasional(nombre='Andrés', direccion='Lugo', fecha='2019-02-04' )"
   ]
  },
  {
   "cell_type": "code",
   "execution_count": null,
   "metadata": {},
   "outputs": [],
   "source": [
    "# Consulta DB Browser SQLite"
   ]
  },
  {
   "cell_type": "code",
   "execution_count": 9,
   "metadata": {},
   "outputs": [
    {
     "name": "stdout",
     "output_type": "stream",
     "text": [
      "[<Ocasional 2 fecha='datetime.date(201...)' nombre='Juan' direccion='Madrid'>, <Habitual 3 descuento=0.2 nombre='María' direccion='Jeréz'>, <Ocasional 4 fecha='datetime.date(201...)' nombre='Andrés' direccion='Lugo'>]\n"
     ]
    }
   ],
   "source": [
    "print(list(Cliente.select()))"
   ]
  },
  {
   "cell_type": "code",
   "execution_count": 10,
   "metadata": {},
   "outputs": [
    {
     "name": "stdout",
     "output_type": "stream",
     "text": [
      "[<Ocasional 2 fecha='datetime.date(201...)' nombre='Juan' direccion='Madrid'>, <Ocasional 4 fecha='datetime.date(201...)' nombre='Andrés' direccion='Lugo'>]\n"
     ]
    }
   ],
   "source": [
    "print(list(Ocasional.select()))"
   ]
  },
  {
   "cell_type": "code",
   "execution_count": 11,
   "metadata": {},
   "outputs": [
    {
     "name": "stdout",
     "output_type": "stream",
     "text": [
      "[<Habitual 3 descuento=0.2 nombre='María' direccion='Jeréz'>]\n"
     ]
    }
   ],
   "source": [
    "print(list(Habitual.select()))"
   ]
  },
  {
   "cell_type": "code",
   "execution_count": 12,
   "metadata": {},
   "outputs": [],
   "source": [
    "a = Ocasional.select(Cliente.q.nombre == 'Juan')[0]\n",
    "a.nombre = 'Juan Antonio'"
   ]
  },
  {
   "cell_type": "code",
   "execution_count": 13,
   "metadata": {},
   "outputs": [
    {
     "name": "stdout",
     "output_type": "stream",
     "text": [
      "[<Ocasional 2 fecha='datetime.date(201...)' nombre='Juan Antonio' direccion='Madrid'>, <Habitual 3 descuento=0.2 nombre='María' direccion='Jeréz'>, <Ocasional 4 fecha='datetime.date(201...)' nombre='Andrés' direccion='Lugo'>]\n"
     ]
    }
   ],
   "source": [
    "print(list(Cliente.select()))"
   ]
  },
  {
   "cell_type": "code",
   "execution_count": 14,
   "metadata": {},
   "outputs": [
    {
     "name": "stdout",
     "output_type": "stream",
     "text": [
      "[<Ocasional 2 fecha='datetime.date(201...)' nombre='Juan Antonio' direccion='Madrid'>, <Ocasional 4 fecha='datetime.date(201...)' nombre='Andrés' direccion='Lugo'>]\n"
     ]
    }
   ],
   "source": [
    "print(list(Ocasional.select()))"
   ]
  },
  {
   "cell_type": "code",
   "execution_count": 16,
   "metadata": {},
   "outputs": [],
   "source": [
    "Ocasional.delete(2)"
   ]
  },
  {
   "cell_type": "code",
   "execution_count": 17,
   "metadata": {},
   "outputs": [
    {
     "name": "stdout",
     "output_type": "stream",
     "text": [
      "[<Habitual 3 descuento=0.2 nombre='María' direccion='Jeréz'>]\n"
     ]
    }
   ],
   "source": [
    "resultado = Habitual.select(Habitual.q.descuento > 0.1)\n",
    "print(list(resultado))"
   ]
  }
 ],
 "metadata": {
  "kernelspec": {
   "display_name": "Python 3 (ipykernel)",
   "language": "python",
   "name": "python3"
  },
  "language_info": {
   "codemirror_mode": {
    "name": "ipython",
    "version": 3
   },
   "file_extension": ".py",
   "mimetype": "text/x-python",
   "name": "python",
   "nbconvert_exporter": "python",
   "pygments_lexer": "ipython3",
   "version": "3.10.8"
  },
  "toc": {
   "base_numbering": 1,
   "nav_menu": {},
   "number_sections": true,
   "sideBar": true,
   "skip_h1_title": false,
   "title_cell": "Table of Contents",
   "title_sidebar": "Contents",
   "toc_cell": false,
   "toc_position": {},
   "toc_section_display": true,
   "toc_window_display": true
  },
  "varInspector": {
   "cols": {
    "lenName": 16,
    "lenType": 16,
    "lenVar": 40
   },
   "kernels_config": {
    "python": {
     "delete_cmd_postfix": "",
     "delete_cmd_prefix": "del ",
     "library": "var_list.py",
     "varRefreshCmd": "print(var_dic_list())"
    },
    "r": {
     "delete_cmd_postfix": ") ",
     "delete_cmd_prefix": "rm(",
     "library": "var_list.r",
     "varRefreshCmd": "cat(var_dic_list()) "
    }
   },
   "types_to_exclude": [
    "module",
    "function",
    "builtin_function_or_method",
    "instance",
    "_Feature"
   ],
   "window_display": false
  }
 },
 "nbformat": 4,
 "nbformat_minor": 4
}
