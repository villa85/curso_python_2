{
 "cells": [
  {
   "attachments": {},
   "cell_type": "markdown",
   "metadata": {},
   "source": [
    "## Proyecto III: Visualización de datos\n",
    "## Yuniel Antonio Villalón Rosales\n",
    "##### Primera Parte: Análisis de Datos \n"
   ]
  },
  {
   "cell_type": "code",
   "execution_count": 1,
   "metadata": {},
   "outputs": [],
   "source": [
    "import os\n",
    "import pandas as pd\n",
    "import seaborn as sb\n"
   ]
  },
  {
   "attachments": {},
   "cell_type": "markdown",
   "metadata": {},
   "source": [
    "a.  Vaciar los datos del fichero barca.csv en un dataframe. Debe mostrar los encabezados de los datos y describir la cantidad de alojamientos disponibles."
   ]
  },
  {
   "cell_type": "code",
   "execution_count": 2,
   "metadata": {},
   "outputs": [
    {
     "data": {
      "text/html": [
       "<div>\n",
       "<style scoped>\n",
       "    .dataframe tbody tr th:only-of-type {\n",
       "        vertical-align: middle;\n",
       "    }\n",
       "\n",
       "    .dataframe tbody tr th {\n",
       "        vertical-align: top;\n",
       "    }\n",
       "\n",
       "    .dataframe thead th {\n",
       "        text-align: right;\n",
       "    }\n",
       "</style>\n",
       "<table border=\"1\" class=\"dataframe\">\n",
       "  <thead>\n",
       "    <tr style=\"text-align: right;\">\n",
       "      <th></th>\n",
       "      <th>room_type</th>\n",
       "      <th>neighborhood</th>\n",
       "      <th>reviews</th>\n",
       "      <th>overall_satisfaction</th>\n",
       "      <th>accommodates</th>\n",
       "      <th>price</th>\n",
       "    </tr>\n",
       "  </thead>\n",
       "  <tbody>\n",
       "    <tr>\n",
       "      <th>0</th>\n",
       "      <td>Shared room</td>\n",
       "      <td>Eixample</td>\n",
       "      <td>27</td>\n",
       "      <td>4.5</td>\n",
       "      <td>10</td>\n",
       "      <td>264.0</td>\n",
       "    </tr>\n",
       "    <tr>\n",
       "      <th>1</th>\n",
       "      <td>Shared room</td>\n",
       "      <td>Sants-Montjuïc</td>\n",
       "      <td>13</td>\n",
       "      <td>4.0</td>\n",
       "      <td>12</td>\n",
       "      <td>129.0</td>\n",
       "    </tr>\n",
       "    <tr>\n",
       "      <th>2</th>\n",
       "      <td>Shared room</td>\n",
       "      <td>Sants-Montjuïc</td>\n",
       "      <td>11</td>\n",
       "      <td>4.0</td>\n",
       "      <td>12</td>\n",
       "      <td>129.0</td>\n",
       "    </tr>\n",
       "    <tr>\n",
       "      <th>3</th>\n",
       "      <td>Shared room</td>\n",
       "      <td>Eixample</td>\n",
       "      <td>9</td>\n",
       "      <td>5.0</td>\n",
       "      <td>2</td>\n",
       "      <td>72.0</td>\n",
       "    </tr>\n",
       "    <tr>\n",
       "      <th>4</th>\n",
       "      <td>Shared room</td>\n",
       "      <td>Eixample</td>\n",
       "      <td>10</td>\n",
       "      <td>5.0</td>\n",
       "      <td>2</td>\n",
       "      <td>64.0</td>\n",
       "    </tr>\n",
       "    <tr>\n",
       "      <th>...</th>\n",
       "      <td>...</td>\n",
       "      <td>...</td>\n",
       "      <td>...</td>\n",
       "      <td>...</td>\n",
       "      <td>...</td>\n",
       "      <td>...</td>\n",
       "    </tr>\n",
       "    <tr>\n",
       "      <th>12628</th>\n",
       "      <td>Private room</td>\n",
       "      <td>Eixample</td>\n",
       "      <td>5</td>\n",
       "      <td>4.5</td>\n",
       "      <td>1</td>\n",
       "      <td>21.0</td>\n",
       "    </tr>\n",
       "    <tr>\n",
       "      <th>12629</th>\n",
       "      <td>Private room</td>\n",
       "      <td>Gràcia</td>\n",
       "      <td>35</td>\n",
       "      <td>4.5</td>\n",
       "      <td>1</td>\n",
       "      <td>24.0</td>\n",
       "    </tr>\n",
       "    <tr>\n",
       "      <th>12630</th>\n",
       "      <td>Private room</td>\n",
       "      <td>Gràcia</td>\n",
       "      <td>9</td>\n",
       "      <td>4.5</td>\n",
       "      <td>1</td>\n",
       "      <td>24.0</td>\n",
       "    </tr>\n",
       "    <tr>\n",
       "      <th>12631</th>\n",
       "      <td>Private room</td>\n",
       "      <td>Eixample</td>\n",
       "      <td>4</td>\n",
       "      <td>5.0</td>\n",
       "      <td>2</td>\n",
       "      <td>34.0</td>\n",
       "    </tr>\n",
       "    <tr>\n",
       "      <th>12632</th>\n",
       "      <td>Private room</td>\n",
       "      <td>Sants-Montjuïc</td>\n",
       "      <td>5</td>\n",
       "      <td>5.0</td>\n",
       "      <td>1</td>\n",
       "      <td>23.0</td>\n",
       "    </tr>\n",
       "  </tbody>\n",
       "</table>\n",
       "<p>12633 rows × 6 columns</p>\n",
       "</div>"
      ],
      "text/plain": [
       "          room_type    neighborhood  reviews  overall_satisfaction  \\\n",
       "0       Shared room        Eixample       27                   4.5   \n",
       "1       Shared room  Sants-Montjuïc       13                   4.0   \n",
       "2       Shared room  Sants-Montjuïc       11                   4.0   \n",
       "3       Shared room        Eixample        9                   5.0   \n",
       "4       Shared room        Eixample       10                   5.0   \n",
       "...             ...             ...      ...                   ...   \n",
       "12628  Private room        Eixample        5                   4.5   \n",
       "12629  Private room          Gràcia       35                   4.5   \n",
       "12630  Private room          Gràcia        9                   4.5   \n",
       "12631  Private room        Eixample        4                   5.0   \n",
       "12632  Private room  Sants-Montjuïc        5                   5.0   \n",
       "\n",
       "       accommodates  price  \n",
       "0                10  264.0  \n",
       "1                12  129.0  \n",
       "2                12  129.0  \n",
       "3                 2   72.0  \n",
       "4                 2   64.0  \n",
       "...             ...    ...  \n",
       "12628             1   21.0  \n",
       "12629             1   24.0  \n",
       "12630             1   24.0  \n",
       "12631             2   34.0  \n",
       "12632             1   23.0  \n",
       "\n",
       "[12633 rows x 6 columns]"
      ]
     },
     "execution_count": 2,
     "metadata": {},
     "output_type": "execute_result"
    }
   ],
   "source": [
    "cols = [\"room_type\",\"neighborhood\", \"price\", \"reviews\", \"overall_satisfaction\", \"accommodates\"]\n",
    "df = pd.read_csv(\"data/barca.csv\", usecols=cols)\n",
    "df"
   ]
  },
  {
   "attachments": {},
   "cell_type": "markdown",
   "metadata": {},
   "source": [
    "b. Mostrar la información del dataset, debe realizar una breve descripción de los datos nombre, tipo de datos y si existen valores nulos, cantidad de atributos numéricos y categóricos (objectos o texto)"
   ]
  },
  {
   "cell_type": "code",
   "execution_count": 3,
   "metadata": {},
   "outputs": [
    {
     "name": "stdout",
     "output_type": "stream",
     "text": [
      "<class 'pandas.core.frame.DataFrame'>\n",
      "RangeIndex: 12633 entries, 0 to 12632\n",
      "Data columns (total 6 columns):\n",
      " #   Column                Non-Null Count  Dtype  \n",
      "---  ------                --------------  -----  \n",
      " 0   room_type             12633 non-null  object \n",
      " 1   neighborhood          12633 non-null  object \n",
      " 2   reviews               12633 non-null  int64  \n",
      " 3   overall_satisfaction  12633 non-null  float64\n",
      " 4   accommodates          12633 non-null  int64  \n",
      " 5   price                 12633 non-null  float64\n",
      "dtypes: float64(2), int64(2), object(2)\n",
      "memory usage: 592.3+ KB\n"
     ]
    }
   ],
   "source": [
    "info = df.info()\n",
    "info"
   ]
  },
  {
   "cell_type": "code",
   "execution_count": 4,
   "metadata": {},
   "outputs": [
    {
     "data": {
      "text/html": [
       "<div>\n",
       "<style scoped>\n",
       "    .dataframe tbody tr th:only-of-type {\n",
       "        vertical-align: middle;\n",
       "    }\n",
       "\n",
       "    .dataframe tbody tr th {\n",
       "        vertical-align: top;\n",
       "    }\n",
       "\n",
       "    .dataframe thead th {\n",
       "        text-align: right;\n",
       "    }\n",
       "</style>\n",
       "<table border=\"1\" class=\"dataframe\">\n",
       "  <thead>\n",
       "    <tr style=\"text-align: right;\">\n",
       "      <th></th>\n",
       "      <th>reviews</th>\n",
       "      <th>overall_satisfaction</th>\n",
       "      <th>accommodates</th>\n",
       "      <th>price</th>\n",
       "    </tr>\n",
       "  </thead>\n",
       "  <tbody>\n",
       "    <tr>\n",
       "      <th>count</th>\n",
       "      <td>12633.000000</td>\n",
       "      <td>12633.000000</td>\n",
       "      <td>12633.000000</td>\n",
       "      <td>12633.000000</td>\n",
       "    </tr>\n",
       "    <tr>\n",
       "      <th>mean</th>\n",
       "      <td>36.560754</td>\n",
       "      <td>4.560239</td>\n",
       "      <td>3.384707</td>\n",
       "      <td>101.214913</td>\n",
       "    </tr>\n",
       "    <tr>\n",
       "      <th>std</th>\n",
       "      <td>43.818590</td>\n",
       "      <td>0.410359</td>\n",
       "      <td>2.220763</td>\n",
       "      <td>99.205871</td>\n",
       "    </tr>\n",
       "    <tr>\n",
       "      <th>min</th>\n",
       "      <td>3.000000</td>\n",
       "      <td>1.000000</td>\n",
       "      <td>1.000000</td>\n",
       "      <td>10.000000</td>\n",
       "    </tr>\n",
       "    <tr>\n",
       "      <th>25%</th>\n",
       "      <td>8.000000</td>\n",
       "      <td>4.500000</td>\n",
       "      <td>2.000000</td>\n",
       "      <td>46.000000</td>\n",
       "    </tr>\n",
       "    <tr>\n",
       "      <th>50%</th>\n",
       "      <td>19.000000</td>\n",
       "      <td>4.500000</td>\n",
       "      <td>2.000000</td>\n",
       "      <td>75.000000</td>\n",
       "    </tr>\n",
       "    <tr>\n",
       "      <th>75%</th>\n",
       "      <td>48.000000</td>\n",
       "      <td>5.000000</td>\n",
       "      <td>4.000000</td>\n",
       "      <td>122.000000</td>\n",
       "    </tr>\n",
       "    <tr>\n",
       "      <th>max</th>\n",
       "      <td>457.000000</td>\n",
       "      <td>5.000000</td>\n",
       "      <td>16.000000</td>\n",
       "      <td>3606.000000</td>\n",
       "    </tr>\n",
       "  </tbody>\n",
       "</table>\n",
       "</div>"
      ],
      "text/plain": [
       "            reviews  overall_satisfaction  accommodates         price\n",
       "count  12633.000000          12633.000000  12633.000000  12633.000000\n",
       "mean      36.560754              4.560239      3.384707    101.214913\n",
       "std       43.818590              0.410359      2.220763     99.205871\n",
       "min        3.000000              1.000000      1.000000     10.000000\n",
       "25%        8.000000              4.500000      2.000000     46.000000\n",
       "50%       19.000000              4.500000      2.000000     75.000000\n",
       "75%       48.000000              5.000000      4.000000    122.000000\n",
       "max      457.000000              5.000000     16.000000   3606.000000"
      ]
     },
     "execution_count": 4,
     "metadata": {},
     "output_type": "execute_result"
    }
   ],
   "source": [
    "descrip = df.describe()\n",
    "descrip"
   ]
  },
  {
   "attachments": {},
   "cell_type": "markdown",
   "metadata": {},
   "source": [
    "c. Mostrar los datos estadísticos del dataset, describa los resultados obtenidos para Price."
   ]
  },
  {
   "cell_type": "code",
   "execution_count": 5,
   "metadata": {},
   "outputs": [
    {
     "data": {
      "text/plain": [
       "count    12633.000000\n",
       "mean       101.214913\n",
       "std         99.205871\n",
       "min         10.000000\n",
       "25%         46.000000\n",
       "50%         75.000000\n",
       "75%        122.000000\n",
       "max       3606.000000\n",
       "Name: price, dtype: float64"
      ]
     },
     "execution_count": 5,
     "metadata": {},
     "output_type": "execute_result"
    }
   ],
   "source": [
    "descrip[\"price\"]"
   ]
  },
  {
   "attachments": {},
   "cell_type": "markdown",
   "metadata": {},
   "source": [
    "d. Mostrar la cantidad de alojamientos que existe para cada tipo de alojamiento (room_type) cantidad y porcentaje."
   ]
  },
  {
   "cell_type": "code",
   "execution_count": 6,
   "metadata": {},
   "outputs": [
    {
     "data": {
      "text/html": [
       "<div>\n",
       "<style scoped>\n",
       "    .dataframe tbody tr th:only-of-type {\n",
       "        vertical-align: middle;\n",
       "    }\n",
       "\n",
       "    .dataframe tbody tr th {\n",
       "        vertical-align: top;\n",
       "    }\n",
       "\n",
       "    .dataframe thead th {\n",
       "        text-align: right;\n",
       "    }\n",
       "</style>\n",
       "<table border=\"1\" class=\"dataframe\">\n",
       "  <thead>\n",
       "    <tr style=\"text-align: right;\">\n",
       "      <th></th>\n",
       "      <th>room_type</th>\n",
       "      <th>percentage</th>\n",
       "    </tr>\n",
       "  </thead>\n",
       "  <tbody>\n",
       "    <tr>\n",
       "      <th>Private room</th>\n",
       "      <td>6526</td>\n",
       "      <td>51.658355</td>\n",
       "    </tr>\n",
       "    <tr>\n",
       "      <th>Entire home/apt</th>\n",
       "      <td>6024</td>\n",
       "      <td>47.684635</td>\n",
       "    </tr>\n",
       "    <tr>\n",
       "      <th>Shared room</th>\n",
       "      <td>83</td>\n",
       "      <td>0.657009</td>\n",
       "    </tr>\n",
       "  </tbody>\n",
       "</table>\n",
       "</div>"
      ],
      "text/plain": [
       "                 room_type  percentage\n",
       "Private room          6526   51.658355\n",
       "Entire home/apt       6024   47.684635\n",
       "Shared room             83    0.657009"
      ]
     },
     "execution_count": 6,
     "metadata": {},
     "output_type": "execute_result"
    }
   ],
   "source": [
    "cant = df[\"room_type\"].value_counts()\n",
    "c_p = pd.DataFrame(cant)\n",
    "c_p[\"percentage\"] = c_p[\"room_type\"]/len(df)*100\n",
    "c_p"
   ]
  },
  {
   "attachments": {},
   "cell_type": "markdown",
   "metadata": {},
   "source": [
    "e. Mostrar un gráfico % alojamientos que existe para cada tipo de alojamiento (room_type)"
   ]
  },
  {
   "cell_type": "code",
   "execution_count": null,
   "metadata": {},
   "outputs": [],
   "source": []
  }
 ],
 "metadata": {
  "kernelspec": {
   "display_name": "base",
   "language": "python",
   "name": "python3"
  },
  "language_info": {
   "codemirror_mode": {
    "name": "ipython",
    "version": 3
   },
   "file_extension": ".py",
   "mimetype": "text/x-python",
   "name": "python",
   "nbconvert_exporter": "python",
   "pygments_lexer": "ipython3",
   "version": "3.10.9"
  },
  "orig_nbformat": 4
 },
 "nbformat": 4,
 "nbformat_minor": 2
}
