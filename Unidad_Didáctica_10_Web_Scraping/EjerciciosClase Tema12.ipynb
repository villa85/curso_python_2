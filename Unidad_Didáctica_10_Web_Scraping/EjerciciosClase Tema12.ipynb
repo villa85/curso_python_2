{
 "cells": [
  {
   "cell_type": "markdown",
   "metadata": {},
   "source": [
    "# Ejercicios Clase Tema 12\n",
    "\n",
    "## BeautifulSoup"
   ]
  },
  {
   "cell_type": "code",
   "execution_count": null,
   "metadata": {},
   "outputs": [],
   "source": [
    "# Para instalar Beautiful Soup, ejecutamos el siguiente comando:\n",
    "!pip install beautifulsoup4\n",
    "\n",
    "# Para instalar el parser lxml y html5lib, ejecuta el siguiente comando:\n",
    "!pip install lxml\n",
    "\n",
    "!pip install html5lib"
   ]
  },
  {
   "cell_type": "markdown",
   "metadata": {},
   "source": [
    "BeautifulSoup es un objeto, que representa al árbol de objetos Python resultante de parsear el documento HTML de entrada, este será nuestro punto de partida para navegar a través de los elementos del árbol, así como para realizar las búsquedas necesarias en el mismo.  Vamos  a ver los distintos objetos que podemos encontrar en un árbol de Beautiful Soup."
   ]
  },
  {
   "cell_type": "markdown",
   "metadata": {},
   "source": [
    "<html lang=\"es\">\n",
    "<head>\n",
    "    <meta charset=\"UTF-8\">\n",
    "    <title>Página de prueba</title>\n",
    "</head>\n",
    "<body>\n",
    "    <div id=\"main\" class=\"full-width\">\n",
    "        <h1>El título de la página</h1>\n",
    "        <p>Este es el primer párrafo de nuestra página de prueba</p>\n",
    "        ...\n",
    "    </div>\n",
    "</body>\n",
    "</html>\n"
   ]
  },
  {
   "cell_type": "code",
   "execution_count": null,
   "metadata": {
    "run_control": {
     "marked": false
    }
   },
   "outputs": [],
   "source": [
    "from bs4 import BeautifulSoup\n",
    "\n",
    "contenido = \"\"\"\n",
    "<html lang=\"es\">\n",
    "<head>\n",
    "    <meta charset=\"UTF-8\">\n",
    "    <title>Página de prueba</title>\n",
    "</head>\n",
    "<body>\n",
    "<div id=\"main\" class=\"full-width\">\n",
    "    <h1>El título de la página</h1>\n",
    "    <p>Este es el primer párrafo de nuestra página de prueba</p>\n",
    "    ...\n",
    "</div>\n",
    "</body>\n",
    "</html>\n",
    "\"\"\"\n",
    "soup = BeautifulSoup(contenido, 'html.parser') # 'html.parser' 'lxml' 'html5lib'\n",
    "soup"
   ]
  },
  {
   "cell_type": "code",
   "execution_count": null,
   "metadata": {},
   "outputs": [],
   "source": [
    "type(soup)"
   ]
  },
  {
   "cell_type": "code",
   "execution_count": null,
   "metadata": {},
   "outputs": [],
   "source": [
    "from bs4 import BeautifulSoup\n",
    "\n",
    "contenido = \"\"\"\n",
    "<html lang=\"es\">\n",
    "<head>\n",
    "    <meta charset=\"UTF-8\">\n",
    "    <title>Página de prueba</title>\n",
    "</head>\n",
    "<body>\n",
    "<div id=\"main\" class=\"full-width\">\n",
    "    <h1>El título de la página</h1>\n",
    "    <p>Este es el primer párrafo de nuestra página de prueba</p>\n",
    "    ...\n",
    "</div>\n",
    "</body>\n",
    "</html>\n",
    "\"\"\"\n",
    "soup = BeautifulSoup(contenido, 'html5lib') # 'lxml'\n",
    "soup"
   ]
  },
  {
   "cell_type": "code",
   "execution_count": null,
   "metadata": {},
   "outputs": [],
   "source": [
    "type(soup)"
   ]
  },
  {
   "cell_type": "markdown",
   "metadata": {},
   "source": [
    "Tag: Este objeto se corresponde con una etiqueta HTML o XML. Por ejemplo, dado el objeto soup, podemos acceder al objeto tag que representa al título de la página usando la etiqueta title:"
   ]
  },
  {
   "cell_type": "code",
   "execution_count": null,
   "metadata": {},
   "outputs": [],
   "source": [
    "soup.title # tag title"
   ]
  },
  {
   "cell_type": "code",
   "execution_count": null,
   "metadata": {},
   "outputs": [],
   "source": [
    "soup.body # tag body"
   ]
  },
  {
   "cell_type": "code",
   "execution_count": null,
   "metadata": {},
   "outputs": [],
   "source": [
    "soup.h1 # tag h1"
   ]
  },
  {
   "cell_type": "code",
   "execution_count": null,
   "metadata": {},
   "outputs": [],
   "source": [
    "soup.p # tag p"
   ]
  },
  {
   "cell_type": "code",
   "execution_count": null,
   "metadata": {},
   "outputs": [],
   "source": [
    "soup.meta  # tag meta"
   ]
  },
  {
   "cell_type": "code",
   "execution_count": null,
   "metadata": {},
   "outputs": [],
   "source": [
    "soup.meta[\"charset\"]"
   ]
  },
  {
   "cell_type": "code",
   "execution_count": null,
   "metadata": {},
   "outputs": [],
   "source": [
    "cuerpo = soup.body # tag body\n",
    "cuerpo"
   ]
  },
  {
   "cell_type": "code",
   "execution_count": null,
   "metadata": {},
   "outputs": [],
   "source": [
    "type(cuerpo)"
   ]
  },
  {
   "cell_type": "code",
   "execution_count": null,
   "metadata": {
    "run_control": {
     "marked": false
    }
   },
   "outputs": [],
   "source": [
    "cuerpo.name # nombre de la etiqueta"
   ]
  },
  {
   "cell_type": "code",
   "execution_count": null,
   "metadata": {},
   "outputs": [],
   "source": [
    "soup.div"
   ]
  },
  {
   "cell_type": "code",
   "execution_count": null,
   "metadata": {
    "run_control": {
     "marked": true
    }
   },
   "outputs": [],
   "source": [
    "div_main = soup.div # tag div\n",
    "div_main"
   ]
  },
  {
   "cell_type": "code",
   "execution_count": null,
   "metadata": {},
   "outputs": [],
   "source": [
    "div_main['id'] # atributo id"
   ]
  },
  {
   "cell_type": "code",
   "execution_count": null,
   "metadata": {},
   "outputs": [],
   "source": [
    "div_main['class'] # atributo class"
   ]
  },
  {
   "cell_type": "markdown",
   "metadata": {},
   "source": [
    "Dado un objeto de tipo Tag, podemos acceder a sus atributos tratando al objeto como si fuera un diccionario. Además, se puede acceder a ese diccionario por medio del atributo attrs"
   ]
  },
  {
   "cell_type": "code",
   "execution_count": null,
   "metadata": {},
   "outputs": [],
   "source": [
    "div_main.attrs # muestra los atributos del tag div"
   ]
  },
  {
   "cell_type": "code",
   "execution_count": null,
   "metadata": {},
   "outputs": [],
   "source": [
    "soup.div.attrs"
   ]
  },
  {
   "cell_type": "code",
   "execution_count": null,
   "metadata": {},
   "outputs": [],
   "source": [
    "soup"
   ]
  },
  {
   "cell_type": "code",
   "execution_count": null,
   "metadata": {},
   "outputs": [],
   "source": [
    "soup.meta"
   ]
  },
  {
   "cell_type": "code",
   "execution_count": null,
   "metadata": {},
   "outputs": [],
   "source": [
    "soup.meta.attrs"
   ]
  },
  {
   "cell_type": "markdown",
   "metadata": {},
   "source": [
    "### NavigableString\n",
    "\n",
    "    NavigableString: Un objeto de este tipo representa la cadena de texto que hay contenida en una etiqueta.\n",
    "    Se accede por medio de la propiedad string:"
   ]
  },
  {
   "cell_type": "code",
   "execution_count": null,
   "metadata": {},
   "outputs": [],
   "source": [
    "soup.p"
   ]
  },
  {
   "cell_type": "code",
   "execution_count": null,
   "metadata": {},
   "outputs": [],
   "source": [
    "soup.p.string"
   ]
  },
  {
   "cell_type": "code",
   "execution_count": null,
   "metadata": {
    "run_control": {
     "marked": false
    }
   },
   "outputs": [],
   "source": [
    "parrafo = soup.p\n",
    "texto = parrafo.string\n",
    "texto"
   ]
  },
  {
   "cell_type": "code",
   "execution_count": null,
   "metadata": {},
   "outputs": [],
   "source": [
    "parrafo = soup.p\n",
    "texto = parrafo.strings\n",
    "for t in texto:\n",
    "    print(t)"
   ]
  },
  {
   "cell_type": "code",
   "execution_count": null,
   "metadata": {},
   "outputs": [],
   "source": [
    "type(texto)"
   ]
  },
  {
   "cell_type": "code",
   "execution_count": null,
   "metadata": {},
   "outputs": [],
   "source": [
    "soup.h1"
   ]
  },
  {
   "cell_type": "code",
   "execution_count": null,
   "metadata": {},
   "outputs": [],
   "source": [
    "soup.h1.string"
   ]
  },
  {
   "cell_type": "code",
   "execution_count": null,
   "metadata": {},
   "outputs": [],
   "source": [
    "titulos = soup.h1\n",
    "texto = titulos.string\n",
    "texto"
   ]
  },
  {
   "cell_type": "markdown",
   "metadata": {},
   "source": [
    "### Navegar a través de los elementos\n",
    "\n",
    "    Lo importante en este punto es entender que un objeto de tipo Tag puede contener otros objetos de tipo Tag u \n",
    "    objetos de tipo NavegableString.\n",
    "\n",
    "    Hemos visto que es posible acceder a los objetos del árbol utilizando los nombres de las etiquetas como atributos.\n",
    "    Esta es la forma más simple de navegar a través del árbol. \n"
   ]
  },
  {
   "cell_type": "markdown",
   "metadata": {},
   "source": [
    "<html lang=\"es\">\n",
    "<head>\n",
    "    <meta charset=\"UTF-8\">\n",
    "    <title>Página de prueba</title>\n",
    "</head>\n",
    "<body>\n",
    "<div id=\"main\" class=\"full-width\">\n",
    "    <h1>El título de la página</h1>\n",
    "    <h2>El subtítulo de la página</h2>\n",
    "    <p>Este es el primer párrafo</p>\n",
    "    <p>Este es el segundo párrafo</p>\n",
    "    <div id=\"innerDiv\">\n",
    "        <div class=\"links\">\n",
    "            <a href=\"https://pagina1.xyz/\">Enlace 1</a>\n",
    "            <a href=\"https://pagina2.xyz/\">Enlace 2</a>\n",
    "        </div>\n",
    "        <div class=\"right\">\n",
    "            <div class=\"links\">\n",
    "                <a href=\"https://pagina3.xyz/\">Enlace 3</a>\n",
    "                <a href=\"https://pagina4.xyz/\">Enlace 4</a>\n",
    "            </div>\n",
    "        </div>\n",
    "    </div>\n",
    "    <div id=\"footer\">\n",
    "        <!-- El footer -->\n",
    "        <p>Este párrafo está en el footer</p>\n",
    "        <div class=\"links footer-links\">\n",
    "            <a href=\"https://pagina5.xyz/\">Enlace 5</a>\n",
    "        </div>\n",
    "    </div>\n",
    "</div>\n",
    "</body>\n",
    "</html>"
   ]
  },
  {
   "cell_type": "code",
   "execution_count": null,
   "metadata": {
    "scrolled": false
   },
   "outputs": [],
   "source": [
    "from bs4 import BeautifulSoup\n",
    "\n",
    "contenido = \"\"\"\n",
    "<html lang=\"es\">\n",
    "<head>\n",
    "    <meta charset=\"UTF-8\">\n",
    "    <title>Página de prueba</title>\n",
    "</head>\n",
    "<body>\n",
    "<div id=\"main\" class=\"full-width\">\n",
    "    <h1>El título de la página</h1>\n",
    "    <p>Este es el primer párrafo</p>\n",
    "    <p>Este es el segundo párrafo</p>\n",
    "    <div id=\"innerDiv\">\n",
    "        <div class=\"links\">\n",
    "            <a href=\"https://pagina1.xyz/\">Enlace 1</a>\n",
    "            <a href=\"https://pagina2.xyz/\">Enlace 2</a>\n",
    "        </div>\n",
    "        <div class=\"right\">\n",
    "            <div class=\"links\">\n",
    "                <a href=\"https://pagina3.xyz/\">Enlace 3</a>\n",
    "                <a href=\"https://pagina4.xyz/\">Enlace 4</a>\n",
    "            </div>\n",
    "        </div>\n",
    "    </div>\n",
    "    <div id=\"footer\">\n",
    "        <!-- El footer -->\n",
    "        <p>Este párrafo está en el footer</p>\n",
    "        <div class=\"links footer-links\">\n",
    "            <a href=\"https://pagina5.xyz/\">Enlace 5</a>\n",
    "        </div>\n",
    "    </div>\n",
    "</div>\n",
    "</body>\n",
    "</html>\n",
    "\"\"\"\n",
    "soup = BeautifulSoup(contenido, 'lxml') # 'html.parser'\n",
    "soup"
   ]
  },
  {
   "cell_type": "code",
   "execution_count": null,
   "metadata": {},
   "outputs": [],
   "source": [
    "soup.meta['charset'] # obtener el atributo 'charset' de la etiqueta meta"
   ]
  },
  {
   "cell_type": "code",
   "execution_count": null,
   "metadata": {},
   "outputs": [],
   "source": [
    "soup.div"
   ]
  },
  {
   "cell_type": "code",
   "execution_count": null,
   "metadata": {},
   "outputs": [],
   "source": [
    "soup.div.div.div"
   ]
  },
  {
   "cell_type": "code",
   "execution_count": null,
   "metadata": {},
   "outputs": [],
   "source": [
    "soup.div.div"
   ]
  },
  {
   "cell_type": "markdown",
   "metadata": {},
   "source": [
    "Hay otras formas de acceder a los hijos de un objeto, además de a través de las etiquetas:\n",
    "\n",
    "      •\tEl atributo contents: Devuelve una lista con todos los hijos de primer nivel de un objeto.\n",
    "      •\tUsando el generador children: Devuelve un iterador para recorrer los hijos de primer nivel de un objeto.\n",
    "      •\tPor medio del generador descendants: Este atributo devuelve un iterador que permite recorrer todos los hijos de un objeto. No importa el nivel de anidamiento.\n"
   ]
  },
  {
   "cell_type": "code",
   "execution_count": null,
   "metadata": {},
   "outputs": [],
   "source": [
    "# Acceder a todos los hijos del bloque div con id=\"innerDiv\" usando contents\n",
    "\n",
    "inner_div = soup.div.div\n",
    "hijos = inner_div.contents"
   ]
  },
  {
   "cell_type": "code",
   "execution_count": null,
   "metadata": {},
   "outputs": [],
   "source": [
    "hijos"
   ]
  },
  {
   "cell_type": "code",
   "execution_count": null,
   "metadata": {},
   "outputs": [],
   "source": [
    "print(type(hijos)) # lista"
   ]
  },
  {
   "cell_type": "code",
   "execution_count": null,
   "metadata": {},
   "outputs": [],
   "source": [
    "for child in hijos:\n",
    "    print(child)"
   ]
  },
  {
   "cell_type": "code",
   "execution_count": null,
   "metadata": {
    "run_control": {
     "marked": false
    }
   },
   "outputs": [],
   "source": [
    "for child in hijos:\n",
    "    if child.name:  # Ignoramos los saltos de línea\n",
    "        print(f'{child}')\n",
    "        #print(f'{child.name}') # nombre de la etiqueta"
   ]
  },
  {
   "cell_type": "code",
   "execution_count": null,
   "metadata": {},
   "outputs": [],
   "source": [
    "hijos"
   ]
  },
  {
   "cell_type": "code",
   "execution_count": null,
   "metadata": {},
   "outputs": [],
   "source": [
    "inner_div = soup.div.div\n",
    "hijos = inner_div.contents\n",
    "\n",
    "for child in hijos:\n",
    "    if child.name:  # Ignoramos los saltos de línea\n",
    "        print(f'{child}')\n",
    "        #print(f'{child.name}')"
   ]
  },
  {
   "cell_type": "code",
   "execution_count": null,
   "metadata": {
    "run_control": {
     "marked": false
    }
   },
   "outputs": [],
   "source": [
    "# Acceder a todos los hijos del bloque div con id=\"innerDiv\" usando children\n",
    "\n",
    "inner_div = soup.div.div\n",
    "hijos = inner_div.children  \n",
    "print(type(hijos))\n",
    "\n",
    "for child in hijos:\n",
    "     if child.name:  # Ignoramos los saltos de línea\n",
    "        print(f'{child.name}')\n",
    "        print(f'{child}')"
   ]
  },
  {
   "cell_type": "code",
   "execution_count": null,
   "metadata": {},
   "outputs": [],
   "source": [
    "# Acceder a todos los hijos del bloque div con id=\"innerDiv\" usando descendants\n",
    "inner_div = soup.div.div\n",
    "hijos = inner_div.descendants  \n",
    "print(type(hijos))\n",
    "print(\"------------------\")\n",
    "for child in hijos:\n",
    "     if child.name:  # Ignoramos los saltos de línea\n",
    "        # print(f'{child.name}')\n",
    "        print(f'{child}')"
   ]
  },
  {
   "cell_type": "code",
   "execution_count": null,
   "metadata": {},
   "outputs": [],
   "source": [
    "hijos = soup.descendants  \n",
    "print(type(hijos))\n",
    "\n",
    "for child in hijos:\n",
    "     if child.name:  \n",
    "        print(f'{child.name}')"
   ]
  },
  {
   "cell_type": "markdown",
   "metadata": {},
   "source": [
    "Además de a los hijos, es posible navegar hacia arriba en el árbol accediendo a los objetos padre de un elemento. Para ello, podemos usar las propiedades parent y parents:\n",
    "\n",
    "    •\tparent referencia al objeto padre de un elemento (Tag o NavigableString).\n",
    "    •\tparents es un generador que permite recorrer recursivamente todos los elementos padre de uno dado.\n"
   ]
  },
  {
   "cell_type": "code",
   "execution_count": null,
   "metadata": {},
   "outputs": [],
   "source": [
    "titulo = soup.title\n",
    "titulo"
   ]
  },
  {
   "cell_type": "code",
   "execution_count": null,
   "metadata": {},
   "outputs": [],
   "source": [
    "titulo.parent"
   ]
  },
  {
   "cell_type": "code",
   "execution_count": null,
   "metadata": {},
   "outputs": [],
   "source": [
    "titulo.parent.meta"
   ]
  },
  {
   "cell_type": "code",
   "execution_count": null,
   "metadata": {},
   "outputs": [],
   "source": [
    "titulo.parent.title.string"
   ]
  },
  {
   "cell_type": "code",
   "execution_count": null,
   "metadata": {},
   "outputs": [],
   "source": [
    "titulo.parent.meta"
   ]
  },
  {
   "cell_type": "code",
   "execution_count": null,
   "metadata": {},
   "outputs": [],
   "source": [
    "titulo.parent.meta[\"charset\"]"
   ]
  },
  {
   "cell_type": "code",
   "execution_count": null,
   "metadata": {},
   "outputs": [],
   "source": [
    "for parent in titulo.parents:\n",
    "    print(parent.name)"
   ]
  },
  {
   "cell_type": "code",
   "execution_count": null,
   "metadata": {},
   "outputs": [],
   "source": [
    "soup.p"
   ]
  },
  {
   "cell_type": "code",
   "execution_count": null,
   "metadata": {},
   "outputs": [],
   "source": [
    "soup.p.parent"
   ]
  },
  {
   "cell_type": "code",
   "execution_count": null,
   "metadata": {},
   "outputs": [],
   "source": [
    "for parent in soup.p.parents:\n",
    "    print(parent.name)"
   ]
  },
  {
   "cell_type": "code",
   "execution_count": null,
   "metadata": {},
   "outputs": [],
   "source": [
    "soup.p.parent.div.a"
   ]
  },
  {
   "cell_type": "code",
   "execution_count": null,
   "metadata": {},
   "outputs": [],
   "source": [
    "soup.p.parent.div.a.string"
   ]
  },
  {
   "cell_type": "markdown",
   "metadata": {},
   "source": [
    "Buscar elementos en Beautiful Soup\n",
    "\n",
    "    Las búsquedas y filtros, es quizás una de las partes más importantes de esta librería.  \n",
    "\n",
    "    Beautiful Soup cuenta con diferentes métodos para buscar elementos en el árbol. Sin embargo, dos de los \n",
    "    principales son find_all() y find().\n",
    "\n",
    "    Ambos métodos trabajan de forma similar. \n",
    "    \n",
    "    Básicamente, buscan entre los descendientes de un objeto de tipo Tag y recuperan todos aquellos que cumplan\n",
    "    una serie de filtros.\n"
   ]
  },
  {
   "cell_type": "code",
   "execution_count": null,
   "metadata": {},
   "outputs": [],
   "source": [
    "# Filtro por nombre de etiqueta"
   ]
  },
  {
   "cell_type": "code",
   "execution_count": null,
   "metadata": {},
   "outputs": [],
   "source": [
    "soup.find_all(\"a\") "
   ]
  },
  {
   "cell_type": "code",
   "execution_count": null,
   "metadata": {},
   "outputs": [],
   "source": [
    "soup(\"a\")"
   ]
  },
  {
   "cell_type": "code",
   "execution_count": null,
   "metadata": {
    "run_control": {
     "marked": false
    }
   },
   "outputs": [],
   "source": [
    "# Filtro por nombre de etiqueta <a>\n",
    "\n",
    "links = soup.find_all('a')\n",
    "for link in links:\n",
    "    print(link)"
   ]
  },
  {
   "cell_type": "code",
   "execution_count": null,
   "metadata": {},
   "outputs": [],
   "source": [
    "type(links)"
   ]
  },
  {
   "cell_type": "code",
   "execution_count": null,
   "metadata": {},
   "outputs": [],
   "source": [
    "# Filtro por atributos\n",
    "\n",
    "footer = soup.find_all(id='footer')\n",
    "print(footer)"
   ]
  },
  {
   "cell_type": "code",
   "execution_count": null,
   "metadata": {},
   "outputs": [],
   "source": [
    "# Filtro por clases CSS\n",
    "# buscar todos los bloques div que tengan la clase links\n",
    "\n",
    "links_divs = soup.find_all('div', class_=\"links\")\n",
    "print(links_divs)"
   ]
  },
  {
   "cell_type": "code",
   "execution_count": null,
   "metadata": {},
   "outputs": [],
   "source": [
    "# Filtro por clases CSS\n",
    "# para buscar una cadena exacta\n",
    "\n",
    "footer_links = soup.find_all(class_=\"links\")\n",
    "print(footer_links)"
   ]
  },
  {
   "cell_type": "code",
   "execution_count": null,
   "metadata": {},
   "outputs": [],
   "source": [
    "# Filtro por clases CSS\n",
    "# para buscar una cadena exacta\n",
    "\n",
    "footer_links = soup.find_all(class_=\"links footer-links\")\n",
    "print(footer_links)"
   ]
  },
  {
   "cell_type": "code",
   "execution_count": null,
   "metadata": {},
   "outputs": [],
   "source": [
    "# Filtro por clases CSS\n",
    "# las variaciones en este caso no funcionan\n",
    "\n",
    "footer_links = soup.find_all(class_=\"footer\") # \"footer-links links\"\n",
    "print(footer_links)"
   ]
  },
  {
   "cell_type": "code",
   "execution_count": null,
   "metadata": {},
   "outputs": [],
   "source": [
    "soup.title.find_all(string=True)"
   ]
  },
  {
   "cell_type": "code",
   "execution_count": null,
   "metadata": {},
   "outputs": [],
   "source": [
    "soup.title(string=True)"
   ]
  },
  {
   "cell_type": "code",
   "execution_count": null,
   "metadata": {},
   "outputs": [],
   "source": [
    "soup.p(string=True)"
   ]
  },
  {
   "cell_type": "code",
   "execution_count": null,
   "metadata": {},
   "outputs": [],
   "source": [
    "soup.p.find_all(string=True)"
   ]
  },
  {
   "cell_type": "code",
   "execution_count": null,
   "metadata": {},
   "outputs": [],
   "source": [
    "texto = soup.find_all(string=True)\n",
    "for t in texto:\n",
    "    if len(t.strip()) > 0:\n",
    "        print(t.string)"
   ]
  },
  {
   "cell_type": "code",
   "execution_count": null,
   "metadata": {},
   "outputs": [],
   "source": [
    "soup.find_all('a')"
   ]
  },
  {
   "cell_type": "code",
   "execution_count": null,
   "metadata": {},
   "outputs": [],
   "source": [
    "soup.find_all('a', limit=1)"
   ]
  },
  {
   "cell_type": "code",
   "execution_count": null,
   "metadata": {},
   "outputs": [],
   "source": [
    "soup.find_all('a', limit=3)"
   ]
  },
  {
   "cell_type": "code",
   "execution_count": null,
   "metadata": {},
   "outputs": [],
   "source": [
    "soup.find('a')  # solo trae el primero"
   ]
  },
  {
   "cell_type": "code",
   "execution_count": null,
   "metadata": {},
   "outputs": [],
   "source": [
    "soup.head.title"
   ]
  },
  {
   "cell_type": "code",
   "execution_count": null,
   "metadata": {},
   "outputs": [],
   "source": [
    "soup.find(\"head\").find(\"title\")"
   ]
  },
  {
   "cell_type": "code",
   "execution_count": null,
   "metadata": {},
   "outputs": [],
   "source": [
    "import re\n",
    "\n",
    "tags = soup.find_all(\"img\", {\"src\": re.compile(\".*\\.png\")})\n",
    "tags"
   ]
  },
  {
   "cell_type": "code",
   "execution_count": null,
   "metadata": {},
   "outputs": [],
   "source": [
    "tags = soup.find_all(\"a\", {\"href\": re.compile(\".*\\.xyz\")})\n",
    "tags"
   ]
  },
  {
   "cell_type": "code",
   "execution_count": null,
   "metadata": {},
   "outputs": [],
   "source": [
    "tags = soup.find_all(re.compile(\"^b\"))\n",
    "tags"
   ]
  },
  {
   "cell_type": "markdown",
   "metadata": {},
   "source": [
    "### CSS selector\n",
    "\n",
    "\n",
    "BeautifulSoup tiene un método .select() que utiliza el paquete SoupSieve para ejecutar un selector CSS \n",
    "contra un documento analizado y devolver todos los elementos coincidentes. Tag tiene un método similar que ejecuta un selector CSS contra el contenido de una sola etiqueta.\n",
    "\n",
    "La documentación de SoupSieve enumera todos los selectores CSS soportados actualmente, pero aquí mencionamremos algunos de los conceptos básicos:\n",
    "\n",
    "    •\tPara buscar por el atributo id se utiliza una almohadilla #ids\n",
    "    •\tPara buscar por el atributo class se utiliza un punto .classes\n",
    "    •\tPara buscar por atributo – valor  [atributes=values]. \n",
    "    •\tPara buscar por padres e hijos parent child o parent > child\n",
    "\n",
    "https://pypi.org/project/soupsieve/#:~:text=Soup%20Sieve%20is%20a%20CSS%20selector%20library%20designed,and%20beyond%20%28though%20some%20are%20not%20yet%20implemented%29.\n"
   ]
  },
  {
   "cell_type": "code",
   "execution_count": null,
   "metadata": {},
   "outputs": [],
   "source": [
    "soup.select(\"a\") # etiqueta"
   ]
  },
  {
   "cell_type": "code",
   "execution_count": null,
   "metadata": {},
   "outputs": [],
   "source": [
    "soup.select(\"title\")"
   ]
  },
  {
   "cell_type": "code",
   "execution_count": null,
   "metadata": {},
   "outputs": [],
   "source": [
    "soup.select(\"h1\")"
   ]
  },
  {
   "cell_type": "code",
   "execution_count": null,
   "metadata": {},
   "outputs": [],
   "source": [
    "soup.select(\"body a\") # Encuentra etiquetas debajo de otras etiquetas"
   ]
  },
  {
   "cell_type": "code",
   "execution_count": null,
   "metadata": {},
   "outputs": [],
   "source": [
    "# Encuentra etiquetas directamente debajo de otras etiquetas\n",
    "soup.select(\"head > title\")"
   ]
  },
  {
   "cell_type": "code",
   "execution_count": null,
   "metadata": {},
   "outputs": [],
   "source": [
    "soup.select(\"head > meta\")"
   ]
  },
  {
   "cell_type": "code",
   "execution_count": null,
   "metadata": {},
   "outputs": [],
   "source": [
    "soup.select(\"body > div > p\")"
   ]
  },
  {
   "cell_type": "code",
   "execution_count": null,
   "metadata": {},
   "outputs": [],
   "source": [
    "soup.select(\".links\") # . especifica que es una clase"
   ]
  },
  {
   "cell_type": "code",
   "execution_count": null,
   "metadata": {},
   "outputs": [],
   "source": [
    "soup.select(\"#innerDiv\") # el # especifica que es un id"
   ]
  },
  {
   "cell_type": "code",
   "execution_count": null,
   "metadata": {},
   "outputs": [],
   "source": [
    "soup.select(\"div#innerDiv\") # etiqueta div # -> id=\"innerDiv\""
   ]
  },
  {
   "cell_type": "code",
   "execution_count": null,
   "metadata": {},
   "outputs": [],
   "source": [
    "soup.select('a[href]')"
   ]
  },
  {
   "cell_type": "code",
   "execution_count": null,
   "metadata": {},
   "outputs": [],
   "source": [
    "soup.select('a[href^=\"https://pagina1\"]') # atributo = value ^ que comience en"
   ]
  },
  {
   "cell_type": "code",
   "execution_count": null,
   "metadata": {},
   "outputs": [],
   "source": [
    "soup.select('a[href$=\".xyz/\"]') # atributo - value $ que termine en"
   ]
  },
  {
   "cell_type": "code",
   "execution_count": null,
   "metadata": {},
   "outputs": [],
   "source": [
    "soup.select('a[href*=\"pagina\"]') # atributo - value * todo"
   ]
  },
  {
   "cell_type": "markdown",
   "metadata": {},
   "source": [
    "### Extraer valor de los atributos"
   ]
  },
  {
   "cell_type": "code",
   "execution_count": null,
   "metadata": {},
   "outputs": [],
   "source": [
    "tag = soup.select(\"a\")\n",
    "tag"
   ]
  },
  {
   "cell_type": "code",
   "execution_count": null,
   "metadata": {},
   "outputs": [],
   "source": [
    "tag = soup.select(\"a\")\n",
    "for t in tag:\n",
    "    print(t.get(\"href\"))"
   ]
  },
  {
   "cell_type": "code",
   "execution_count": null,
   "metadata": {
    "code_folding": []
   },
   "outputs": [],
   "source": [
    "tag = soup.select(\"a\")\n",
    "for t in tag:\n",
    "    print(t.get_attribute_list(\"href\")) # retorna cada elemento en una lista"
   ]
  },
  {
   "cell_type": "code",
   "execution_count": null,
   "metadata": {},
   "outputs": [],
   "source": [
    "tag = soup.select(\"a\")\n",
    "for t in tag:\n",
    "    print(t.get_text(\"href\"))"
   ]
  },
  {
   "cell_type": "code",
   "execution_count": null,
   "metadata": {},
   "outputs": [],
   "source": [
    "# ^ acento cicurflejo"
   ]
  },
  {
   "cell_type": "markdown",
   "metadata": {},
   "source": [
    "### Extraer Tablas"
   ]
  },
  {
   "cell_type": "code",
   "execution_count": null,
   "metadata": {},
   "outputs": [],
   "source": [
    "from bs4 import BeautifulSoup\n",
    "import requests"
   ]
  },
  {
   "cell_type": "code",
   "execution_count": null,
   "metadata": {
    "run_control": {
     "marked": false
    }
   },
   "outputs": [],
   "source": [
    "url = \"https://es.wikipedia.org/wiki/Poblaci%C3%B3n_mundial\"\n",
    "r = requests.get(url)\n",
    "\n",
    "res = BeautifulSoup(r.text, \"html\") # parse \"html5lib\"\n",
    "res.select(\"table > tbody\") "
   ]
  },
  {
   "cell_type": "code",
   "execution_count": null,
   "metadata": {},
   "outputs": [],
   "source": [
    "url = \"https://es.wikipedia.org/wiki/Poblaci%C3%B3n_mundial\"\n",
    "r = requests.get(url)\n",
    "\n",
    "res = BeautifulSoup(r.text, \"html\")\n",
    "tags = res.table.tbody\n",
    "\n",
    "cabeceras = tags.select(\"th\")\n",
    "\n",
    "cabecera = []\n",
    "\n",
    "for i in cabeceras:\n",
    "    cabecera.append(i.get_text().strip())\n",
    "cabecera"
   ]
  },
  {
   "cell_type": "code",
   "execution_count": null,
   "metadata": {},
   "outputs": [],
   "source": [
    "url = \"https://es.wikipedia.org/wiki/Poblaci%C3%B3n_mundial\"\n",
    "r = requests.get(url)\n",
    "\n",
    "res = BeautifulSoup(r.text, \"html\")\n",
    "tags = res.table.tbody\n",
    "\n",
    "resultados = tags.select(\"td\")\n",
    "poblacion = []\n",
    "\n",
    "for i in resultados:\n",
    "    poblacion.append(i.get_text().strip())\n",
    "poblacion"
   ]
  },
  {
   "cell_type": "code",
   "execution_count": null,
   "metadata": {
    "run_control": {
     "marked": false
    }
   },
   "outputs": [],
   "source": [
    "p_mundial = []\n",
    "lista = []\n",
    "i=0\n",
    "for j in range(6):\n",
    "    for x in range(6):\n",
    "        lista.append(poblacion[i])\n",
    "        i += 1\n",
    "    p_mundial.append(lista)\n",
    "    lista = []\n",
    "    if j != 0:\n",
    "        i = j * 6\n",
    "p_mundial"
   ]
  },
  {
   "cell_type": "code",
   "execution_count": null,
   "metadata": {},
   "outputs": [],
   "source": [
    "import pandas as pd\n",
    "import numpy as np\n",
    "\n",
    "df = pd.DataFrame(p_mundial, columns = cabecera)\n",
    "df"
   ]
  },
  {
   "cell_type": "markdown",
   "metadata": {},
   "source": [
    "### Extraer tablas desde una web con pandas"
   ]
  },
  {
   "cell_type": "code",
   "execution_count": null,
   "metadata": {},
   "outputs": [],
   "source": [
    "import pandas as pd\n",
    "\n",
    "url = \"https://es.wikipedia.org/wiki/Poblaci%C3%B3n_mundial\"\n",
    "\n",
    "# Crea un dataframe con todas las tablas\n",
    "\n",
    "df = pd.read_html(url)\n",
    "df"
   ]
  },
  {
   "cell_type": "code",
   "execution_count": null,
   "metadata": {
    "run_control": {
     "marked": false
    }
   },
   "outputs": [],
   "source": [
    "# Verificamos la cantidad de tablas generadas\n",
    "len(df)"
   ]
  },
  {
   "cell_type": "code",
   "execution_count": null,
   "metadata": {},
   "outputs": [],
   "source": [
    "type(df)"
   ]
  },
  {
   "cell_type": "code",
   "execution_count": null,
   "metadata": {},
   "outputs": [],
   "source": [
    "# Creamos un nuevo DataFrame para cada tabla\n",
    "\n",
    "df_p_continente = df[0]\n",
    "df_p_continente"
   ]
  },
  {
   "cell_type": "code",
   "execution_count": null,
   "metadata": {
    "scrolled": true
   },
   "outputs": [],
   "source": [
    "df_p_hist_mundial = df[1]\n",
    "df_p_hist_mundial"
   ]
  },
  {
   "cell_type": "code",
   "execution_count": null,
   "metadata": {},
   "outputs": [],
   "source": [
    "df[2]"
   ]
  },
  {
   "cell_type": "markdown",
   "metadata": {},
   "source": [
    "### Manejo de errores\n",
    "\n",
    "    Un error HTTPError es provocado por un código de respuesta de error\n",
    "    Un error URLError es provocado porque no existe conexión o el dominio es incorrecto.\n",
    "    \n",
    "    En una consulta con BeatifulSoup puede ocurrir que el elemento solicitado no exista. \n",
    "    En este caso no se lanzará una excepción, sino que obtendremos el valor None como respuesta\n"
   ]
  },
  {
   "cell_type": "code",
   "execution_count": null,
   "metadata": {},
   "outputs": [],
   "source": [
    "from urllib.request import urlopen\n",
    "from urllib.error import HTTPError, URLError\n",
    "\n",
    "from bs4 import BeautifulSoup\n",
    "\n",
    "try:\n",
    "    html = urlopen(\"https://www.python.org/\")\n",
    "except HTTPError as ex:\n",
    "    print(ex)\n",
    "except URLError:\n",
    "    print(\"Servidor caído o dominio incorrecto.\")\n",
    "else:\n",
    "    res = BeautifulSoup(html.read(), \"html5lib\")\n",
    "if res.title is None:\n",
    "    print(\"Etiqueta no encontrada.\")\n",
    "else:\n",
    "    print(res.title) # Imprime el título de la página"
   ]
  },
  {
   "cell_type": "markdown",
   "metadata": {},
   "source": [
    "### Ejemplo"
   ]
  },
  {
   "cell_type": "code",
   "execution_count": null,
   "metadata": {},
   "outputs": [],
   "source": [
    "import requests\n",
    "from bs4 import BeautifulSoup\n",
    "\n",
    "url = 'https://www.amazon.es/gp/most-wished-for/books?ref_=Oct_d_omwf_S&pd_rd_w=7jREM&pf_rd_p=dbaa2a38-774d-404a-bd20-b06321c0935b&pf_rd_r=NGR7FBC1SC600T2EF2G5&pd_rd_r=5ace16a8-104a-4e6b-a156-46c619f88b4f&pd_rd_wg=Kfb6F'\n",
    "r = requests.get(url)\n",
    "\n",
    "soup = BeautifulSoup(r.text,\"html\" ) #'lxml'\n",
    "soup"
   ]
  },
  {
   "cell_type": "code",
   "execution_count": null,
   "metadata": {},
   "outputs": [],
   "source": [
    " soup.title"
   ]
  },
  {
   "cell_type": "code",
   "execution_count": null,
   "metadata": {},
   "outputs": [],
   "source": [
    "soup.title.string"
   ]
  },
  {
   "cell_type": "code",
   "execution_count": null,
   "metadata": {},
   "outputs": [],
   "source": [
    "soup.meta"
   ]
  },
  {
   "cell_type": "code",
   "execution_count": null,
   "metadata": {},
   "outputs": [],
   "source": [
    "enlaces = soup.find_all('a')\n",
    "for enlace in enlaces:\n",
    "    print(enlace)"
   ]
  },
  {
   "cell_type": "code",
   "execution_count": null,
   "metadata": {},
   "outputs": [],
   "source": [
    "footer = soup.find_all(id='skippedLink')\n",
    "footer"
   ]
  },
  {
   "cell_type": "code",
   "execution_count": null,
   "metadata": {},
   "outputs": [],
   "source": [
    "import re\n",
    "tags = soup.find_all(\"img\", {\"src\": re.compile(\".*\\.jpg\")})\n",
    "tags"
   ]
  },
  {
   "cell_type": "code",
   "execution_count": null,
   "metadata": {},
   "outputs": [],
   "source": [
    "import re\n",
    "tags = soup.find_all(\"img\", {\"src\": re.compile(\".*\\.jpg\")})\n",
    "\n",
    "for i in tags:\n",
    "    print(i[\"src\"])\n"
   ]
  },
  {
   "cell_type": "code",
   "execution_count": null,
   "metadata": {},
   "outputs": [],
   "source": [
    "soup.select('a[href]')"
   ]
  },
  {
   "cell_type": "code",
   "execution_count": null,
   "metadata": {},
   "outputs": [],
   "source": [
    "soup.find_all('div', class_=\"_cDEzb_p13n-sc-css-line-clamp-1_1Fn1y\")"
   ]
  },
  {
   "cell_type": "markdown",
   "metadata": {},
   "source": [
    "### Extraer los titulos de los libros"
   ]
  },
  {
   "cell_type": "code",
   "execution_count": null,
   "metadata": {},
   "outputs": [],
   "source": [
    "import re\n",
    "titulos = soup.find_all(\"img\", {\"alt\": re.compile(\"(.*?)\")})\n",
    "l_titulos = []\n",
    "\n",
    "for i in titulos:\n",
    "    if len(i[\"alt\"].strip()) > 0:\n",
    "        l_titulos.append(i[\"alt\"].strip())\n",
    "        \n",
    "l_titulos \n"
   ]
  },
  {
   "cell_type": "code",
   "execution_count": null,
   "metadata": {},
   "outputs": [],
   "source": [
    "autores = soup.find_all('span', class_=\"a-size-small a-color-base\")\n",
    "l_autores = []\n",
    "\n",
    "for i in autores:\n",
    "    l_autores.append(i.text.strip())\n",
    "    \n",
    "l_autores\n"
   ]
  },
  {
   "cell_type": "code",
   "execution_count": null,
   "metadata": {},
   "outputs": [],
   "source": [
    "tapa = soup.find_all('span', class_=\"a-size-small a-color-secondary\")\n",
    "l_tapa = []\n",
    "\n",
    "for i in tapa:\n",
    "    l_tapa.append(i.text.strip())\n",
    "\n",
    "l_tapa"
   ]
  },
  {
   "cell_type": "code",
   "execution_count": null,
   "metadata": {},
   "outputs": [],
   "source": [
    "precios = soup.find_all('span', class_=\"p13n-sc-price\")\n",
    "l_precios = []\n",
    "\n",
    "for i in precios:\n",
    "    l_precios.append(i.text[:-1].strip() ) #+ i.text[-1].strip() \n",
    "\n",
    "l_precios"
   ]
  },
  {
   "cell_type": "code",
   "execution_count": null,
   "metadata": {},
   "outputs": [],
   "source": [
    "# Creamos un diccionario\n",
    "\n",
    "libros = {}\n",
    "pos = 0\n",
    "for titulo in l_titulos[1:40]:\n",
    "    libros[titulo] = {l_autores[pos],  l_precios[pos]}\n",
    "    pos += 1\n",
    "    \n",
    "libros"
   ]
  },
  {
   "cell_type": "code",
   "execution_count": null,
   "metadata": {},
   "outputs": [],
   "source": [
    "libros['Invisible (Nube de Tinta)']"
   ]
  },
  {
   "cell_type": "code",
   "execution_count": null,
   "metadata": {},
   "outputs": [],
   "source": [
    "libros['El Hombre en busca de Sentido']"
   ]
  },
  {
   "cell_type": "code",
   "execution_count": null,
   "metadata": {},
   "outputs": [],
   "source": [
    "# Crearemos un DataFrame"
   ]
  },
  {
   "cell_type": "code",
   "execution_count": null,
   "metadata": {},
   "outputs": [],
   "source": [
    "libros_amazon = {}\n",
    "libros_amazon[\"autores\"] = l_autores[:40]"
   ]
  },
  {
   "cell_type": "code",
   "execution_count": null,
   "metadata": {},
   "outputs": [],
   "source": [
    "libros_amazon"
   ]
  },
  {
   "cell_type": "code",
   "execution_count": null,
   "metadata": {
    "run_control": {
     "marked": false
    }
   },
   "outputs": [],
   "source": [
    "libros_amazon[\"titulos\"] = l_titulos[1:41]"
   ]
  },
  {
   "cell_type": "code",
   "execution_count": null,
   "metadata": {},
   "outputs": [],
   "source": [
    "libros_amazon"
   ]
  },
  {
   "cell_type": "code",
   "execution_count": null,
   "metadata": {},
   "outputs": [],
   "source": [
    "#libros_amazon[\"tapa\"] = l_tapa[:40]\n",
    "libros_amazon[\"precio\"] = l_precios[:40]"
   ]
  },
  {
   "cell_type": "code",
   "execution_count": null,
   "metadata": {},
   "outputs": [],
   "source": [
    "libros_amazon"
   ]
  },
  {
   "cell_type": "code",
   "execution_count": null,
   "metadata": {},
   "outputs": [],
   "source": [
    "import pandas as pd\n",
    "\n",
    "df_libros_amazon = pd.DataFrame(libros_amazon)\n",
    "df_libros_amazon"
   ]
  },
  {
   "cell_type": "markdown",
   "metadata": {},
   "source": [
    "# Selenium\n",
    "\n",
    "    Selenium es un framework portátil que permite automatizar las funcionalidades de los navegadores web utilizando una\n",
    "    amplia gama de lenguajes de programación. Mientras que se utiliza principalmente para probar aplicaciones web \n",
    "    automáticamente, también se puede utilizar para extraer datos en línea."
   ]
  },
  {
   "cell_type": "code",
   "execution_count": null,
   "metadata": {},
   "outputs": [],
   "source": [
    "# Instalar instalar la librería Python para Selenium\n",
    "!pip install selenium"
   ]
  },
  {
   "attachments": {
    "image-5.png": {
     "image/png": "[encoded data removed]"
    },
    "image-6.png": {
     "image/png": "[encoded data removed]"
    }
   },
   "cell_type": "markdown",
   "metadata": {},
   "source": [
    "## Instalar el WebDriver para Chrome\n",
    "\n",
    "Pasos:\n",
    "\n",
    "1. Verificar la version de Chrome: ... - Ayuda - Acerca de\n",
    "\n",
    "![image-6.png](attachment:image-6.png)\n",
    "\n",
    "2. Obtener el driver de acuerdo a nuestra version de Chrome\n",
    "\n",
    "    https://sites.google.com/chromium.org/driver/\n",
    "    \n",
    "    https://sites.google.com/a/chromium.org/chromedriver/downloads\n",
    "    \n",
    "![image-5.png](attachment:image-5.png)\n",
    "\n",
    "3. Crear una carpeta C:\\Program Files (x86)\\Chromedriver y copiar el fichero \n",
    "    \n",
    "Para mas información:\n",
    "\n",
    "    https://www.selenium.dev/documentation/en/webdriver/driver_requirements/"
   ]
  },
  {
   "cell_type": "code",
   "execution_count": null,
   "metadata": {},
   "outputs": [],
   "source": [
    "# Importar los modulos\n",
    "\n",
    "from selenium import webdriver # inicializar el browser\n",
    "from selenium.webdriver.common.keys import Keys # Emula el teclado\n",
    "from selenium.webdriver.common.by import By # buscar items\n",
    "from selenium.webdriver.support.ui import WebDriverWait # carga la página\n",
    "from selenium.webdriver.support import expected_conditions as EC # emite instrucciones para esperar al resto del código"
   ]
  },
  {
   "cell_type": "code",
   "execution_count": null,
   "metadata": {},
   "outputs": [],
   "source": [
    "# Inicializar el WebDriver de Chrome, abre el navegador con una ventana en blanco\n",
    "\n",
    "PATH = \"C:\\Program Files (x86)\\Chromedriver\\chromedriver.exe\"\n",
    "driver = webdriver.Chrome(PATH)\n",
    "driver"
   ]
  },
  {
   "cell_type": "code",
   "execution_count": null,
   "metadata": {},
   "outputs": [],
   "source": [
    "# Navegar en la página web https://www.reddit.com/\n",
    "\n",
    "driver.get(\"https://www.reddit.com/\")"
   ]
  },
  {
   "cell_type": "code",
   "execution_count": null,
   "metadata": {},
   "outputs": [],
   "source": [
    "# Localizar el cuadro de búsqueda\n",
    "\n",
    "search = driver.find_element_by_name(\"q\")\n",
    "search"
   ]
  },
  {
   "cell_type": "code",
   "execution_count": null,
   "metadata": {},
   "outputs": [],
   "source": [
    "# Introducimos el término de búsqueda \"scraping\"\n",
    "\n",
    "search.send_keys(\"scraping\")\n",
    "search.send_keys(Keys.RETURN)"
   ]
  },
  {
   "cell_type": "code",
   "execution_count": null,
   "metadata": {},
   "outputs": [],
   "source": [
    "# Buscamos dentro del código de la página web la clase que contiene todos los encabezados\n",
    "# en nuestro caso \"_3Up38k81YNBWQoW1ovMU88\"\n",
    "\n",
    " <div class=\"_3Up38k81YNBWQoW1ovMU88\"><div><div data-testid=\"search-results-nav\" class=\"_3ZVtna7z8ubZ_0xlkz8Ciq\"><div class=\"_17ENg3CVcX9h4tizklzbBA\" role=\"tablist\"><a class=\"_3VRnVFcuw-VlyOQOYOl2aT\" aria-selected=\"true\" role=\"tab\" href=\"/search/?q=scraping&amp;type=\"><button class=\"cmR5BF4NpBUm3DBMZCmJS _2jNQT-6WbFOjX2hdDWV56w _2dj14FxV-bfkwopj1jV_fF\">Publicaciones</button></a><a class=\"_3VRnVFcuw-VlyOQOYOl2aT\" aria-selected=\"false\" role=\"tab\" href=\"/search/?q=scraping&amp;type=sr%2Cuser\"><button class=\"cmR5BF4NpBUm3DBMZCmJS _2jNQT-6WbFOjX2hdDWV56w _1g3g98ViMb36cM-peU17Jk\">Comunidades y gente</button></a></div></div><div data-testid=\"search-results-subnav\" class=\"XZK-LTFT5CgGo9MvPQQsy _26jxFFm8Z3TxPyZxoddAGy\"><div class=\"_22_pCIPvWXgGDvfV4Hi_RZ\"><button data-testid=\"search-results-filter-sort\" class=\"cmR5BF4NpBUm3DBMZCmJS _2jNQT-6WbFOjX2hdDWV56w _1g3g98ViMb36cM-peU17Jk _2RO66v7UQZQ1jiF36lZdHr\">Ordenar<i class=\"_26YOIiLM0ZScbbxLq0o7I0 icon icon-caret_down\"></i></button><div id=\"search-results-sort\"></div></div><div class=\"_22_pCIPvWXgGDvfV4Hi_RZ\"><button data-testid=\"search-results-filter-time\" class=\"cmR5BF4NpBUm3DBMZCmJS _2jNQT-6WbFOjX2hdDWV56w _1g3g98ViMb36cM-peU17Jk _2RO66v7UQZQ1jiF36lZdHr\">Hora<i class=\"_26YOIiLM0ZScbbxLq0o7I0 icon icon-caret_down\"></i></button><div id=\"search-results-time\"></div></div></div></div><div class=\"_2lzCpzHH0OvyFsvuESLurr _3SktesklDBwXt2pEl0sHY8\"><div class=\"_1BJGsKulUQfhJyO19XsBph _3SktesklDBwXt2pEl0sHY8\"><div tabindex=\"0\"></div><div class=\"EmAI60CZ6hqtjh7kIC2SS\"><div class=\"QBfRw7Rj8UkxybFpX-USO\"><div><div><div class=\"_1oQyIsiPHYt6nx7VOmd1sz _2dkUkgRYbhbpU_2O2Wc5am _28efb5XEIggTEMzT5v9i61 scrollerItem Post t3_qgdx1z \" data-testid=\"post-container\" id=\"t3_qgdx1z\" tabindex=\"-1\" style=\"color: rgb(135, 138, 140); cursor: pointer; fill: rgb(135, 138, 140);\"><div class=\"_1poyrkZ7g36PawDueRza-J\" data-click-id=\"background\" style=\"background: rgb(255, 255, 255);\"><div class=\"_2i5O0KNpb9tDq0bsNOZB_Q \" data-click-id=\"body\"><div class=\"_37TF67KpZQl9SHbiAhz3mf _3xeOZ4NlqvpwzbB5E8QC6r\"><div class=\"_2mHuuvyV9doV3zwbZPtIPG _3Wz607wX-KXslTUjYvTZWi _3Wz607wX-KXslTUjYvTZWi\"><a href=\"/r/Python/\"><img alt=\"Icono de subreddit\" role=\"presentation\" src=\"https://styles.redditmedia.com/t5_2qh0y/styles/communityIcon_h9cdwd9m75a51.png?width=256&amp;s=d4d1eb25f0a6853d76836ca30184fc9a67a57464\" class=\"_34CfAAowTqdbNDYXz5tBTW _33bYVIxJlbFcqiiYlexnqp id5ExZR7GqiUypGICnSYs\" style=\"background-color: rgb(34, 58, 85);\"></a><a data-testid=\"subreddit-name\" data-click-id=\"subreddit\" class=\"_3ryJoIoycVkA88fy40qNJc _305seOZmrgus3clHOXCmfs\" href=\"/r/Python/\">r/Python</a><div class=\"_3Wz607wX-KXslTUjYvTZWi _3Wz607wX-KXslTUjYvTZWi\" id=\"SubredditInfoTooltip--t3_qgdx1z--Python\"></div></div><span class=\"_3LS4zudUBagjFS7HjWJYxo _37gsGHa8DMRAxBmQS-Ppg8\" role=\"presentation\">•</span><div class=\"_3AStxql1mQsrZuUIFP9xSg _1wxi9M8fCejzbsH0YGSer2\"><span class=\"_2fCzxBE1dlMh4OFc7B3Dun\" style=\"color: rgb(120, 124, 126);\">Publicado por</span><div class=\"_2mHuuvyV9doV3zwbZPtIPG\"><a class=\"_2tbHP6ZydRpjI44J3syuqC  _23wugcdiaj44hdfugIAlnX oQctV4n0yUb0uiHDdGnmE\" href=\"/user/backdoorman9/\" style=\"color: rgb(120, 124, 126);\">u/backdoorman9</a><div id=\"UserInfoTooltip--t3_qgdx1z\"></div></div><a class=\"_3jOxDPIQ0KaOWpzvSQo-1s\" data-click-id=\"timestamp\" href=\"https://www.reddit.com/r/Python/comments/qgdx1z/web_scraping_in_a_professional_setting_selenium/\" target=\"_blank\" rel=\"nofollow noopener noreferrer\" style=\"color: rgb(120, 124, 126);\">hace 1 mes</a></div></div><div class=\"_19FzInkloQSdrf0rh3Omen\"><div><div class=\"_2FCtq-QzlfuN-SwVMUZMM3 t3_qgdx1z\"><div class=\"y8HYJ-y_lTUHkQIc1mdCq _2INHSNB8V5eaWp4P0rY_mE\"><a data-click-id=\"body\" class=\"SQnoC3ObvgnGjWt90zD9Z _2INHSNB8V5eaWp4P0rY_mE\" href=\"/r/Python/comments/qgdx1z/web_scraping_in_a_professional_setting_selenium/\"><div class=\"_2SdHzo12ISmrC8H86TgSCp _1zpZYP8cFNLfLDexPY65Y7 \" style=\"--posttitletextcolor:#222222;\"><h3 class=\"_eYtD2XCVieq6emjKBH3m\">Web <span class=\"_1Nh8xLEUG3orjY1k1aijj\">Scraping</span> in a professional setting: Selenium vs. BeautifulSoup</h3></div></a></div><div class=\"_2xu1HuBz1Yx6SP10AGVx_I\" data-ignore-click=\"false\"><div class=\"lrzZ8b0L6AzLkQj5Ww7H1\"></div><div class=\"lrzZ8b0L6AzLkQj5Ww7H1\"><a href=\"/r/Python/?f=flair_name%3A%22Discussion%22\"><div class=\"_2X6EB3ZhEeXCh1eIVA64XM _2hSecp_zkPm_s5ddV2htoj _2VqfzH0dZ9dIl3XWNxs42y aJrgrewN9C8x1Fusdx4hh \" style=\"background-color: rgb(237, 239, 241); color: rgb(26, 26, 27);\"><span>Discussion</span></div></a></div></div><div class=\"_1hLrLjnE1G_RBCNcN9MVQf\">\n",
    "              <img alt=\"\" src=\"https://www.redditstatic.com/desktop2x/img/renderTimingPixel.png\" style=\"width: 1px; height: 1px;\" onload=\"(__markFirstPostVisible || function(){})();\">\n",
    "            </div><style>\n",
    "        .t3_qgdx1z ._2FCtq-QzlfuN-SwVMUZMM3 {\n",
    "          --postTitle-VisitedLinkColor: #9b9b9b;\n",
    "          --postTitleLink-VisitedLinkColor: #9b9b9b;\n",
    "       \n",
    "        }\n",
    "      </style></div></div><div class=\"Gk-MlLujgqsaX1n-sGa_O\"><div class=\"_2MkcR85HDnYngvlVW2gMMa\"><a href=\"https://i.redd.it/dbps4tnypsx71.jpg\" rel=\"noopener nofollow ugc\" target=\"_blank\"><div aria-label=\"It is called &quot;Comming home from work, seeing a stuffed hotend scraping the metal plate&quot; STL anyone?😬😬😬\" class=\"_2c1ElNxHftd8W_nZtcG9zf _33Pa96SGhFVpZeI6a7Y_Pl _2r9BZFotuBbLYnijAaskeZ \" data-click-id=\"image\" role=\"img\" style=\"background-image: url(&quot;https://b.thumbs.redditmedia.com/aJJ9xSM7oGo1IG4i8OLLvXvp2UPOMOaQBvikQkMGiyQ.jpg&quot;); border-color: rgb(237, 239, 241);\"><img alt=\"It is called &quot;Comming home from work, seeing a stuffed hotend scraping the metal plate&quot; STL anyone?😬😬😬\" class=\"_25ZOvQhQdAqwdxPd5z-KFB hiddenImg\"></div></a></div></div></div><div class=\"_2IpBiHtzKzIxk2fKI4UOv1 HNL__wz5plDpzJe5Lnn\"><span class=\"_vaFo96phV6L5Hltvwcox\">288 upvotes</span><span class=\"_vaFo96phV6L5Hltvwcox\">77 comentarios</span><span class=\"_vaFo96phV6L5Hltvwcox\">0 premios</span></div></div></div></div></div></div></div><div class=\"FohHGMokxXLkon1aacMoi\"><div class=\"_3tBFh6Ty3gSaxW4gcm6hZ_\"><div class=\"_2486DvSWPD-F9xM1LaS9AZ\"><div class=\"-epve_JNERIUWcWNKZJF6\"><div class=\"_2dzkHWoQ7wLdDsEAwyw1NL\"><div class=\"_1cE9WBao1CSNnKKQd97erN _3giTODNeZ-Po90u8Ghs4aI fzTkuBRFT8iIn1XnJX_Yn \"></div><div class=\"dXH0UqIq_Mtkd24573Rs5 _3giTODNeZ-Po90u8Ghs4aI fzTkuBRFT8iIn1XnJX_Yn \"></div></div><div class=\"_1NHO6pCrlHfrC6Q-_d-3kZ\"><div class=\"aHlABuIzfJ3NbabTwjGN8 _3giTODNeZ-Po90u8Ghs4aI fzTkuBRFT8iIn1XnJX_Yn \"></div><div class=\"_22TlQsT52A1DMzjuJNEb7b\"><div class=\"_1wEL9K8jt2pgaYL1hhQt_P _3giTODNeZ-Po90u8Ghs4aI fzTkuBRFT8iIn1XnJX_Yn \"></div></div></div><div class=\"_2ztqeqAwKeO-Fwjjpm3ou2\"><div class=\"hKjLaaNx-nWjCGihE3wwZ _3giTODNeZ-Po90u8Ghs4aI fzTkuBRFT8iIn1XnJX_Yn \"></div><div class=\"hKjLaaNx-nWjCGihE3wwZ _3giTODNeZ-Po90u8Ghs4aI fzTkuBRFT8iIn1XnJX_Yn \"></div><div class=\"hKjLaaNx-nWjCGihE3wwZ _3giTODNeZ-Po90u8Ghs4aI fzTkuBRFT8iIn1XnJX_Yn \"></div></div></div></div><div class=\"_2486DvSWPD-F9xM1LaS9AZ\"><div class=\"-epve_JNERIUWcWNKZJF6\"><div class=\"_2dzkHWoQ7wLdDsEAwyw1NL\"><div class=\"_1cE9WBao1CSNnKKQd97erN _3giTODNeZ-Po90u8Ghs4aI fzTkuBRFT8iIn1XnJX_Yn \"></div><div class=\"dXH0UqIq_Mtkd24573Rs5 _3giTODNeZ-Po90u8Ghs4aI fzTkuBRFT8iIn1XnJX_Yn \"></div></div><div class=\"_1NHO6pCrlHfrC6Q-_d-3kZ\"><div class=\"aHlABuIzfJ3NbabTwjGN8 _3giTODNeZ-Po90u8Ghs4aI fzTkuBRFT8iIn1XnJX_Yn \"></div><div class=\"_22TlQsT52A1DMzjuJNEb7b\"><div class=\"_1wEL9K8jt2pgaYL1hhQt_P _3giTODNeZ-Po90u8Ghs4aI fzTkuBRFT8iIn1XnJX_Yn \"></div></div></div><div class=\"_2ztqeqAwKeO-Fwjjpm3ou2\"><div class=\"hKjLaaNx-nWjCGihE3wwZ _3giTODNeZ-Po90u8Ghs4aI fzTkuBRFT8iIn1XnJX_Yn \"></div><div class=\"hKjLaaNx-nWjCGihE3wwZ _3giTODNeZ-Po90u8Ghs4aI fzTkuBRFT8iIn1XnJX_Yn \"></div><div class=\"hKjLaaNx-nWjCGihE3wwZ _3giTODNeZ-Po90u8Ghs4aI fzTkuBRFT8iIn1XnJX_Yn \"></div></div></div></div><div class=\"_2486DvSWPD-F9xM1LaS9AZ\"><div class=\"-epve_JNERIUWcWNKZJF6\"><div class=\"_2dzkHWoQ7wLdDsEAwyw1NL\"><div class=\"_1cE9WBao1CSNnKKQd97erN _3giTODNeZ-Po90u8Ghs4aI fzTkuBRFT8iIn1XnJX_Yn \"></div><div class=\"dXH0UqIq_Mtkd24573Rs5 _3giTODNeZ-Po90u8Ghs4aI fzTkuBRFT8iIn1XnJX_Yn \"></div></div><div class=\"_1NHO6pCrlHfrC6Q-_d-3kZ\"><div class=\"aHlABuIzfJ3NbabTwjGN8 _3giTODNeZ-Po90u8Ghs4aI fzTkuBRFT8iIn1XnJX_Yn \"></div><div class=\"_22TlQsT52A1DMzjuJNEb7b\"><div class=\"_1wEL9K8jt2pgaYL1hhQt_P _3giTODNeZ-Po90u8Ghs4aI fzTkuBRFT8iIn1XnJX_Yn \"></div></div></div><div class=\"_2ztqeqAwKeO-Fwjjpm3ou2\"><div class=\"hKjLaaNx-nWjCGihE3wwZ _3giTODNeZ-Po90u8Ghs4aI fzTkuBRFT8iIn1XnJX_Yn \"></div><div class=\"hKjLaaNx-nWjCGihE3wwZ _3giTODNeZ-Po90u8Ghs4aI fzTkuBRFT8iIn1XnJX_Yn \"></div><div class=\"hKjLaaNx-nWjCGihE3wwZ _3giTODNeZ-Po90u8Ghs4aI fzTkuBRFT8iIn1XnJX_Yn \"></div></div></div></div></div></div></div></div><div class=\"_2iRJ8DI-3RTbsXRSDXE5ZG\"><div data-testid=\"search-results-sidebar\" class=\"_1FUNcfOeszr8eruqLxCMcR _35ky2Wm3TP6kFdIh-DOxmA\"><div class=\"_2JPypBjLPFQo1pLekHV0qq\" data-testid=\"communities-list\"><h4 class=\"_1yTIcK7yas2a1pWJ4dACIl\">Communities and People</h4><div><div><div><a class=\"_3K_3Lkp9Y0UOvx4jLCEO1t _2DUH3f7VrWC1DqRH4885YM _12I4LEbhoIMSoIIXC_OHwT\" data-testid=\"subreddit-link\" href=\"/r/scraping/\"><div><i class=\"_3NNJELf9FmGhKjI7UZ8cia _1xvdfUtOPDANqHjxzxKX5b  icon icon-community_fill\" style=\"color: rgb(0, 121, 211);\"></i></div><div class=\"_1P9xc8Vuhfh3gnFtpZ8Re4\"><div class=\"CCriDGNZMkvnfCBh2RHK4 _2qMwaXWIn_m8Wdxt7k-zJc\"><h6 class=\"_2aQkt7SngMSaKmFJN0J64X\">r/scraping</h6><p class=\"_37cCjYJHqjK_4BJSpMj0h_\">786 Miembros</p></div></div><div class=\"_2arN9o-oddMZY7RpPcYD-9\"><button role=\"button\" tabindex=\"0\" class=\"_1LHxa-yaHJwrPK8kuyv_Y4 _2iuoyPiKHN3kfOoeIQalDT _4Glnzr5LA7bNBGMWGW4pU HNozj_dKjQZ59ZsfEegz8 \">Unirse</button></div></a></div></div><div><div><a class=\"_3K_3Lkp9Y0UOvx4jLCEO1t _12I4LEbhoIMSoIIXC_OHwT\" data-testid=\"subreddit-link\" href=\"/r/learnpython/\"><div><img alt=\"Icono de subreddit\" role=\"presentation\" src=\"https://styles.redditmedia.com/t5_2r8ot/styles/communityIcon_jwr5s7l5ici61.png?width=256&amp;s=45deb6f123031525835c1ab234a53be00bdbc207\" class=\"_34CfAAowTqdbNDYXz5tBTW _3NNJELf9FmGhKjI7UZ8cia\" style=\"background-color: rgb(0, 121, 211);\"></div><div class=\"_1P9xc8Vuhfh3gnFtpZ8Re4\"><div class=\"CCriDGNZMkvnfCBh2RHK4 _2qMwaXWIn_m8Wdxt7k-zJc\"><h6 class=\"_2aQkt7SngMSaKmFJN0J64X\">r/learnpython</h6><p class=\"_37cCjYJHqjK_4BJSpMj0h_\">572k Miembros</p></div></div><div class=\"_2arN9o-oddMZY7RpPcYD-9\"><button role=\"button\" tabindex=\"0\" class=\"_1LHxa-yaHJwrPK8kuyv_Y4 _2iuoyPiKHN3kfOoeIQalDT _4Glnzr5LA7bNBGMWGW4pU HNozj_dKjQZ59ZsfEegz8 \">Unirse</button></div></a></div></div><div><div><a class=\"_3K_3Lkp9Y0UOvx4jLCEO1t _12I4LEbhoIMSoIIXC_OHwT\" data-testid=\"subreddit-link\" href=\"/r/oddlysatisfying/\"><div><img alt=\"Icono de subreddit\" role=\"presentation\" src=\"https://styles.redditmedia.com/t5_2x93b/styles/communityIcon_eefpey65pli21.png?width=256&amp;s=6e82b7aa9e7d1760f3327620dba3dc09ee7b54f1\" class=\"_34CfAAowTqdbNDYXz5tBTW _3NNJELf9FmGhKjI7UZ8cia\" style=\"background-color: rgb(0, 166, 165);\"></div><div class=\"_1P9xc8Vuhfh3gnFtpZ8Re4\"><div class=\"CCriDGNZMkvnfCBh2RHK4 _2qMwaXWIn_m8Wdxt7k-zJc\"><h6 class=\"_2aQkt7SngMSaKmFJN0J64X\">r/oddlysatisfying</h6><p class=\"_37cCjYJHqjK_4BJSpMj0h_\">6.3m Miembros</p></div></div><div class=\"_2arN9o-oddMZY7RpPcYD-9\"><button role=\"button\" tabindex=\"0\" class=\"_1LHxa-yaHJwrPK8kuyv_Y4 _2iuoyPiKHN3kfOoeIQalDT _4Glnzr5LA7bNBGMWGW4pU HNozj_dKjQZ59ZsfEegz8 \">Unirse</button></div></a></div></div><div><div><a class=\"_3K_3Lkp9Y0UOvx4jLCEO1t _12I4LEbhoIMSoIIXC_OHwT\" data-testid=\"subreddit-link\" href=\"/r/Python/\"><div><img alt=\"Icono de subreddit\" role=\"presentation\" src=\"https://styles.redditmedia.com/t5_2qh0y/styles/communityIcon_h9cdwd9m75a51.png?width=256&amp;s=d4d1eb25f0a6853d76836ca30184fc9a67a57464\" class=\"_34CfAAowTqdbNDYXz5tBTW _3NNJELf9FmGhKjI7UZ8cia\" style=\"background-color: rgb(34, 58, 85);\"></div><div class=\"_1P9xc8Vuhfh3gnFtpZ8Re4\"><div class=\"CCriDGNZMkvnfCBh2RHK4 _2qMwaXWIn_m8Wdxt7k-zJc\"><h6 class=\"_2aQkt7SngMSaKmFJN0J64X\">r/Python</h6><p class=\"_37cCjYJHqjK_4BJSpMj0h_\">882k Miembros</p></div></div><div class=\"_2arN9o-oddMZY7RpPcYD-9\"><button role=\"button\" tabindex=\"0\" class=\"_1LHxa-yaHJwrPK8kuyv_Y4 _2iuoyPiKHN3kfOoeIQalDT _4Glnzr5LA7bNBGMWGW4pU HNozj_dKjQZ59ZsfEegz8 \">Unirse</button></div></a></div></div><div><div><a class=\"_3K_3Lkp9Y0UOvx4jLCEO1t _12I4LEbhoIMSoIIXC_OHwT\" data-testid=\"subreddit-link\" href=\"/r/asmr/\"><div><img alt=\"Icono de subreddit\" role=\"presentation\" src=\"https://b.thumbs.redditmedia.com/wn0QcDU3LaR8vTcHiNqtHdNT7UF7yEeOhOJ_A18PcxQ.png\" class=\"_34CfAAowTqdbNDYXz5tBTW _3NNJELf9FmGhKjI7UZ8cia\" style=\"background-color: rgb(0, 121, 211);\"></div><div class=\"_1P9xc8Vuhfh3gnFtpZ8Re4\"><div class=\"CCriDGNZMkvnfCBh2RHK4 _2qMwaXWIn_m8Wdxt7k-zJc\"><h6 class=\"_2aQkt7SngMSaKmFJN0J64X\">r/asmr</h6><p class=\"_37cCjYJHqjK_4BJSpMj0h_\">243k Miembros</p></div></div><div class=\"_2arN9o-oddMZY7RpPcYD-9\"><button role=\"button\" tabindex=\"0\" class=\"_1LHxa-yaHJwrPK8kuyv_Y4 _2iuoyPiKHN3kfOoeIQalDT _4Glnzr5LA7bNBGMWGW4pU HNozj_dKjQZ59ZsfEegz8 \">Unirse</button></div></a></div></div></div><a href=\"/search/?q=scraping&amp;type=sr%2Cuser\"><p class=\"bu5zz8fSZ1Co_SUENbJO0\">See more communities and people</p></a></div><div class=\"_1oRQu-aolgpPPJDblUGTw5\"><div class=\"\"><div class=\"_2wqyhtudP4weVGsZdVXJgt _1G4yU68P50vRZ4USXfaceV \" data-redditstyle=\"false\"><div class=\"_3RPJ8hHnfFohktLZca18J6 \" style=\"max-height: none;\"><div class=\"_1KrMye71CT332tKKKUWAj6\"><div class=\"_3f2nSSsPBqVDV6Sz82qgrR\"><a href=\"https://www.reddithelp.com\" class=\"_3Eyh3vRo5o4IfzVZXhaWAG\">ayuda</a><a href=\"https://www.reddit.com/coins\" class=\"_3Eyh3vRo5o4IfzVZXhaWAG\">Monedas de Reddit</a><a href=\"https://www.reddit.com/premium\" class=\"_3Eyh3vRo5o4IfzVZXhaWAG\">Reddit Premium</a><a href=\"https://redditgifts.com/\" class=\"_3Eyh3vRo5o4IfzVZXhaWAG\">Reddit gifts</a></div><div class=\"_3f2nSSsPBqVDV6Sz82qgrR\"><a href=\"https://about.reddit.com\" class=\"_3Eyh3vRo5o4IfzVZXhaWAG\">acerca de</a><a href=\"https://about.reddit.com/careers/\" class=\"_3Eyh3vRo5o4IfzVZXhaWAG\">empleo</a><a href=\"https://about.reddit.com/press/\" class=\"_3Eyh3vRo5o4IfzVZXhaWAG\">prensa</a><a href=\"https://www.redditinc.com/advertising\" class=\"_3Eyh3vRo5o4IfzVZXhaWAG\">anunciarse</a><a href=\"http://www.redditblog.com/\" class=\"_3Eyh3vRo5o4IfzVZXhaWAG\">blog</a><a href=\"https://www.redditinc.com/policies/user-agreement\" class=\"_3Eyh3vRo5o4IfzVZXhaWAG\">Términos</a><a href=\"https://www.redditinc.com/policies/content-policy\" class=\"_3Eyh3vRo5o4IfzVZXhaWAG\">Política de contenido</a><a href=\"https://www.redditinc.com/policies/privacy-policy\" class=\"_3Eyh3vRo5o4IfzVZXhaWAG\">Política de privacidad</a><a href=\"https://www.reddit.com/help/healthycommunities/\" class=\"_3Eyh3vRo5o4IfzVZXhaWAG\">Política de moderación</a></div></div><div class=\"_34dh2eyzMvJfjCBLeoWiDD\">Reddit Inc © 2021. Todos los derechos reservados</div></div></div></div><div class=\"_3Tc8YYRhVDX9vlR0XePZfH _365FiUZ11efXHV7l7fNp6K\" style=\"top: calc(100vh - 8px);\"><button role=\"button\" tabindex=\"0\" class=\"_1m03hmspTHlre1O1CXbY9Y _2iuoyPiKHN3kfOoeIQalDT _10BQ7pjWbeYP63SAPNS8Ts HNozj_dKjQZ59ZsfEegz8 \">Volver hacia arriba</button></div></div></div></div></div></div>\n",
    " <h3 class=\"_eYtD2XCVieq6emjKBH3m\">Web <span class=\"_1Nh8xLEUG3orjY1k1aijj\">Scraping</span> in a professional setting: Selenium vs. BeautifulSoup</h3>"
   ]
  },
  {
   "cell_type": "code",
   "execution_count": null,
   "metadata": {},
   "outputs": [],
   "source": [
    "# Localizar los resultados de búsqueda\n",
    "\n",
    "search_results = WebDriverWait(driver, 20).until(\n",
    "EC.presence_of_element_located((By.CLASS_NAME, \"_3Up38k81YNBWQoW1ovMU88\"))) \n",
    "search_results"
   ]
  },
  {
   "cell_type": "code",
   "execution_count": null,
   "metadata": {},
   "outputs": [],
   "source": [
    "# Buscamos en el código de la web el encabezado de una noticia\n",
    "# para obtener las etiqueta que contienen el encabezado y la noticia h3 y span\n",
    "\n",
    "# <h3 class=\"_eYtD2XCVieq6emjKBH3m\"><span style=\"font-weight: normal;\"><em style=\"font-weight: 700;\">Scraping</em> ice off power lines</span></h3>"
   ]
  },
  {
   "cell_type": "code",
   "execution_count": null,
   "metadata": {},
   "outputs": [],
   "source": [
    "# Raspar los encabezados de los post’s\n",
    "posts = search_results.find_elements_by_css_selector(\"h3._eYtD2XCVieq6emjKBH3m\")"
   ]
  },
  {
   "cell_type": "code",
   "execution_count": null,
   "metadata": {},
   "outputs": [],
   "source": [
    "# Extraer el contenido de cada post\n",
    "\n",
    "for post in posts:\n",
    "    print(post.text)\n"
   ]
  },
  {
   "cell_type": "code",
   "execution_count": null,
   "metadata": {},
   "outputs": [],
   "source": [
    "# Salir del navegador\n",
    "driver.quit()"
   ]
  },
  {
   "cell_type": "markdown",
   "metadata": {},
   "source": [
    "### Selenium con PhantomJS\n",
    "\n",
    "    Existe una herramienta, llamada PhantomJS, que carga las páginas y ejecuta su código sin abrir ningún navegador.  \n",
    "    Con PhantomJS podemos incluso interactuar con las cookies de las páginas descargadas y el JavaScript sin mayores \n",
    "    problemas. También podemos para hacer raspado o scraper de páginas y elementos dentro de estas páginas.\n",
    "    \n",
    "    Podemos descargar PhantomJS desde la dirección http://phantomjs.org/download.html\n",
    "    en C:\\Program Files (x86)\\\n",
    "    \n",
    "    Extraer el contenido en la  carpeta \n",
    "    \n",
    "    C:\\Program Files (x86)\\phantomjs-2.1.1-windows\\bin\\phantomjs.exe"
   ]
  },
  {
   "cell_type": "code",
   "execution_count": null,
   "metadata": {},
   "outputs": [],
   "source": [
    "import warnings\n",
    "\n",
    "warnings.filterwarnings('ignore')"
   ]
  },
  {
   "cell_type": "code",
   "execution_count": null,
   "metadata": {},
   "outputs": [],
   "source": [
    "!pip show -V selenium"
   ]
  },
  {
   "cell_type": "code",
   "execution_count": null,
   "metadata": {},
   "outputs": [],
   "source": [
    "!pip freeze"
   ]
  },
  {
   "cell_type": "code",
   "execution_count": null,
   "metadata": {},
   "outputs": [],
   "source": [
    "!pip uninstall selenium\n",
    "!pip install -U selenium"
   ]
  },
  {
   "cell_type": "code",
   "execution_count": null,
   "metadata": {
    "run_control": {
     "marked": false
    }
   },
   "outputs": [],
   "source": [
    "# Selenium con PhantomJS\n",
    "\n",
    "from selenium import webdriver\n",
    "import platform\n",
    "\n",
    "# Inicializar el web Driver\n",
    "\n",
    "PATH = r\"C:\\Program Files (x86)\\phantomjs-2.1.1-windows\\bin\\phantomjs.exe\"\n",
    "\n",
    "if (platform.system() == 'Windows'):\n",
    "    browser = webdriver.PhantomJS(executable_path=PATH)\n",
    "\n",
    "browser.get(\"https://www.python.org/\")"
   ]
  },
  {
   "cell_type": "markdown",
   "metadata": {},
   "source": [
    "Los métodos find_ retornan objetos de tipo \n",
    "selenium.webdriver.remote.webelement.WebElement\n",
    "que representan un elemento DOM de la página. Sobre estos objetos podemos seguir realizando consultas con los métodos find_().\n"
   ]
  },
  {
   "cell_type": "code",
   "execution_count": null,
   "metadata": {},
   "outputs": [],
   "source": [
    "browser.find_element_by_class_name(\"introduction\").text"
   ]
  },
  {
   "cell_type": "code",
   "execution_count": null,
   "metadata": {},
   "outputs": [],
   "source": [
    "browser.find_element_by_class_name(\"main-header\").text"
   ]
  },
  {
   "cell_type": "code",
   "execution_count": null,
   "metadata": {},
   "outputs": [],
   "source": [
    "browser.find_element_by__tagname(\"div\").text #.text"
   ]
  },
  {
   "cell_type": "code",
   "execution_count": null,
   "metadata": {},
   "outputs": [],
   "source": [
    "browser.find_element_by_tag_name(\"body\").text"
   ]
  },
  {
   "cell_type": "code",
   "execution_count": null,
   "metadata": {
    "run_control": {
     "marked": true
    },
    "scrolled": true
   },
   "outputs": [],
   "source": [
    "browser.find_element_by_id(\"homepage\").text"
   ]
  },
  {
   "cell_type": "code",
   "execution_count": null,
   "metadata": {},
   "outputs": [],
   "source": [
    "browser.find_element_by_id(\"homepage\").id # ID interno usado por Selenium."
   ]
  },
  {
   "cell_type": "code",
   "execution_count": null,
   "metadata": {},
   "outputs": [],
   "source": [
    "browser.find_element_by_id(\"homepage\").location # la localización del elemento en el canvas renderizado."
   ]
  },
  {
   "cell_type": "code",
   "execution_count": null,
   "metadata": {},
   "outputs": [],
   "source": [
    "browser.find_element_by_id(\"homepage\").size # tamaño del elemento."
   ]
  },
  {
   "cell_type": "code",
   "execution_count": null,
   "metadata": {},
   "outputs": [],
   "source": [
    "browser.find_element_by_id(\"homepage\").tag_name # nombre de etiqueta del elemento"
   ]
  },
  {
   "cell_type": "code",
   "execution_count": null,
   "metadata": {},
   "outputs": [],
   "source": [
    "elemento = browser.find_element_by_id(\"homepage\")\n",
    "elemento.get_attribute('class')"
   ]
  },
  {
   "cell_type": "code",
   "execution_count": null,
   "metadata": {},
   "outputs": [],
   "source": [
    "elemento.get_property(\"text_length\")"
   ]
  },
  {
   "cell_type": "code",
   "execution_count": null,
   "metadata": {},
   "outputs": [],
   "source": [
    "browser.close()"
   ]
  },
  {
   "cell_type": "markdown",
   "metadata": {},
   "source": [
    "### Interacción de Selenium con BeatifulSoup.\n",
    "\n",
    "    Podemos utilizar el poder de Beautiful Soup en el contenido devuelto desde Selenium, usando page_source"
   ]
  },
  {
   "cell_type": "code",
   "execution_count": null,
   "metadata": {
    "run_control": {
     "marked": false
    }
   },
   "outputs": [],
   "source": [
    "from selenium import webdriver\n",
    "from bs4 import BeautifulSoup\n",
    "\n",
    "PATH = r\"C:\\Program Files (x86)\\phantomjs-2.1.1-windows\\bin\\phantomjs.exe\"\n",
    "\n",
    "if (platform.system() == 'Windows'):\n",
    "    browser = webdriver.PhantomJS(executable_path=PATH)\n",
    "    \n",
    "browser.get(\"https://www.python.org/\")\n",
    "page = BeautifulSoup(browser.page_source,\"html5lib\")\n",
    "\n",
    "links = page.findAll(\"a\")\n",
    "\n",
    "for link in links:\n",
    "    print(link)\n",
    "browser.close()"
   ]
  },
  {
   "cell_type": "markdown",
   "metadata": {},
   "source": [
    "### Extraer el contenido de un iframe usando Selenium\n",
    "\n",
    "    Las páginas HTML utilizan elementos <iframe> para embeber dinámicamente el contenido de otras páginas.  \n",
    "    Por tanto, este contenido no está disponible directamente, sino que deberemos acceder a la fuente del iframe."
   ]
  },
  {
   "cell_type": "code",
   "execution_count": null,
   "metadata": {},
   "outputs": [],
   "source": [
    "<iframe id=\"inlineFrameExample\" title=\"Inline Frame Example\" width=\"300\" height=\"200\" src=\"https://www.openstreetmap.org/export/embed.html?bbox=-0.004017949104309083%2C51.47612752641776%2C0.00030577182769775396%2C51.478569861898606&amp;layer=mapnik\">\n",
    "</iframe>"
   ]
  },
  {
   "cell_type": "code",
   "execution_count": null,
   "metadata": {
    "code_folding": [],
    "run_control": {
     "marked": true
    },
    "scrolled": true
   },
   "outputs": [],
   "source": [
    "from selenium import webdriver\n",
    "import platform\n",
    "\n",
    "PATH = r\"C:\\Program Files (x86)\\phantomjs-2.1.1-windows\\bin\\phantomjs.exe\"\n",
    "\n",
    "if (platform.system() == 'Windows'):\n",
    "    browser = webdriver.PhantomJS(executable_path=PATH)\n",
    "    \n",
    "browser.get(\"https://sites.google.com/view/programacin-con-python/p%C3%A1gina-principal\") # https://developer.mozilla.org/en-US/docs/Web/HTML/Element/iframe\n",
    "\n",
    "# Localizamos un iframe\n",
    "seq = browser.find_elements_by_tag_name(\"iframe\")\n",
    "print(\"No of frames present in the web page are: \", len(seq))\n",
    "\n",
    "# Nos movemos al contenido del iframe\n",
    "browser.switch_to.default_content()\n",
    "iframe = browser.find_elements_by_tag_name('iframe')[0]\n",
    "browser.switch_to.frame(iframe)\n",
    "iframe_source = browser.page_source\n",
    "\n",
    "# Imprimimos el contenido del iframe\n",
    "print(iframe_source) #returns iframe source"
   ]
  },
  {
   "cell_type": "code",
   "execution_count": null,
   "metadata": {},
   "outputs": [],
   "source": [
    "browser.title"
   ]
  },
  {
   "cell_type": "code",
   "execution_count": null,
   "metadata": {},
   "outputs": [],
   "source": [
    "# Imprimimos la URL del iframe\n",
    "print(browser.current_url)"
   ]
  },
  {
   "cell_type": "code",
   "execution_count": null,
   "metadata": {},
   "outputs": [],
   "source": [
    "from urllib.request import urlopen\n",
    "from urllib.error import HTTPError\n",
    "from urllib.error import URLError\n",
    "from bs4 import BeautifulSoup\n",
    "\n",
    "try:\n",
    "    html = urlopen(\"https://developer.mozilla.org/en-US/docs/Web/HTML/Element/iframe\")\n",
    "except HTTPError as e:\n",
    "    print(e)\n",
    "except URLError:\n",
    "    print(\"Servidor caído o dominio incorrecto.\")\n",
    "else:\n",
    "    res = BeautifulSoup(html.read(), \"html5lib\")\n",
    "    tag = res.find(\"iframe\")\n",
    "    uriIframe = tag['src']\n",
    "    print(uriIframe) # la URl del iframe lista para scraping"
   ]
  },
  {
   "attachments": {
    "image.png": {
     "image/png": "[encoded data removed]"
    }
   },
   "cell_type": "markdown",
   "metadata": {},
   "source": [
    "### Gestionando las llamadas Ajax\n",
    "\n",
    "    Comencemos definiendo ¿Qué es AJAX? Su nombre viene de Asynchronous JavaScript And XML.  \n",
    "    AJAX no es un lenguaje de programación, sólo utiliza una combinación de:\n",
    "\n",
    "    •\tUn objeto XMLHttpRequest integrado del explorador (para solicitar datos de un servidor web)\n",
    "    •\tJavaScript y HTML DOM (para mostrar o utilizar los datos)\n",
    "    \n",
    "    AJAX permite que las páginas web se actualicen de forma asincrónica intercambiando datos con un servidor \n",
    "    web en segundo plano. Esto significa que es posible actualizar partes de una página web, sin volver a cargar \n",
    "    toda la página.\n",
    "    \n",
    "    Con JavaScript y técnicas AJAX, las páginas pueden cargar contenido dinámicamente realizando solicitudes \n",
    "    HTTP internas. Podemos usar Selenium para extraer contenido después de hacer llamadas AJAX.\n",
    "    \n",
    "    \n",
    "![image.png](attachment:image.png)\n"
   ]
  },
  {
   "cell_type": "code",
   "execution_count": null,
   "metadata": {
    "run_control": {
     "marked": false
    }
   },
   "outputs": [],
   "source": [
    "from selenium import webdriver\n",
    "import time\n",
    "import platform\n",
    "\n",
    "PATH = r\"C:\\Program Files (x86)\\phantomjs-2.1.1-windows\\bin\\phantomjs.exe\"\n",
    "\n",
    "if (platform.system() == 'Windows'):\n",
    "    browser = webdriver.PhantomJS(executable_path=PATH)\n",
    "    \n",
    "browser.get(\"https://www.w3schools.com/xml/ajax_intro.asp\")\n",
    "\n",
    "# Localizamos el botón\n",
    "boton = browser.find_elements_by_tag_name(\"button\")[0] # trae todos los tags button\n",
    "\n",
    "# Simulamos su pulsación y esperamos un tiempo a que se complete la solicitud Ajax\n",
    "boton.click()\n",
    "time.sleep(2)\n",
    "\n",
    "# Recuperamos el contenido del bloque modificado\n",
    "bloque = browser.find_element_by_id('demo')\n",
    "print(bloque.text)\n",
    "browser.close()"
   ]
  },
  {
   "cell_type": "markdown",
   "metadata": {},
   "source": [
    "#### Código AJAX del botón Change Content"
   ]
  },
  {
   "cell_type": "code",
   "execution_count": null,
   "metadata": {},
   "outputs": [],
   "source": [
    "<!DOCTYPE html>\n",
    "<html>\n",
    "<body>\n",
    "\n",
    "<div id=\"demo\">\n",
    "<h1>The XMLHttpRequest Object</h1>\n",
    "<button type=\"button\" onclick=\"loadDoc()\">Change Content</button>\n",
    "</div>\n",
    "\n",
    "<script>\n",
    "function loadDoc() {\n",
    "  var xhttp = new XMLHttpRequest();\n",
    "  xhttp.onreadystatechange = function() {\n",
    "    if (this.readyState == 4 && this.status == 200) {\n",
    "      document.getElementById(\"demo\").innerHTML =\n",
    "      this.responseText;\n",
    "    }\n",
    "  };\n",
    "  xhttp.open(\"GET\", \"ajax_info.txt\", true);\n",
    "  xhttp.send();\n",
    "}\n",
    "</script>\n",
    "\n",
    "</body>\n",
    "</html>\n"
   ]
  },
  {
   "cell_type": "code",
   "execution_count": null,
   "metadata": {},
   "outputs": [],
   "source": [
    "import platform\n",
    "from selenium import webdriver\n",
    "from selenium.webdriver.common.by import By\n",
    "from selenium.webdriver.support.ui import WebDriverWait\n",
    "from selenium.webdriver.support import expected_conditions as EC\n",
    "\n",
    "PATH = r\"C:\\Program Files (x86)\\phantomjs-2.1.1-windows\\bin\\phantomjs.exe\"\n",
    "\n",
    "if (platform.system() == 'Windows'):\n",
    "    browser = webdriver.PhantomJS(executable_path=PATH)\n",
    "    \n",
    "browser.get(\"https://www.w3schools.com/xml/ajax_intro.asp\")\n",
    "\n",
    "# Localizamos el botón\n",
    "boton = browser.find_elements_by_tag_name(\"button\")[0]\n",
    "\n",
    "# Simulamos su pulsación y esperamos un tiempo a que se complete la solicitud Ajax\n",
    "boton.click()\n",
    "\n",
    "# Esperamos a que se complete la solicitud Ajax y exista el <h1>\n",
    "try:\n",
    "    WebDriverWait(browser, 20).until(EC.text_to_be_present_in_element((By.TAG_NAME, \"h1\"), \"AJAX\"))\n",
    "    bloque = browser.find_element_by_id('demo')\n",
    "    print(bloque.text)\n",
    "except:\n",
    "    pass\n",
    "browser.close()"
   ]
  },
  {
   "cell_type": "markdown",
   "metadata": {},
   "source": [
    "En la función WebDriverWait() \n",
    "    Se indica un tiempo máximo de espera de 10 segundos.\n",
    "    El método until() permite bloquear el programa hasta que se cumpla la condición especificada.\n",
    "    EC.text_to_be_present_in_element() se especifica la condición de que una etiqueta h1 contenga el texto \"AJAX\". "
   ]
  },
  {
   "cell_type": "markdown",
   "metadata": {},
   "source": [
    "### Manejando Cookies"
   ]
  },
  {
   "cell_type": "code",
   "execution_count": null,
   "metadata": {},
   "outputs": [],
   "source": [
    "from selenium import webdriver\n",
    "import platform\n",
    "\n",
    "PATH = r\"C:\\Program Files (x86)\\phantomjs-2.1.1-windows\\bin\\phantomjs.exe\"\n",
    "\n",
    "if (platform.system() == 'Windows'):\n",
    "    browser = webdriver.PhantomJS(executable_path=PATH)\n",
    "    \n",
    "browser.get(\"https://www.python.org/\")\n",
    "\n",
    "print(browser.get_cookies())"
   ]
  },
  {
   "cell_type": "code",
   "execution_count": null,
   "metadata": {},
   "outputs": [],
   "source": [
    "from selenium import webdriver\n",
    "\n",
    "PATH = r\"C:\\Program Files (x86)\\phantomjs-2.1.1-windows\\bin\\phantomjs.exe\"\n",
    "\n",
    "if (platform.system() == 'Windows'):\n",
    "    browser = webdriver.PhantomJS(executable_path=PATH)\n",
    "    \n",
    "browser.get(\"https://www.w3schools.com/\")\n",
    "\n",
    "print(browser.get_cookies())"
   ]
  },
  {
   "cell_type": "markdown",
   "metadata": {},
   "source": [
    "#### Borrar las cookies"
   ]
  },
  {
   "cell_type": "code",
   "execution_count": null,
   "metadata": {},
   "outputs": [],
   "source": [
    "from selenium import webdriver\n",
    "\n",
    "PATH = r\"C:\\Program Files (x86)\\phantomjs-2.1.1-windows\\bin\\phantomjs.exe\"\n",
    "\n",
    "if (platform.system() == 'Windows'):\n",
    "    browser = webdriver.PhantomJS(executable_path=PATH)\n",
    "    \n",
    "browser.get(\"https://www.python.org/\")\n",
    "browser.delete_all_cookies()"
   ]
  },
  {
   "cell_type": "code",
   "execution_count": null,
   "metadata": {},
   "outputs": [],
   "source": [
    "from selenium import webdriver\n",
    "\n",
    "PATH = r\"C:\\Program Files (x86)\\phantomjs-2.1.1-windows\\bin\\phantomjs.exe\"\n",
    "\n",
    "if (platform.system() == 'Windows'):\n",
    "    browser = webdriver.PhantomJS(executable_path=PATH)\n",
    "    \n",
    "browser.get(\"https://www.w3schools.com/\")\n",
    "browser.delete_all_cookies()"
   ]
  },
  {
   "cell_type": "markdown",
   "metadata": {},
   "source": [
    "#    Web Crawling \n",
    "    \n",
    "El Crawling es todo el recorrido que realiza una araña o crawler, cualquier bot de indexación enviado por los motores     de búsqueda, con el fin de detectar, leer y analizar todo el contenido y el código que compone a una página web. \n",
    "    \n",
    "Web crawling también lo podríamos definir como una forma de obtener un mapa. Para ello, necesitamos ir al sitio, evaluar y registrar todos los aspectos necesario. Los encargados de realizar este rastreo son los bots, y serán los  encargados de la creación de ese mapa. \n",
    "\n",
    "Su forma de trabajar consiste en escanear, indexar y registrar todos los sitios webs, incluidos páginas y subpáginas.  \n",
    "    \n",
    "Algunos rastreadores utilizados por grandes compañías son:\n",
    "    \n",
    "        •\tGooglebot utilizado por Google \n",
    "        •\tBingbot utilizado por Bing de Microsoft \n",
    "        •\tSlurp Bot utilizado por Yahoo \n",
    "\n",
    "## Rastreadores web con Scrapy\n",
    "\n",
    "Scrapy es un framework de Python que simplifica el rastreo web. Entre sus características se encuentran:\n",
    "    \n",
    "        •\tPermite descargar páginas web, procesarlas y guardarlas en archivos y bases de datos.\n",
    "        •\tOfrece varias formas de rapar una página web. Su curva de aprendizaje es un poco \n",
    "            mayor que la de BeatifulSoup.\n",
    "        •\tEs muy rápido al rastrear URLs ya que utiliza técnicas asíncronas.\n",
    "        \n",
    "Scrapy proporciona un shell de rastreo web llamado **scrapy shell**.  Es útil para probar suposiciones sobre el comportamiento de un sitio.  \n"
   ]
  },
  {
   "cell_type": "markdown",
   "metadata": {},
   "source": [
    "### Paso a Paso"
   ]
  },
  {
   "attachments": {
    "image.png": {
     "image/png": "[encoded data removed]"
    }
   },
   "cell_type": "markdown",
   "metadata": {},
   "source": [
    "1.\tInstalar Scrapy con el comando:\n",
    "    \n",
    "            conda install -c conda-forge scrapy \n",
    "            \n",
    "    o bien podemos usar la herramienta pip desde la terminal\n",
    "    de Anaconda: \n",
    "        \n",
    "            pip install scrapy\n",
    "        \n",
    "        \n",
    "2.\tUna vez instalado Scrapy, desde la terminal de Jupyter, por ejemplo, ejecutamos: \n",
    "\n",
    "            scrapy shell  \n",
    "            \n",
    "    Vamos a rastrear la página web de comercio electrónico de tabletas más vendidas de Amazon:\n",
    "\n",
    "       “https://www.amazon.es/gp/bestsellers/computers/938010031”\n",
    "\n",
    "3.\tSe ejecuta el rastreador con el comando fetch(). Un rastreador recorre una página web descargando su texto y metadatos: \n",
    "\n",
    "                fetch(\"https://www.amazon.es/gp/bestsellers/computers/938010031/\")\n",
    "\n",
    "\n",
    "4.\tEl rastreador devuelve una respuesta que se puede ver mediante el comando \n",
    "\n",
    "            view(response) \n",
    "        \n",
    "    De inmediato se abre la página con el navegador predeterminado.  \n",
    "\n",
    "![image.png](attachment:image.png)\n"
   ]
  },
  {
   "cell_type": "markdown",
   "metadata": {
    "run_control": {
     "marked": false
    }
   },
   "source": [
    "3.\tPara ver en la consola el contenido HTML sin formato, se utiliza: \n",
    "\n",
    "            print(response.text)\n",
    "            \n",
    "4.\tAbrimos la página web y podemos inspeccionar los elementos que nos interesan. Para este ejemplo \n",
    "recuperaremos: el nombre y precio de la tableta\n",
    "        \n",
    "5. Podemos comprobar que los nombres de las tabletas se muestran dentro de elementos: <div class=\"p13n-sc-truncate\">\n",
    "\n",
    "        <div class=\" p13n-sc-truncated\" aria-hidden=\"true\" data-rows=\"4\">2021 Apple iPad - Gris espacial</div>\n",
    "\n",
    "    y el precio en elementos: \n",
    "    \n",
    "        <span class=\"p13n-sc-price\">\n",
    "    \n",
    "6. Podemos extraer los datos de la página usando los atributos de los elementos o usando selectores CSS. \n",
    "    \n",
    "    * El método **extract_first()** recupera el primer elemento que cumple con el selector.\n",
    "      \n",
    "    * Para obtener todos los elementos, simplemente debemos usar el método **extract()**.  \n",
    "    \n",
    "\n",
    "NOTA: En ocasiones es necesario realizar una limpieza de los datos extraidos (eliminar los saltos de línea y espacios en blanco laterales). "
   ]
  },
  {
   "cell_type": "markdown",
   "metadata": {},
   "source": [
    "#### Búsqueda de etiquetas y atributos con CSS (extracción de datos)"
   ]
  },
  {
   "cell_type": "code",
   "execution_count": null,
   "metadata": {},
   "outputs": [],
   "source": [
    "response.css(\"._cDEzb_p13n-sc-css-line-clamp-3_g3dy1::text\").extract_first()\n",
    "response.css(\"._cDEzb_p13n-sc-css-line-clamp-3_g3dy1::text\").extract()\n",
    "response.css(\".p13n-sc-price::text\").extract()\n",
    "response.css(\".a-icon-alt::text\").extract()"
   ]
  },
  {
   "cell_type": "markdown",
   "metadata": {},
   "source": [
    "El método **css()** soporta el uso de la seudoclase **::attr()**. Con esta seudoclase podremos \n",
    "especificar un atributo del cual queremos recuperar el valor. Por ejemplo, cuando hacemos búsqueda \n",
    "de enlaces podemos utilizar el atributo href:"
   ]
  },
  {
   "cell_type": "code",
   "execution_count": null,
   "metadata": {},
   "outputs": [],
   "source": [
    "response.css(\"img::attr(alt)\").extract()\n",
    "response.css(\"a::attr(href)\").extract()"
   ]
  },
  {
   "cell_type": "markdown",
   "metadata": {},
   "source": [
    "#### Búsqueda de etiquetas y atributos con XPath (extracción de datos)\n",
    "\n",
    "**XPath** es un lenguaje de consulta para seleccionar nodos en un documento XML. Podemos navegar por un documento XML utilizando XPath, de hecho, Scrapy usa Xpath para navegar por los elementos de documentos HTML. \n",
    "\n",
    "Consultaremos los nombres, precios y valoración de tabletas usando expresiones XPath. Las expresiones XPath \n",
    "no permiten filtrar por contenido parcial en un atributo. "
   ]
  },
  {
   "cell_type": "code",
   "execution_count": null,
   "metadata": {},
   "outputs": [],
   "source": [
    "# XPath\n",
    "\n",
    "response.xpath(\"//div[@class='_cDEzb_p13n-sc-css-line-clamp-3_g3dy1']/text()\").extract()\n",
    "response.xpath(\"//span[@class='p13n-sc-price']/text()\").extract()\n",
    "response.xpath(\"//span[@class='a-icon-alt']/text()\").extract()"
   ]
  },
  {
   "cell_type": "markdown",
   "metadata": {},
   "source": [
    "7. Para salir de esta consola interactiva podemos ejecutar el comando: **exit()**"
   ]
  },
  {
   "cell_type": "markdown",
   "metadata": {},
   "source": [
    "### Creación de un proyecto Scrapy\n",
    "\n",
    "Con las técnicas vistas con Scrapy, podemos rastrear las páginas de compra de tabletas y almacenarlas en un archivo \n",
    "en formato CSV. Para ello, vamos a crear una proyecto araña o crawler personalizado con Scrapy en el que se \n",
    "almacenarán los productos.\n",
    "\n",
    "**Pasos:**\n",
    "\n",
    "1. Abrir la consola y ubicarnos en el directorio **cd C:\\Users\\msierra\\Desktop\\ScrapApps**\n",
    "2. Creamos el proyecto amazontabletas  **scrapy startproject amazontabletas**.  Se crea la estrctura del proyecto amazontabletas\n",
    "3. Crear una araña: Nos ubicamos en el directorio spiders del proyecto\n",
    "    **cd C:\\Users\\msierra\\Desktop\\ScrapApps\\amazontabletas\\amazontabletas\\spiders**\n",
    "4. Ejecutar el comando:\n",
    "    **scrapy genspider amazon_tabletas \"https://www.amazon.es/gp/bestsellers/computers/938010031/\"**\n",
    "5. Modificamos el archivo **amazon_tabletas.py** (spiders)"
   ]
  },
  {
   "cell_type": "code",
   "execution_count": null,
   "metadata": {},
   "outputs": [],
   "source": [
    "class AmazonTabletasSpider(scrapy.Spider):\n",
    "    name = 'amazon_tabletas'\n",
    "    allowed_domains = ['amazon.es']\n",
    "    start_urls = ['https://www.amazon.es/gp/bestsellers/computers/938010031/']"
   ]
  },
  {
   "cell_type": "markdown",
   "metadata": {},
   "source": [
    "Se define una clase **AmazonTabletasSpider(scrapy.Spider)** con atributos:\n",
    "    \n",
    "    * name: será el nombre de la araña. Cada nombre debe ser único,\n",
    "        ya que se utilizarán para ejecutar la araña con el comando \n",
    "        scrapy crawl name.\n",
    "    * allow_domains (opcional): es una lista de dominios que pueden\n",
    "        rastrearse. No se rastrearán las solicitudes de URLs que no estén en\n",
    "        esta lista. Aquí sólo se debe incluir el dominio del sitio web, no la\n",
    "        URL completa.\n",
    "    * start_urls: contiene las URLs por donde comenzará a rastrear la\n",
    "        araña.\n",
    "       \n",
    "6.\tVamos a incluir en el método **parse()** del archivo **amazon_tabletas.py**, el código necesario para extraer los nombres y precios de tabletas:\n",
    "\n",
    "    * El método **parse(self, response)** será invocado siempre que una URL se rastree correctamente. El parámetro response es el valor devuelto por el resultado del rastreo (el mismo tipo de objeto que obtuvimos en Scrapy Shell).\n"
   ]
  },
  {
   "cell_type": "code",
   "execution_count": null,
   "metadata": {},
   "outputs": [],
   "source": [
    "    def parse(self, response):\n",
    "        print(\"procesando:\", response.url)\n",
    "\n",
    "        # Extraemos los datos usando selectores css\n",
    "        nombres = response.css(\"._cDEzb_p13n-sc-css-line-clamp-3_g3dy1::text\").extract()\n",
    "        precios = response.xpath(\"//span[@class='p13n-sc-price']/text()\").extract()\n",
    "\n",
    "        # Normalizamos los datos\n",
    "\n",
    "        for item in zip(nombres, precios):\n",
    "            scraped_info = {\n",
    "                'pagina': response.url,\n",
    "                'tableta': item[0],\n",
    "                'precio': item[1]\n",
    "            }\n",
    "            yield scraped_info"
   ]
  },
  {
   "cell_type": "markdown",
   "metadata": {},
   "source": [
    "Con **yield** el método parse() retorna un generador que va sirviendo los datos en forma de diccionario.\n",
    "\n",
    "7.\tEjecutamos la araña desde el directorio del proyecto: C:\\Users\\msierra\\Desktop\\ScrapApps\\amazontabletas>     \n",
    "        scrapy crawl amazon_tabletas\n",
    "        \n",
    "8. La araña creada sólo extrae la información de la primera página.  Para buscar la información \n",
    "en todas las páginas, debemos busca la opción \"siguiente\" al final de la pagina: \n",
    "\n",
    "        <ul class=\"a-pagination\"> \n",
    "\n",
    "    donde podemos encontrar las etiquetas \"a\" con los enlaces posteriores. El último enlace se corresponde \n",
    "    con el de la página siguiente y está dentro de un elemento:\n",
    "\n",
    "        <li class=\"a-last\">\n",
    "\n",
    "    Tendremos que obtener la última etiqueta \"a\" de cada página.  Vamos a modificar el fichero **amazon_tabletas.py** \n",
    "    para hacer un seguimientos de los enlaces siguientes.  El siguiente código agrega esta funcionalidad"
   ]
  },
  {
   "cell_type": "code",
   "execution_count": null,
   "metadata": {},
   "outputs": [],
   "source": [
    "NEXT_PAGE_SELECTOR = 'ul.a-pagination > li.a-last > a::attr(href)'\n",
    "        next_page = response.css(NEXT_PAGE_SELECTOR).extract_first()\n",
    "        if next_page:\n",
    "            yield scrapy.Request(response.urljoin(next_page), callback=self.parse)"
   ]
  },
  {
   "cell_type": "markdown",
   "metadata": {},
   "source": [
    "9. Exportar la salida a un fichero **.csv**\n",
    "\n",
    "    Una alternativa para analizar los datos es exportarlos a un formato como CSV o JSON.  Para guardar \n",
    "    los datos en un fichero CSV, debemos abrir el archivo **settings.py** e insertar las siguientes líneas:\n",
    "\n",
    "        FEED_FORMAT=\"csv\"\n",
    "        FEED_URI=\"amazontabletas.csv\"\n",
    "        \n",
    "10. Abrimos con Pandas el fichero **amazontabletas.csv**"
   ]
  },
  {
   "cell_type": "markdown",
   "metadata": {},
   "source": [
    "### Ejercicios para Ejecutar desde Scrapy Shell\n",
    "\n",
    "Desde la terminal ejecutar: scrapy shell"
   ]
  },
  {
   "cell_type": "code",
   "execution_count": null,
   "metadata": {},
   "outputs": [],
   "source": [
    "# Ejemplo de Mil Anuncios\n",
    "\n",
    "fetch(\"https://www.milanuncios.com/motos-de-segunda-mano/?stc=cs-vibbo-home-segundamano\")\n",
    "fetch(\"https://www.milanuncios.com/anuncios/?s=motos%20segunda%20mano&fromSearch=1&fromSuggester=1&suggest\")\n",
    "\n",
    "DEBUG: Crawled (403) \n",
    "\n",
    "response.xpath('//a[@class=\"ma-AdCard-titleLink\"]/text()').extract()\n",
    "response.css(\".ma-AdCardV2-description::text\").extract() # nombres\n",
    "response.xpath('//p[@class=\"ma-AdCardV2-description\"]/text()').extract()\n",
    "response.xpath('//span[@class=\"ma-AdTag-label\"]/text()').extract()\n",
    "response.xpath('//span[@class=\"ma-AdPrice-value ma-AdPrice-value--default ma-AdPrice-value--heading--m\"]/text()').extract()\n",
    "\n",
    "exit()"
   ]
  },
  {
   "cell_type": "markdown",
   "metadata": {},
   "source": [
    "403 suele ser una respuesta anti-bot (también 407, 408, 429, 502, 503, 504, 999). Algunos sitios web tienen diferentes protecciones anti-bot para diferentes páginas. "
   ]
  },
  {
   "cell_type": "code",
   "execution_count": null,
   "metadata": {},
   "outputs": [],
   "source": [
    "#  Ejemplo de libros de Amazon\n",
    "\n",
    "fetch('https://www.amazon.es/gp/bestsellers/books')\n",
    "\n",
    "response.css(\"img::attr(alt)\").extract()   # nombre\n",
    "response.xpath('//a[@class=\"a-link-normal\"]/span/div/text()').extract()\n",
    "response.css(\"._cDEzb_p13n-sc-css-line-clamp-2_EWgCb::text\").extract() \n",
    "response.css(\".p13n-sc-price::text\").extract() # precio\n",
    "response.css(\".a-icon-alt::text\").extract()    #valoracion\n",
    "response.xpath('//span[@class=\"a-size-small a-color-secondary a-text-normal\"]/text()').extract()\n",
    "response.xpath('//span[@class=\"a-size-small a-color-base\"]/div/text()').extract()\n"
   ]
  },
  {
   "cell_type": "markdown",
   "metadata": {},
   "source": [
    "### Ejercicio extraer libros desde Amazon"
   ]
  },
  {
   "cell_type": "code",
   "execution_count": null,
   "metadata": {},
   "outputs": [],
   "source": [
    "PATH = r\"C:\\Users\\msierra\\Desktop\\ScrapApps\\amazontabletas\\amazontabletas\\spiders\\amazontabletas.csv\"\n",
    "\n",
    "import pandas as pd\n",
    "\n",
    "df = pd.read_csv(PATH, usecols=[1,2], encoding = \"utf-8\")\n",
    "df"
   ]
  },
  {
   "cell_type": "code",
   "execution_count": null,
   "metadata": {},
   "outputs": [],
   "source": [
    "### Ejercicio extraer libros desde Amazon\n",
    "\n",
    "1. Abrir la consola y ubicarnos en el directorio cd C:\\Users\\msierra\\Desktop\\ScrapApps\n",
    "2. Creamos el proyecto amazonlibros  scrapy startproject amazonlibros    \n",
    "3. Crear una araña: cd C:\\Users\\msierra\\Desktop\\ScrapApps\\amazonlibros\\amazonlibros\\spiders\n",
    "        \n",
    "        scrapy genspider amazon_libros \"https://www.amazon.es/gp/bestsellers/books\"\n",
    "        \n",
    "4. Modificamos el archivo amazon_libros.py (spiders)\n",
    "\n",
    "import scrapy\n",
    "\n",
    "\n",
    "class AmazonLibrosSpider(scrapy.Spider):\n",
    "    name = 'amazon_libros'\n",
    "    allowed_domains = ['amazon.es']\n",
    "    start_urls = ['https://www.amazon.es/gp/bestsellers/books']\n",
    "\n",
    "    def parse(self, response):\n",
    "        print(\"procesando:\", response.url)\n",
    "\n",
    "        # Extraemos los datos usando selectores css\n",
    "\n",
    "        nombres = response.xpath('//a[@class=\"a-link-normal\"]/span/div/text()').extract()\n",
    "        autores = response.xpath('//span[@class=\"a-size-small a-color-base\"]/div/text()').extract()\n",
    "        precios = response.css(\".p13n-sc-price::text\").extract()\n",
    "        valoracion = response.css(\".a-icon-alt::text\").extract()\n",
    "\n",
    "        # Normalizamos los datos\n",
    "\n",
    "        for item in zip(nombres, autores, precios, valoracion):\n",
    "            scraped_info = {\n",
    "                'pagina': response.url,\n",
    "                'libros': item[0],\n",
    "                'autores': item[1],\n",
    "                'precio': item[2],\n",
    "                'valoracion':item[3]\n",
    "            }\n",
    "            print(scraped_info)\n",
    "            yield scraped_info\n",
    "\n",
    "        NEXT_PAGE_SELECTOR = 'ul.a-pagination > li.a-last > a::attr(href)'\n",
    "        next_page = response.css(NEXT_PAGE_SELECTOR).extract_first()\n",
    "        if next_page:\n",
    "            yield scrapy.Request(response.urljoin(next_page), callback=self.parse)\n",
    "\n",
    "            \n",
    "Insertar las lineas en settings.py\n",
    "\n",
    "FEED_FORMAT=\"csv\"\n",
    "FEED_URI=\"amazonlibros.csv\"\n",
    "\n",
    "5. Ejecutamos la araña desde la terminal scrapy crawl amazon_libros"
   ]
  },
  {
   "cell_type": "markdown",
   "metadata": {},
   "source": [
    "### Ejecutar la araña desde un programa"
   ]
  },
  {
   "cell_type": "code",
   "execution_count": null,
   "metadata": {},
   "outputs": [],
   "source": [
    "from scrapy.crawler import CrawlerProcess\n",
    "from scrapy.utils.project import get_project_settings\n",
    "import os\n",
    "\n",
    "os.chdir(\"C:\\\\Users\\\\msierra\\\\Desktop\\\\ScrapApps\\\\amazonlibros\\\\amazonlibros\\\\spiders\\\\\")\n",
    "\n",
    "\n",
    "process = CrawlerProcess(get_project_settings())\n",
    "\n",
    "process.crawl('amazon_libros')\n",
    "process.start() # the script will block here until the crawling is finished"
   ]
  },
  {
   "cell_type": "code",
   "execution_count": null,
   "metadata": {},
   "outputs": [],
   "source": [
    "PATH = r\"C:\\Users\\msierra\\Desktop\\ScrapApps\\amazonlibros\\amazonlibros\\spiders\\amazonlibros.csv\"\n",
    "\n",
    "import pandas as pd\n",
    "\n",
    "df = pd.read_csv(PATH, usecols=[1,2,3,4], encoding = \"utf-8\")\n",
    "df"
   ]
  },
  {
   "cell_type": "code",
   "execution_count": null,
   "metadata": {},
   "outputs": [],
   "source": [
    "df.info()"
   ]
  },
  {
   "cell_type": "code",
   "execution_count": null,
   "metadata": {},
   "outputs": [],
   "source": [
    "df.groupby([\"autores\"]).size().sort_values(ascending=False)"
   ]
  },
  {
   "cell_type": "code",
   "execution_count": null,
   "metadata": {},
   "outputs": [],
   "source": [
    "df.groupby([\"valoracion\"]).size().sort_values(ascending=False)"
   ]
  },
  {
   "cell_type": "code",
   "execution_count": null,
   "metadata": {},
   "outputs": [],
   "source": [
    "df.sort_values(by=\"libros\", ascending=False)"
   ]
  }
 ],
 "metadata": {
  "kernelspec": {
   "display_name": "Python 3 (ipykernel)",
   "language": "python",
   "name": "python3"
  },
  "language_info": {
   "codemirror_mode": {
    "name": "ipython",
    "version": 3
   },
   "file_extension": ".py",
   "mimetype": "text/x-python",
   "name": "python",
   "nbconvert_exporter": "python",
   "pygments_lexer": "ipython3",
   "version": "3.10.9"
  },
  "toc": {
   "base_numbering": 1,
   "nav_menu": {
    "height": "12px",
    "width": "160px"
   },
   "number_sections": true,
   "sideBar": true,
   "skip_h1_title": false,
   "title_cell": "Table of Contents",
   "title_sidebar": "Contents",
   "toc_cell": false,
   "toc_position": {
    "height": "calc(100% - 180px)",
    "left": "10px",
    "top": "150px",
    "width": "165px"
   },
   "toc_section_display": true,
   "toc_window_display": true
  },
  "varInspector": {
   "cols": {
    "lenName": 16,
    "lenType": 16,
    "lenVar": 40
   },
   "kernels_config": {
    "python": {
     "delete_cmd_postfix": "",
     "delete_cmd_prefix": "del ",
     "library": "var_list.py",
     "varRefreshCmd": "print(var_dic_list())"
    },
    "r": {
     "delete_cmd_postfix": ") ",
     "delete_cmd_prefix": "rm(",
     "library": "var_list.r",
     "varRefreshCmd": "cat(var_dic_list()) "
    }
   },
   "position": {
    "height": "177.848px",
    "left": "748.143px",
    "right": "20px",
    "top": "120px",
    "width": "329px"
   },
   "types_to_exclude": [
    "module",
    "function",
    "builtin_function_or_method",
    "instance",
    "_Feature"
   ],
   "window_display": false
  }
 },
 "nbformat": 4,
 "nbformat_minor": 4
}
