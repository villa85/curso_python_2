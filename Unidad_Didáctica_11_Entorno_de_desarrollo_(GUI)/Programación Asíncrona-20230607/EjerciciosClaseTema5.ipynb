{
 "cells": [
  {
   "cell_type": "markdown",
   "metadata": {},
   "source": [
    "# Ejercicios de Clase Tema 5"
   ]
  },
  {
   "cell_type": "code",
   "execution_count": 12,
   "metadata": {
    "run_control": {
     "marked": false
    }
   },
   "outputs": [
    {
     "name": "stdout",
     "output_type": "stream",
     "text": [
      "Alumno 1 adjuntando comprobante....\n",
      "Alumno 2 adjuntando comprobante....\n",
      "Alumno 3 adjuntando comprobante....\n"
     ]
    }
   ],
   "source": [
    "import threading\n",
    "import time\n",
    "\n",
    "def worker(alumno):\n",
    "    \"\"\"funcion que realiza el trabajo en el thread\"\"\"\n",
    "    print(f'Alumno {alumno} adjuntando comprobante....')\n",
    "    time.sleep(5)\n",
    "    return\n",
    "\n",
    "threads = list()\n",
    "for i in range(1,4):\n",
    "    t = threading.Thread(target=worker, args=(i,))\n",
    "    threads.append(t)\n",
    "    t.start()\n"
   ]
  },
  {
   "cell_type": "code",
   "execution_count": 13,
   "metadata": {},
   "outputs": [
    {
     "data": {
      "text/plain": [
       "[<Thread(Thread-23, stopped 1288)>,\n",
       " <Thread(Thread-24, stopped 12324)>,\n",
       " <Thread(Thread-25, stopped 22120)>]"
      ]
     },
     "execution_count": 13,
     "metadata": {},
     "output_type": "execute_result"
    }
   ],
   "source": [
    " threads"
   ]
  },
  {
   "cell_type": "code",
   "execution_count": 21,
   "metadata": {
    "run_control": {
     "marked": false
    }
   },
   "outputs": [
    {
     "name": "stdout",
     "output_type": "stream",
     "text": [
      "Hilo Worker Iniciando...\n",
      "Hilo Worker En pausa...\n",
      "Thread-30 Iniciando...\n",
      "Thread-30 En pausa...\n",
      "Hilo Servicio Iniciando...\n",
      "\n",
      "*\n",
      "**\n",
      "***\n",
      "****\n",
      "*****\n",
      "******\n",
      "*******\n",
      "********\n",
      "*********\n",
      "Hilo Servicio Finalizando...\n",
      " Finaliza Programa  Principal\n"
     ]
    }
   ],
   "source": [
    "import threading\n",
    "import time\n",
    "\n",
    "\n",
    "def worker():\n",
    "    print(threading.currentThread().getName(), 'Iniciando...')\n",
    "    print(threading.currentThread().getName(), 'En pausa...')\n",
    "    time.sleep(3)\n",
    "    print(threading.currentThread().getName(), 'Finalizando...')\n",
    "def servicio():\n",
    "    print(threading.currentThread().getName(), 'Iniciando...')\n",
    "    for i in range(10):\n",
    "        print(\"*\"*i)\n",
    "    print(threading.currentThread().getName(), 'Finalizando...')\n",
    "\n",
    "t = threading.Thread(target=servicio, name='Hilo Servicio')  # Asignamos un nombre al thread\n",
    "w = threading.Thread(target=worker, name='Hilo Worker') # Asignamos un nombre al thread\n",
    "z = threading.Thread(target=worker) # Thread con su nombre por defecto\n",
    "w.start()\n",
    "z.start()\n",
    "t.start()\n",
    "\n",
    "print(\" Finaliza Programa  Principal\")"
   ]
  },
  {
   "cell_type": "code",
   "execution_count": 17,
   "metadata": {},
   "outputs": [
    {
     "name": "stdout",
     "output_type": "stream",
     "text": [
      "MainThread Iniciando...\n",
      "MainThread En pausa...\n",
      "MainThread Finalizando...\n",
      "MainThread Iniciando...\n",
      "MainThread En pausa...\n",
      "MainThread Finalizando...\n",
      "MainThread Iniciando...\n",
      "\n",
      "*\n",
      "**\n",
      "***\n",
      "****\n",
      "*****\n",
      "******\n",
      "*******\n",
      "********\n",
      "*********\n",
      "MainThread Finalizando...\n"
     ]
    }
   ],
   "source": [
    "worker()\n",
    "worker()\n",
    "servicio()"
   ]
  },
  {
   "cell_type": "markdown",
   "metadata": {},
   "source": [
    "### Crear una subclase de Thread "
   ]
  },
  {
   "cell_type": "markdown",
   "metadata": {},
   "source": [
    "Hasta ahora hemos visto una forma de definir hilos, pasando al método constructor un objeto invocable, como una función, que es llamada cuando se inicia la ejecución del hilo.  La segunda forma, es creando una subclase de thread en la que se reescribe el método run() y/o el constructor __init__()."
   ]
  },
  {
   "cell_type": "code",
   "execution_count": 22,
   "metadata": {
    "run_control": {
     "marked": false
    }
   },
   "outputs": [
    {
     "name": "stdout",
     "output_type": "stream",
     "text": [
      "Ejecutando el hilo principal...\n",
      "    Ejecutando el hilo:   0\n",
      "    Ejecutando el hilo:   1\n",
      "    Ejecutando el hilo:   2\n",
      "Finaliza el hilo principal...\n",
      "Total tiempo: 0:00:03.033369\n"
     ]
    }
   ],
   "source": [
    "import threading \n",
    "import datetime\n",
    "\n",
    "class MiHilo(threading.Thread):  # Declaracion de Clase\n",
    "    \n",
    "    def __init__(self,num): # Constructor de la clase Thread y el hilo como parámetro\n",
    "        threading.Thread.__init__(self)\n",
    "        self.num = num\n",
    "\n",
    "    def run(self):  # Método que ejecutará el hilo al llamarse con el metodo start()\n",
    "        time.sleep(self.num)\n",
    "        print(\"    Ejecutando el hilo:  \",self.num)\n",
    "\n",
    "# Programa Principal\n",
    "\n",
    "tiempoinicial = datetime.datetime.now()\n",
    "print(\"Ejecutando el hilo principal...\")\n",
    "\n",
    "for i in range(0,3):\n",
    "    t = MiHilo(i)\n",
    "    t.start()\n",
    "    t.join() #Espera a que todos los hilos terminen para que finalice el hilo principal\n",
    "\n",
    "print(\"Finaliza el hilo principal...\")\n",
    "\n",
    "tiempofinal = datetime.datetime.now()\n",
    "\n",
    "print(f\"Total tiempo: {tiempofinal-tiempoinicial}\")"
   ]
  },
  {
   "cell_type": "code",
   "execution_count": 25,
   "metadata": {
    "run_control": {
     "marked": false
    }
   },
   "outputs": [
    {
     "name": "stdout",
     "output_type": "stream",
     "text": [
      "Ejecutando el hilo principal...\n",
      "Mostrando números...\n",
      "Imprimiendo letras...\n",
      "Mostrando números...\n",
      "11\n",
      "\n",
      "a\n",
      "22\n",
      "\n",
      "b\n",
      "c3\n",
      "\n",
      "3\n",
      "44\n",
      "\n",
      "d\n",
      "e5\n",
      "\n",
      "5\n",
      "Finaliza el hilo principal...\n"
     ]
    }
   ],
   "source": [
    "import threading\n",
    "import time\n",
    "\n",
    "class HiloNumeros(threading.Thread):\n",
    "    def __init__(self):\n",
    "        threading.Thread.__init__(self)\n",
    "         \n",
    "    def run(self):\n",
    "        a =[\"1\",\"2\",\"3\",\"4\",\"5\"]\n",
    "        print(\"Mostrando números...\")\n",
    "        for i in range(0,5):\n",
    "            time.sleep(5)\n",
    "            print(a[i])\n",
    "\n",
    "class HiloLetras(threading.Thread):\n",
    "    \n",
    "    def __init__(self):\n",
    "        threading.Thread.__init__(self)\n",
    "         \n",
    "    def run(self):   # Programar lo que necesitamos ejecutar en paralelo\n",
    "        a =[\"a\",\"b\",\"c\",\"d\",\"e\"]\n",
    "        print(\"Imprimiendo letras...\")\n",
    "        for i in range(0,5):\n",
    "            time.sleep(2)\n",
    "            print(a[i])\n",
    "\n",
    "# Programa Principal\n",
    "print(\"Ejecutando el hilo principal...\")\n",
    "h1 = HiloNumeros()\n",
    "h2 = HiloLetras()\n",
    "h3 = HiloNumeros()\n",
    "h1.start()\n",
    "h2.start()\n",
    "h3.start()\n",
    "h1.join()\n",
    "h2.join()\n",
    "h3.join()\n",
    "print(\"Finaliza el hilo principal...\")"
   ]
  },
  {
   "cell_type": "code",
   "execution_count": 26,
   "metadata": {},
   "outputs": [
    {
     "name": "stdout",
     "output_type": "stream",
     "text": [
      "Sumar A + B y obtener C utilizando hilos\n",
      "a = 1, b = 10, C[0] = 11\n",
      "a = 20, b = 30, C[1] = 50\n",
      "a = 10, b = 1, C[2] = 11\n",
      "a = 9, b = 2, C[3] = 11\n",
      "a = 8, b = 4, C[4] = 12\n"
     ]
    }
   ],
   "source": [
    "from threading import Thread;\n",
    " \n",
    "A = [1,20,10,9,8];\n",
    "B = [10,30,1,2,4];\n",
    "C = [0,0,0,0,0];\n",
    " \n",
    "\n",
    "def sumar(a, b, pos):\n",
    "    C[pos] = a + b\n",
    "    print(f\"a = {a}, b = {b}, C[{pos}] = {C[pos]}\")\n",
    "\n",
    "# Programa Principal\n",
    "\n",
    "print(\"Sumar A + B y obtener C utilizando hilos\")\n",
    "\n",
    "h1 = Thread(target=sumar,args=(A[0],B[0],0,));\n",
    "h2 = Thread(target=sumar,args=(A[1],B[1],1,));\n",
    "h3 = Thread(target=sumar,args=(A[2],B[2],2,));\n",
    "h4 = Thread(target=sumar,args=(A[3],B[3],3,));\n",
    "h5 = Thread(target=sumar,args=(A[4],B[4],4,));\n",
    "\n",
    "# iniciar hilos\n",
    "\n",
    "h1.start();\n",
    "h2.start();\n",
    "h3.start();\n",
    "h4.start();\n",
    "h5.start();\n",
    "\n",
    "#Sincronizar hilo principal con los demas hilos\n",
    "\n",
    "h1.join();\n",
    "h2.join();\n",
    "h3.join();\n",
    "h4.join();\n",
    "h5.join();\n"
   ]
  },
  {
   "cell_type": "code",
   "execution_count": 27,
   "metadata": {},
   "outputs": [
    {
     "name": "stdout",
     "output_type": "stream",
     "text": [
      "[11, 50, 11, 11, 12]\n"
     ]
    }
   ],
   "source": [
    "print(C)"
   ]
  },
  {
   "cell_type": "code",
   "execution_count": 28,
   "metadata": {},
   "outputs": [
    {
     "name": "stdout",
     "output_type": "stream",
     "text": [
      "Sumar A + B y obtener C\n",
      "a = 1, b = 10, C[0] = 11\n",
      "a = 20, b = 30, C[1] = 50\n",
      "a = 10, b = 1, C[2] = 11\n",
      "a = 9, b = 2, C[3] = 11\n",
      "a = 8, b = 4, C[4] = 12\n"
     ]
    }
   ],
   "source": [
    "A = [1,20,10,9,8];\n",
    "B = [10,30,1,2,4];\n",
    "C = [0,0,0,0,0];\n",
    " \n",
    "\n",
    "def sumar(a, b, pos):\n",
    "    C[pos] = a + b\n",
    "    print(f\"a = {a}, b = {b}, C[{pos}] = {C[pos]}\")\n",
    "\n",
    "# Programa Principal\n",
    "\n",
    "print(\"Sumar A + B y obtener C\")\n",
    "sumar(A[0],B[0],0,)\n",
    "sumar(A[1],B[1],1,)\n",
    "sumar(A[2],B[2],2,)\n",
    "sumar(A[3],B[3],3,)\n",
    "sumar(A[4],B[4],4,)\n"
   ]
  },
  {
   "cell_type": "markdown",
   "metadata": {},
   "source": [
    "## Demonios"
   ]
  },
  {
   "cell_type": "markdown",
   "metadata": {},
   "source": [
    "#### Verificar la salida desde PyCharm EjemploHilosDemonios\n",
    "\n",
    "Para hacer que el hilo principal espere a que el hilo demonio complete su trabajo, utilizaremos el método join() con dicho hilo. El método is_alive() también es útil para conocer si un hilo está o no activo. "
   ]
  },
  {
   "cell_type": "markdown",
   "metadata": {},
   "source": [
    "Description\n",
    "Python method stat() performs a stat system call on the given path.\n",
    "\n",
    "Syntax\n",
    "Following is the syntax for stat() method −\n",
    "\n",
    "os.stat(path)\n",
    "\n",
    "Parameters\n",
    "path − This is the path, whose stat information is required.\n",
    "\n",
    "Return Value\n",
    "Here is the list of members of stat structure −\n",
    "\n",
    "        st_mode − protection bits.\n",
    "        st_ino − inode number.\n",
    "        st_dev − device.\n",
    "        st_nlink − number of hard links.\n",
    "        st_uid − user id of owner.\n",
    "        st_gid − group id of owner.\n",
    "        st_size − size of file, in bytes.\n",
    "        st_atime − time of most recent access.\n",
    "        st_mtime − time of most recent content modification.\n",
    "        st_ctime − time of most recent metadata change."
   ]
  },
  {
   "cell_type": "code",
   "execution_count": 29,
   "metadata": {
    "run_control": {
     "marked": false
    }
   },
   "outputs": [
    {
     "name": "stdout",
     "output_type": "stream",
     "text": [
      "chequear 1 0 bytes\n",
      "escribir 1\n"
     ]
    }
   ],
   "source": [
    "import time, os, threading\n",
    "\n",
    "def chequear(nombre):\n",
    "    '''Chequea tamaño de archivo'''\n",
    "    contador = 0\n",
    "    tam = 0\n",
    "    while contador<100:\n",
    "        contador+=1\n",
    "        if os.path.exists(nombre):\n",
    "            estado = os.stat(nombre)  # os.stat(path)\n",
    "            tam = estado.st_size # st_size − size of file, in bytes.\n",
    "        \n",
    "        print(threading.current_thread().getName(), \n",
    "              contador, \n",
    "              tam, \n",
    "              'bytes')\n",
    "              \n",
    "        time.sleep(0.1)        \n",
    "\n",
    "def escribir(nombre):\n",
    "    '''Escribe en archivo'''    \n",
    "    contador = 1 \n",
    "    while contador<=10:\n",
    "        with open(nombre, 'a') as archivo:\n",
    "            archivo.write('1')            \n",
    "            print(threading.current_thread().getName(), \n",
    "                  contador)\n",
    "            time.sleep(0.3)\n",
    "            contador+=1\n",
    "\n",
    "nombre = 'archivo.txt'\n",
    "if os.path.exists(nombre):\n",
    "    os.remove(nombre)\n",
    "\n",
    "hilo1 = threading.Thread(name='chequear', \n",
    "                         target=chequear,\n",
    "                         args=(nombre,),\n",
    "                         daemon=True)\n",
    "                         \n",
    "hilo2 = threading.Thread(name='escribir',\n",
    "                         target=escribir,\n",
    "                         args=(nombre,))\n",
    "hilo1.start()\n",
    "hilo2.start()"
   ]
  },
  {
   "cell_type": "code",
   "execution_count": 27,
   "metadata": {
    "run_control": {
     "marked": false
    }
   },
   "outputs": [
    {
     "name": "stdout",
     "output_type": "stream",
     "text": [
      "chequear 54 10 bytes\n",
      "chequear 1 0 bytes\n",
      "True\n",
      "escribir 1\n"
     ]
    }
   ],
   "source": [
    "import time, os, threading\n",
    "\n",
    "def chequear(nombre):\n",
    "    '''Chequea tamaño de archivo'''\n",
    "    contador = 0\n",
    "    tam = 0\n",
    "    while contador<100:\n",
    "        contador+=1\n",
    "        if os.path.exists(nombre):\n",
    "            estado = os.stat(nombre)  \n",
    "            tam = estado.st_size\n",
    "        \n",
    "        print(threading.current_thread().getName(), \n",
    "              contador, \n",
    "              tam, \n",
    "              'bytes')\n",
    "              \n",
    "        time.sleep(0.5)        \n",
    "\n",
    "def escribir(nombre):\n",
    "    '''Escribe en archivo'''    \n",
    "    contador = 1 \n",
    "    while contador<=10:\n",
    "        with open(nombre, 'a') as archivo:\n",
    "            archivo.write('1')            \n",
    "            print(threading.current_thread().getName(), \n",
    "                  contador)\n",
    "            time.sleep(0.3)\n",
    "            contador+=1\n",
    "\n",
    "nombre = 'archivo.txt'\n",
    "if os.path.exists(nombre):\n",
    "    os.remove(nombre)\n",
    "\n",
    "hilo1 = threading.Thread(name='chequear', \n",
    "                         target=chequear,\n",
    "                         args=(nombre,),\n",
    "                         daemon=True)\n",
    "                         \n",
    "hilo2 = threading.Thread(name='escribir',\n",
    "                         target=escribir,\n",
    "                         args=(nombre,))\n",
    "hilo1.start()\n",
    "hilo2.start()\n",
    "\n",
    "#hilo2.join()\n",
    "print(hilo1.is_alive())"
   ]
  },
  {
   "cell_type": "markdown",
   "metadata": {},
   "source": [
    "### Controlar la ejecución de varios demonios\n",
    "\n",
    "Cuando un programa utiliza un gran número de demonios y se quiere que el hilo principal espere a que todos los demonios terminen su ejecución, utilizaremos el método join() con cada demonio. Para hacer el seguimiento de los hilos activos se puede emplear enumerate() pero teniendo en cuenta que dentro de la lista que devuelve se incluye el hilo principal. Con este hilo hay que tener cuidado porque no acepta ciertas operaciones: no se puede obtener su nombre con getName() o utilizar el método join().\n",
    "\n",
    "Ejecutar en PyCharm HilosVarios Demonios\n"
   ]
  },
  {
   "cell_type": "code",
   "execution_count": null,
   "metadata": {
    "run_control": {
     "marked": false
    },
    "scrolled": true
   },
   "outputs": [
    {
     "name": "stdout",
     "output_type": "stream",
     "text": [
      "Numero: 1 Id: 19116,  1\n",
      "Numero: 1 Id: 19116,  2\n",
      "Numero: 1 Id: 19116,  3\n",
      "Numero: 1 Id: 19116,  4\n",
      "Numero: 1 Id: 19116,  5\n",
      "Numero: 1 Id: 19116,  6\n",
      "Numero: 1 Id: 19116,  7\n",
      "Numero: 1 Id: 19116,  8\n",
      "Numero: 1 Id: 19116,  9\n",
      "Numero: 1 Id: 19116,  10\n",
      "Numero: 2 Id: 13304,  1Numero: 3 Id: 16036,  1\n",
      "Numero: 3 Id: 16036,  2\n",
      "Numero: 3 Id: 16036,  3\n",
      "Numero: 3 Id: 16036,  4\n",
      "Numero: 3 Id: 16036,  5\n",
      "Numero: 3 Id: 16036,  6\n",
      "Numero: 3 Id: 16036,  7\n",
      "Numero: 3 Id: 16036,  8\n",
      "Numero: 3 Id: 16036,  9\n",
      "Numero: 3 Id: 16036,  10\n",
      "\n",
      "Numero: 4 Id: 6700,  1\n",
      "Numero: 4 Id: 6700,  2\n",
      "Numero: 4 Id: 6700,  3\n",
      "Numero: 4 Id: 6700,  4\n",
      "Numero: 4 Id: 6700,  5\n",
      "Numero: 4 Id: 6700,  6\n",
      "Numero: 4 Id: 6700,  7\n",
      "Numero: 2 Id: 13304,  2Numero: 4 Id: 6700,  8\n",
      "Numero: 4 Id: 6700,  9\n",
      "Numero: 4 Id: 6700,  10\n",
      "Numero: 5 Id: 22304,  1\n",
      "Numero: 5 Id: 22304,  2\n",
      "Numero: 5 Id: 22304,  3\n",
      "Numero: 5 Id: 22304,  4\n",
      "Numero: 5 Id: 22304,  5\n",
      "Numero: 5 Id: 22304,  6\n",
      "Numero: 5 Id: 22304,  7\n",
      "\n",
      "Numero: 2 Id: 13304,  3\n",
      "Numero: 2 Id: 13304,  4\n",
      "Numero: 2 Id: 13304,  5\n",
      "Numero: 2 Id: 13304,  6\n",
      "Numero: 2 Id: 13304,  7\n",
      "Numero: 2 Id: 13304,  8\n",
      "Numero: 2 Id: 13304,  9\n",
      "Numero: 2 Id: 13304,  10\n",
      "Numero: 6 Id: 23840,  1\n",
      "Numero: 6 Id: 23840,  2\n",
      "Numero: 6 Id: 23840,  3\n",
      "Numero: 5 Id: 22304,  8\n",
      "Numero: 5 Id: 22304,  9\n",
      "Numero: 5 Id: 22304,  10\n",
      "Numero: 6 Id: 23840,  4\n",
      "Numero: 6 Id: 23840,  5\n",
      "Numero: 6 Id: 23840,  6\n",
      "Numero: 6 Id: 23840,  7\n",
      "Numero: 6 Id: 23840,  8\n",
      "Numero: 6 Id: 23840,  9\n",
      "Numero: 6 Id: 23840,  10\n",
      "Numero: 7 Id: 10616,  1\n",
      "Numero: 7 Id: 10616,  2\n",
      "Numero: 7 Id: 10616,  3\n",
      "Numero: 7 Id: 10616,  4\n",
      "Numero: 7 Id: 10616,  5\n",
      "Numero: 7 Id: 10616,  6\n",
      "Numero: 7 Id: 10616,  7\n",
      "Numero: 7 Id: 10616,  8\n",
      "Numero: 7 Id: 10616,  9\n",
      "Numero: 7 Id: 10616,  10\n",
      "Numero: 8 Id: 25276,  1\n",
      "Numero: 8 Id: 25276,  2\n",
      "Numero: 8 Id: 25276,  3\n",
      "Numero: 8 Id: 25276,  4\n",
      "Numero: 8 Id: 25276,  5\n",
      "Numero: 8 Id: 25276,  6\n",
      "Numero: 8 Id: 25276,  7\n",
      "Numero: 8 Id: 25276,  8\n",
      "Numero: 8 Id: 25276,  9\n",
      "Numero: 9 Id: 21528,  1\n",
      "Numero: 9 Id: 21528,  2\n",
      "Numero: 9 Id: 21528,  3\n",
      "Numero: 9 Id: 21528,  4\n",
      "Numero: 9 Id: 21528,  5\n",
      "Numero: 9 Id: 21528,  6\n",
      "Numero: 9 Id: 21528,  7\n",
      "Numero: 9 Id: 21528,  8\n",
      "Numero: 9 Id: 21528,  9\n",
      "Numero: 9 Id: 21528,  10\n",
      "Numero: 8 Id: 25276,  10Numero: 10 Id: 12272,  1\n",
      "Numero: 10 Id: 12272,  2\n",
      "Numero: 10 Id: 12272,  3\n",
      "Numero: 10 Id: 12272,  4\n",
      "Numero: 10 Id: 12272,  5\n",
      "Numero: 10 Id: 12272,  6\n",
      "Numero: 10 Id: 12272,  7\n",
      "Numero: 10 Id: 12272,  8\n",
      "Numero: 10 Id: 12272,  9\n",
      "Numero: 10 Id: 12272,  10\n",
      "Nombre: \n",
      " Thread-5 Id:  13672 Demonio:  True Activo:  7\n"
     ]
    }
   ],
   "source": [
    "import threading \n",
    "  \n",
    "def contar(numero): \n",
    "    contador = 0 \n",
    "    while contador < 10: \n",
    "        contador += 1 \n",
    "        print(f\"Numero: {numero} Id: {threading.get_ident()},  {contador}\") \n",
    "\n",
    "for numero in range(1, 11): \n",
    "    hilo = threading.Thread(target=contar, args=(numero,), daemon=True) \n",
    "    hilo.start() \n",
    "\n",
    "# Obtiene hilo principal \n",
    "  \n",
    "hilo_ppal = threading.main_thread() \n",
    " \n",
    "# Recorre hilos activos para controlar estado de su ejecución \n",
    "  \n",
    "for hilo in threading.enumerate(): \n",
    "  \n",
    "     # Si el hilo es hilo_ppal continua al siguiente hilo activo \n",
    "  \n",
    "     if hilo is hilo_ppal: \n",
    "         continue \n",
    "  \n",
    "     # Se obtiene información hilo actual y núm. hilos activos \n",
    "     print(\"Nombre: \", hilo.getName(), \n",
    "           \"Id: \", hilo.ident, \n",
    "           \"Demonio: \", hilo.isDaemon(), \n",
    "           \"Activo: \",threading.active_count()) \n",
    "  \n",
    "     # El programa esperará a que este hilo finalice: \n",
    "  \n",
    "     hilo.join()\n",
    "print(\"Finalizado....\")"
   ]
  },
  {
   "cell_type": "markdown",
   "metadata": {},
   "source": [
    "# Multiprocessing\n"
   ]
  },
  {
   "cell_type": "code",
   "execution_count": null,
   "metadata": {},
   "outputs": [],
   "source": [
    "# Ejemplo de Hilo\n",
    "\n",
    "from threading import Thread\n",
    "\n",
    "def say_hello(name):\n",
    "    print(\"Hello, %s!\" % name)\n",
    "    \n",
    "    \n",
    "if __name__ == \"__main__\":\n",
    "    t = Thread(target=say_hello, args=(\"world\",))\n",
    "    t.start()\n",
    "    t.join()\n"
   ]
  },
  {
   "cell_type": "markdown",
   "metadata": {},
   "source": [
    "Ejecutar en PyCharm Processing.py"
   ]
  },
  {
   "cell_type": "code",
   "execution_count": null,
   "metadata": {},
   "outputs": [],
   "source": [
    "# Ejemplo de multiprocessind\n",
    "\n",
    "from multiprocessing import Process\n",
    "\n",
    "def say_hello(name):\n",
    "    print(\"Hello, %s!\" % name)\n",
    "    \n",
    "if __name__ == '__main__':\n",
    "    p = Process(target=say_hello, args=(\"world\",))\n",
    "    p.start()\n",
    "    p.join()"
   ]
  },
  {
   "cell_type": "markdown",
   "metadata": {},
   "source": [
    "Ejecutar en PyCharm ProcessEjemplo.py"
   ]
  },
  {
   "cell_type": "code",
   "execution_count": null,
   "metadata": {},
   "outputs": [],
   "source": [
    "import os\n",
    "from multiprocessing import Process\n",
    "\n",
    "def info(title):\n",
    "    print(title)\n",
    "    print('Nombre del módulo:', __name__)\n",
    "    print('Proceso padre:', os.getppid())\n",
    "    print('ID del proceso', os.getpid())\n",
    "\n",
    "def tarea(tarea_id):\n",
    "    print('Tarea ', tarea_id)\n",
    "    time.sleep(tarea_id)\n",
    "\n",
    "\n",
    "if __name__ == '__main__':\n",
    "    info('Iniciamos los procesos')\n",
    "    subproceso1 = Process(target=tarea, args=(1,))\n",
    "    subproceso2 = Process(target=tarea, args=(2,))\n",
    "    subproceso3 = Process(target=tarea, args=(3,))\n",
    "    subproceso1.start()\n",
    "    subproceso2.start()\n",
    "    subproceso3.start()\n",
    "    subproceso1.join()\n",
    "    subproceso2.join()\n",
    "    subproceso3.join()\n",
    "    print('Los subprocesos han finalizado...')"
   ]
  },
  {
   "cell_type": "markdown",
   "metadata": {},
   "source": [
    "### Pool\n",
    "Ofrece un medio conveniente para paralelizar la ejecución de una función a través de múltiples valores de entrada, distribuyendo los datos de entrada entre los procesos (paralelismo de datos). \n"
   ]
  },
  {
   "cell_type": "markdown",
   "metadata": {},
   "source": [
    "ejemploPool.py"
   ]
  },
  {
   "cell_type": "code",
   "execution_count": null,
   "metadata": {},
   "outputs": [],
   "source": [
    "from multiprocessing import Pool\n",
    "\n",
    "def f(x):\n",
    "    return x*x\n",
    "\n",
    "if __name__ == '__main__':\n",
    "    with Pool(3) as p:\n",
    "        print(p.map(f, [1, 2, 3, 5, 8, 12]))"
   ]
  },
  {
   "cell_type": "markdown",
   "metadata": {},
   "source": [
    "EjemploURLPool.py"
   ]
  },
  {
   "cell_type": "code",
   "execution_count": 1,
   "metadata": {},
   "outputs": [
    {
     "name": "stdout",
     "output_type": "stream",
     "text": [
      "downloading: downloading:  https://jsonplaceholder.typicode.com/comments\n",
      " https://jsonplaceholder.typicode.com/posts\n",
      "downloading:  https://jsonplaceholder.typicode.com/photos\n",
      "downloading:  https://jsonplaceholder.typicode.com/todos\n",
      "downloading:  https://jsonplaceholder.typicode.com/albums\n",
      "https://jsonplaceholder.typicode.com/comments\n",
      "https://jsonplaceholder.typicode.com/photos\n",
      "https://jsonplaceholder.typicode.com/posts\n",
      "https://jsonplaceholder.typicode.com/todos\n",
      "https://jsonplaceholder.typicode.com/albums\n"
     ]
    }
   ],
   "source": [
    "import os\n",
    "import requests\n",
    "from multiprocessing.pool import ThreadPool\n",
    "\n",
    "PATH_FILE = os.getcwd()\n",
    "\n",
    "\n",
    "def download_url(url):\n",
    "    print(\"downloading: \", url)\n",
    "\n",
    "    PATH_DATA = PATH_FILE + \"/data\"\n",
    "    os.chdir(PATH_DATA )\n",
    "    \n",
    "    file_name_start_pos = url.rfind(\"/\") + 1\n",
    "    file_name = url[file_name_start_pos:]\n",
    "\n",
    "    r = requests.get(url, stream=True)\n",
    "    if r.status_code == requests.codes.ok:\n",
    "        with open(file_name, 'wb') as f:\n",
    "            for data in r:\n",
    "                f.write(data)\n",
    "        return url\n",
    "\n",
    "\n",
    "urls = [\"https://jsonplaceholder.typicode.com/posts\",\n",
    "        \"https://jsonplaceholder.typicode.com/comments\",\n",
    "        \"https://jsonplaceholder.typicode.com/photos\",\n",
    "        \"https://jsonplaceholder.typicode.com/todos\",\n",
    "        \"https://jsonplaceholder.typicode.com/albums\",\n",
    "        ]\n",
    "\n",
    "# Ejecuta n procesos. Cada llamada coge un elemento de la lista urls\n",
    "\n",
    "results = ThreadPool(5).imap_unordered(download_url, urls)\n",
    "for r in results:\n",
    "    print(r)"
   ]
  },
  {
   "cell_type": "markdown",
   "metadata": {},
   "source": [
    "## Intercambiando objetos entre procesos\n",
    "\n",
    "multiprocessing admite dos tipos de canales de comunicación entre procesos: \n",
    "\n",
    "    Colas (queues) \n",
    "    tuberías (pipe)\n",
    "\n",
    "Colas (queues):  Queue devuelve una cola de proceso compartida implementada mediante una tubería. Cuando un proceso coloca por primera vez un elemento en la cola, se inicia un hilo alimentador que transfiere objetos desde un búfer a la tubería.  Las colas (queues) son hilos y procesos seguro.\n",
    "\n"
   ]
  },
  {
   "cell_type": "markdown",
   "metadata": {},
   "source": [
    "EjemploColas"
   ]
  },
  {
   "cell_type": "code",
   "execution_count": null,
   "metadata": {},
   "outputs": [],
   "source": [
    "from multiprocessing import Process, Queue\n",
    "\n",
    "def f(q):\n",
    "    urls = [\"https://jsonplaceholder.typicode.com/posts\",\n",
    "            \"https://jsonplaceholder.typicode.com/comments\",\n",
    "            \"https://jsonplaceholder.typicode.com/photos\",\n",
    "            \"https://jsonplaceholder.typicode.com/todos\",\n",
    "            \"https://jsonplaceholder.typicode.com/albums\",\n",
    "            ]\n",
    "\n",
    "    q.put(urls)\n",
    "\n",
    "if __name__ == '__main__':\n",
    "    q = Queue()\n",
    "    p = Process(target=f, args=(q,))\n",
    "    p.start()\n",
    "    print(q.get())\n",
    "    p.join()"
   ]
  },
  {
   "cell_type": "markdown",
   "metadata": {},
   "source": [
    "Tuberías (Pipes): La función Pipe() retorna un par de objetos de conexión (conn1, conn2) **que representan los extremos de una tubería (pipe)**, por defecto, es un dúplex (bidireccional). \n",
    "\n",
    "    •\tSi duplex es True (el valor predeterminado), entonces la tubería (pipe) es bidireccional. \n",
    "    •\tSi duplex es False, entonces la tubería es unidireccional: conn1 solo se puede usar para recibir mensajes y conn2 solo se puede usar para enviar mensajes.\n",
    "\n",
    "Cada objeto de conexión tiene los métodos send() y recv() (entre otros).  Lo que enviemos a través de uno de estos objetos (mediante su método send) se recibirá en el otro (mediante su método recv) y viceversa.   \n",
    "\n",
    "El método recv() bloquea el proceso actual hasta que se recibe algo enviado por el método send(). Por eso, el uso una tubería implica que debemos establecer un protocolo de comunicación entre los dos extremos, para que cada recv() se corresponda con un send() en el otro lado.\n",
    "\n",
    "los datos en una tubería pueden corromperse si dos procesos (o hilos) intentan leer o escribir en el mismo extremo de la tubería al mismo tiempo. Por supuesto, no hay riesgo de corrupción por procesos que utilizan diferentes extremos de la tubería (pipe) al mismo tiempo.\n",
    "\n",
    "Cuando utilizar Pipe() o Queue():\n",
    "\n",
    "    •\tPipe() sólo puede tener dos puntos finales\n",
    "    •\tQueue() puede tener multiples productores y consumidores. \n",
    "\n",
    "En conclusión, si necesitamos más de dos puntos de comunicación, utilizamos Queue y si necesitamos rendimiento, utilizamos pipe() que es mas rápido que queue.\n"
   ]
  },
  {
   "cell_type": "markdown",
   "metadata": {},
   "source": [
    "EjemploPipes"
   ]
  },
  {
   "cell_type": "code",
   "execution_count": null,
   "metadata": {},
   "outputs": [],
   "source": [
    "from multiprocessing import Process, Pipe\n",
    "\n",
    "def f(conn):\n",
    "    urls = [\"https://jsonplaceholder.typicode.com/posts\",\n",
    "        \"https://jsonplaceholder.typicode.com/comments\",\n",
    "        \"https://jsonplaceholder.typicode.com/photos\",\n",
    "        \"https://jsonplaceholder.typicode.com/todos\",\n",
    "        \"https://jsonplaceholder.typicode.com/albums\",\n",
    "        ]\n",
    "    conn.send(urls)\n",
    "    conn.close()\n",
    "\n",
    "if __name__ == '__main__':\n",
    "    parent_conn, child_conn = Pipe()\n",
    "    p = Process(target=f, args=(child_conn,))\n",
    "    p.start()\n",
    "    print(parent_conn.recv())   \n",
    "    p.join()"
   ]
  },
  {
   "cell_type": "markdown",
   "metadata": {},
   "source": [
    "### Memoria compartida\n",
    "\n",
    "Los datos se pueden almacenar en un mapa de memoria compartida usando Value o Array. \n"
   ]
  },
  {
   "cell_type": "markdown",
   "metadata": {},
   "source": [
    "EjemploValueArray.py"
   ]
  },
  {
   "cell_type": "code",
   "execution_count": 2,
   "metadata": {},
   "outputs": [
    {
     "name": "stdout",
     "output_type": "stream",
     "text": [
      "0.0\n",
      "[0, 1, 2, 3, 4, 5, 6, 7, 8, 9]\n"
     ]
    }
   ],
   "source": [
    "from multiprocessing import Process, Value, Array\n",
    "\n",
    "def f(n, a):\n",
    "    n.value = 3.1415927\n",
    "    for i in range(len(a)):\n",
    "        a[i] = -a[i]\n",
    "\n",
    "if __name__ == '__main__':\n",
    "    num = Value('d', 0.0)  # Almacena en memoria compartida\n",
    "    arr = Array('i', range(10)) # Almacena en memoria compartida\n",
    "\n",
    "    p = Process(target=f, args=(num, arr))\n",
    "    p.start()\n",
    "    p.join()\n",
    "\n",
    "    print(num.value)\n",
    "    print(arr[:])"
   ]
  },
  {
   "cell_type": "markdown",
   "metadata": {},
   "source": [
    "### asyncio — E/S Asíncrona\n",
    "\n",
    "    •\tasyncio es una biblioteca para escribir código concurrente utilizando la sintaxis: async/await.\n",
    "    •\tasyncio es utilizado como base en múltiples frameworks asíncronos de Python y provee un alto rendimiento en redes\n",
    "         y servidores web, bibliotecas de conexión de base de datos, colas de tareas distribuidas, etc.\n",
    "    •\tasyncio suele encajar perfectamente para operaciones con límite de E/S y código de red estructurado de alto nivel.\n",
    "\n",
    "    asyncio provee un conjunto de APIs de alto nivel para:\n",
    "\n",
    "    •\tejecutar corutinas de Python de manera concurrente y tener control total sobre su ejecución;\n",
    "    •\trealizar redes E/S y comunicación entre procesos;\n",
    "    •\tcontrolar subprocesos;\n",
    "    •\tdistribuir tareas a través de colas;\n",
    "    \n",
    "    \n",
    "### Corutinas\n",
    "\n",
    "Coroutines se declara con la sintaxis async/await es la forma preferida de escribir aplicaciones asyncio. \n",
    "\n",
    "Para ejecutar una corrutina, asyncio proporciona tres mecanismos principales:\n",
    "\n",
    "    •\tLa función asyncio.run() para ejecutar la función de punto de entrada de nivel superior main().  \n",
    "    •\tawait() en una corrutina.\n",
    "    •\tLa función asyncio.create_task () para ejecutar corutinas simultáneamente como tareas asyncio.\n",
    "\n"
   ]
  },
  {
   "cell_type": "code",
   "execution_count": null,
   "metadata": {},
   "outputs": [],
   "source": [
    "En Jupyter"
   ]
  },
  {
   "cell_type": "code",
   "execution_count": 12,
   "metadata": {},
   "outputs": [
    {
     "name": "stdout",
     "output_type": "stream",
     "text": [
      "Hello ...\n",
      "... World!\n"
     ]
    }
   ],
   "source": [
    "import asyncio\n",
    "\n",
    "async def main():\n",
    "    print('Hello ...')\n",
    "    await asyncio.sleep(1)\n",
    "    print('... World!')\n",
    "    \n",
    "await main()"
   ]
  },
  {
   "cell_type": "code",
   "execution_count": null,
   "metadata": {},
   "outputs": [],
   "source": [
    "import asyncio\n",
    "\n",
    "async def main():\n",
    "    print('Hello ...')\n",
    "    await asyncio.sleep(1)\n",
    "    print('... World!')\n",
    "\n",
    "# Python 3.7+\n",
    "  \n",
    "asyncio.run(main())"
   ]
  },
  {
   "cell_type": "markdown",
   "metadata": {},
   "source": [
    "Esto sucede, porque asyncio no se puede llamar cuando otro bucle de eventos asyncio se está ejecutando en el mismo hilo.   El caso es que el Notebook Jupyter (IPython) ya está ejecutando un bucle de eventos."
   ]
  },
  {
   "cell_type": "code",
   "execution_count": 5,
   "metadata": {},
   "outputs": [
    {
     "data": {
      "text/plain": [
       "<coroutine object main at 0x0000016F7373B140>"
      ]
     },
     "execution_count": 5,
     "metadata": {},
     "output_type": "execute_result"
    }
   ],
   "source": [
    "main()  # no podemos invocar una subrutina directamente"
   ]
  },
  {
   "cell_type": "code",
   "execution_count": 13,
   "metadata": {},
   "outputs": [
    {
     "name": "stdout",
     "output_type": "stream",
     "text": [
      "started at 20:02:49\n",
      "hello\n",
      "world\n",
      "finished at 20:02:52\n"
     ]
    }
   ],
   "source": [
    "# Esperando en una corutina\n",
    "\n",
    "import asyncio\n",
    "import time\n",
    "\n",
    "async def say_after(delay, what):\n",
    "    await asyncio.sleep(delay)\n",
    "    print(what)\n",
    "\n",
    "async def main():\n",
    "    print(f\"started at {time.strftime('%X')}\")  # muestra la fecha en el formato de la configuración regional\n",
    "\n",
    "    await say_after(1, 'hello')\n",
    "    await say_after(2, 'world')\n",
    "\n",
    "    print(f\"finished at {time.strftime('%X')}\")\n",
    "\n",
    "# asyncio.run(main())\n",
    "await main()"
   ]
  },
  {
   "cell_type": "code",
   "execution_count": 14,
   "metadata": {},
   "outputs": [
    {
     "name": "stdout",
     "output_type": "stream",
     "text": [
      "started at 20:05:36\n",
      "hello\n",
      "world\n",
      "finished at 20:05:38\n"
     ]
    }
   ],
   "source": [
    "# ejecutaremos dos corrutinas say_after al mismo tiempo:\n",
    "\n",
    "import asyncio\n",
    "import time\n",
    "\n",
    "\n",
    "async def say_after(delay, what):\n",
    "    await asyncio.sleep(delay)\n",
    "    print(what)\n",
    "\n",
    "\n",
    "async def main():\n",
    "    task1 = asyncio.create_task(say_after(2, 'hello'))\n",
    "    task2 = asyncio.create_task(say_after(2, 'world'))\n",
    "    print(f\"started at {time.strftime('%X')}\")\n",
    "\n",
    "    # Espera hasta que ambas tareas terminen\n",
    "    await task1\n",
    "    await task2\n",
    "\n",
    "    print(f\"finished at {time.strftime('%X')}\")\n",
    "    \n",
    "#asyncio.run(main())\n",
    "\n",
    "await main()"
   ]
  },
  {
   "cell_type": "markdown",
   "metadata": {},
   "source": [
    "gather(): La función gather() ejecuta objetos awaitables, en la secuencia proporcionada en aws, de forma concurrente, y espera a que finalicen. Si el objeto awaitable es una co-rutina se programa automáticamente como un Task.\n",
    "\n",
    "Sintaxis: \n",
    "asyncio.gather(*aws)\n",
    "\n",
    "Una vez que todos los awaitables se acaban de ejecutar, la función retorna una lista con los valores retornados por cada awaitable, en el mismo orden en el cual son pasados en aws.\n"
   ]
  },
  {
   "cell_type": "code",
   "execution_count": 15,
   "metadata": {},
   "outputs": [
    {
     "name": "stdout",
     "output_type": "stream",
     "text": [
      "Task A: Compute factorial(2)...\n",
      "Task B: Compute factorial(2)...\n",
      "Task C: Compute factorial(2)...\n",
      "Task A: factorial(2) = 2\n",
      "Task B: Compute factorial(3)...\n",
      "Task C: Compute factorial(3)...\n",
      "Task B: factorial(3) = 6\n",
      "Task C: Compute factorial(4)...\n",
      "Task C: factorial(4) = 24\n"
     ]
    }
   ],
   "source": [
    "import asyncio\n",
    "\n",
    "async def factorial(name, number):\n",
    "    f = 1\n",
    "    for i in range(2, number + 1):\n",
    "        print(f\"Task {name}: Compute factorial({i})...\")\n",
    "        await asyncio.sleep(1)\n",
    "        f *= i\n",
    "    print(f\"Task {name}: factorial({number}) = {f}\")\n",
    "\n",
    "async def main():\n",
    "    # Programa 3 llamadas de forma concurrente en el orden indicado:\n",
    "    await asyncio.gather(\n",
    "        factorial(\"A\", 2),\n",
    "        factorial(\"B\", 3),\n",
    "        factorial(\"C\", 4),\n",
    "   )\n",
    "\n",
    "#asyncio.run(main())\n",
    "await main()"
   ]
  },
  {
   "cell_type": "markdown",
   "metadata": {},
   "source": [
    "### Temporizadores.\n",
    "\n",
    "Hemos visto que los hilos se ejecutan después de invocar el método start() y están vivos mientras se está ejecutando su código. Habrá ocasiones donde nos interesa comenzar la ejecución de un hilo en un momento dado del tiempo, o poder repetir su ejecución periódicamente.\n",
    "\n",
    "#### Programación de un hilo en el tiempo.\n",
    "\n",
    "Un temporizador (Timer) es un tipo de hilo especial que permite programar su ejecución en el tiempo. La clase threading.Timer hereda de threading.Thread, y añade un método cancel() que permite cancelar su programación. En el constructor de Timer también podemos pasar argumentos.\n",
    "\n",
    "Veamos primero un ejemplo de un temporizador que programa un hilo para que muestre la hora actual dentro de 5 segundos:\n"
   ]
  },
  {
   "cell_type": "code",
   "execution_count": 16,
   "metadata": {},
   "outputs": [
    {
     "name": "stdout",
     "output_type": "stream",
     "text": [
      "Lanzamos el hilo en: 20:15:56\n"
     ]
    }
   ],
   "source": [
    "import threading, time\n",
    "\n",
    "def mostrarHora():\n",
    "    print(\"Se ejecuta en:\", time.strftime('%H:%M:%S'))\n",
    "    \n",
    "hilo = threading.Timer(1, mostrarHora);\n",
    "print(\"Lanzamos el hilo en:\", time.strftime('%H:%M:%S'))\n",
    "hilo.start()\n"
   ]
  },
  {
   "cell_type": "code",
   "execution_count": 17,
   "metadata": {},
   "outputs": [],
   "source": [
    "# Podemos pasar argumentos\n",
    "funcion = lambda msg: print(msg)\n",
    "hilo = threading.Timer(3, funcion, args=(\"Hola mundo!\",) )\n",
    "hilo.start()"
   ]
  },
  {
   "cell_type": "code",
   "execution_count": 6,
   "metadata": {},
   "outputs": [],
   "source": [
    "# Algunos ejemplos"
   ]
  },
  {
   "cell_type": "code",
   "execution_count": 7,
   "metadata": {},
   "outputs": [],
   "source": [
    "def run(port=None):\n",
    "    import webbrowser, threading\n",
    "\n",
    "    if port is None:\n",
    "        port = getRandomPort()\n",
    "\n",
    "    # load()\n",
    "    url = \"http://127.0.0.1:{}/\".format(port)\n",
    "    logging.info(\"Starting browser at {}\".format(url))\n",
    "    # webbrowser.open_new(url)\n",
    "\n",
    "    threading.Timer(1.25, lambda: webbrowser.open(url) ).start()\n",
    "\n",
    "    app.run(\n",
    "        port=port#,\n",
    "        # debug=True\n",
    "    ) "
   ]
  },
  {
   "cell_type": "code",
   "execution_count": 9,
   "metadata": {},
   "outputs": [],
   "source": [
    "def stop_button_cmd():\n",
    "    \"\"\"\n",
    "    Stop button click handler\n",
    "    \"\"\"\n",
    "    # Do some routines for stopping calculation\n",
    "    calculation_stop()\n",
    "    # Stop algorithm's process\n",
    "    search_process.terminate()\n",
    "    output_pipe.close()\n",
    "    # Stop timer thread and stop refreshing status bar\n",
    "    timer_event.set()\n",
    "    # Clear status labels\n",
    "    threading.Timer(0.1, max_ram_var.set, args=('',)).start()\n",
    "    threading.Timer(0.1, cpu_var.set, args=('',)).start()\n",
    "    threading.Timer(0.1, ram_var.set, args=('',)).start()\n",
    "\n",
    "\n",
    "# Action buttons\n",
    "#\n",
    "# Output stop widget and it's border frame "
   ]
  },
  {
   "cell_type": "code",
   "execution_count": null,
   "metadata": {},
   "outputs": [],
   "source": [
    "def browser_authorize(self):\n",
    "        \"\"\"\n",
    "        Open a browser to the authorization url and spool up a CherryPy\n",
    "        server to accept the response\n",
    "        \"\"\"\n",
    "        url, _ = self.oauth.authorize_token_url(redirect_uri=self.redirect_uri)\n",
    "        # Open the web browser in a new thread for command-line browser support\n",
    "        threading.Timer(1, webbrowser.open, args=(url,)).start()\n",
    "        cherrypy.quickstart(self) "
   ]
  },
  {
   "cell_type": "code",
   "execution_count": 11,
   "metadata": {},
   "outputs": [],
   "source": [
    "def _shutdown_cherrypy(self):\n",
    "        \"\"\" Shutdown cherrypy in one second, if it's running \"\"\"\n",
    "        if cherrypy.engine.state == cherrypy.engine.states.STARTED:\n",
    "            threading.Timer(1, cherrypy.engine.exit).start() "
   ]
  },
  {
   "cell_type": "code",
   "execution_count": null,
   "metadata": {},
   "outputs": [],
   "source": []
  }
 ],
 "metadata": {
  "kernelspec": {
   "display_name": "Python 3 (ipykernel)",
   "language": "python",
   "name": "python3"
  },
  "language_info": {
   "codemirror_mode": {
    "name": "ipython",
    "version": 3
   },
   "file_extension": ".py",
   "mimetype": "text/x-python",
   "name": "python",
   "nbconvert_exporter": "python",
   "pygments_lexer": "ipython3",
   "version": "3.8.5"
  },
  "toc": {
   "base_numbering": 1,
   "nav_menu": {},
   "number_sections": true,
   "sideBar": true,
   "skip_h1_title": false,
   "title_cell": "Table of Contents",
   "title_sidebar": "Contents",
   "toc_cell": false,
   "toc_position": {},
   "toc_section_display": true,
   "toc_window_display": false
  },
  "varInspector": {
   "cols": {
    "lenName": 16,
    "lenType": 16,
    "lenVar": 40
   },
   "kernels_config": {
    "python": {
     "delete_cmd_postfix": "",
     "delete_cmd_prefix": "del ",
     "library": "var_list.py",
     "varRefreshCmd": "print(var_dic_list())"
    },
    "r": {
     "delete_cmd_postfix": ") ",
     "delete_cmd_prefix": "rm(",
     "library": "var_list.r",
     "varRefreshCmd": "cat(var_dic_list()) "
    }
   },
   "types_to_exclude": [
    "module",
    "function",
    "builtin_function_or_method",
    "instance",
    "_Feature"
   ],
   "window_display": false
  }
 },
 "nbformat": 4,
 "nbformat_minor": 4
}
